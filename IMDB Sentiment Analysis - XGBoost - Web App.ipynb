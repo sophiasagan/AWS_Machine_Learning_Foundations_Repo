{
 "cells": [
  {
   "cell_type": "markdown",
   "metadata": {},
   "source": [
    "# Sentiment Analysis Web App\n",
    "\n",
    "_Deep Learning Nanodegree Program | Deployment_\n",
    "\n",
    "---\n",
    "\n",
    "In this notebook we will use Amazon's SageMaker service to construct a random tree model to predict the sentiment of a movie review. In addition, we will deploy this model to an endpoint and construct a very simple web app which will interact with our model's deployed endpoint.\n",
    "\n",
    "## General Outline\n",
    "\n",
    "Typically, when using a notebook instance with SageMaker, you will proceed through the following steps. Of course, not every step will need to be done with each project. Also, there is quite a lot of room for variation in many of the steps, as you will see throughout these lessons.\n",
    "\n",
    "1. Download or otherwise retrieve the data.\n",
    "2. Process / Prepare the data.\n",
    "3. Upload the processed data to S3.\n",
    "4. Train a chosen model.\n",
    "5. Test the trained model (typically using a batch transform job).\n",
    "6. Deploy the trained model.\n",
    "7. Use the deployed model.\n",
    "\n",
    "In this notebook we will progress through each of the steps above. We will also see that the final step, using the deployed model, can be quite challenging."
   ]
  },
  {
   "cell_type": "code",
   "execution_count": 1,
   "metadata": {},
   "outputs": [
    {
     "name": "stdout",
     "output_type": "stream",
     "text": [
      "Collecting sagemaker==1.72.0\n",
      "  Downloading sagemaker-1.72.0.tar.gz (297 kB)\n",
      "\u001b[K     |████████████████████████████████| 297 kB 23.7 MB/s eta 0:00:01\n",
      "\u001b[?25hRequirement already satisfied: boto3>=1.14.12 in /home/ec2-user/anaconda3/envs/python3/lib/python3.6/site-packages (from sagemaker==1.72.0) (1.18.21)\n",
      "Requirement already satisfied: numpy>=1.9.0 in /home/ec2-user/anaconda3/envs/python3/lib/python3.6/site-packages (from sagemaker==1.72.0) (1.19.5)\n",
      "Requirement already satisfied: protobuf>=3.1 in /home/ec2-user/anaconda3/envs/python3/lib/python3.6/site-packages (from sagemaker==1.72.0) (3.15.2)\n",
      "Requirement already satisfied: scipy>=0.19.0 in /home/ec2-user/anaconda3/envs/python3/lib/python3.6/site-packages (from sagemaker==1.72.0) (1.5.3)\n",
      "Requirement already satisfied: protobuf3-to-dict>=0.1.5 in /home/ec2-user/anaconda3/envs/python3/lib/python3.6/site-packages (from sagemaker==1.72.0) (0.1.5)\n",
      "Collecting smdebug-rulesconfig==0.1.4\n",
      "  Downloading smdebug_rulesconfig-0.1.4-py2.py3-none-any.whl (10 kB)\n",
      "Requirement already satisfied: importlib-metadata>=1.4.0 in /home/ec2-user/anaconda3/envs/python3/lib/python3.6/site-packages (from sagemaker==1.72.0) (3.7.0)\n",
      "Requirement already satisfied: packaging>=20.0 in /home/ec2-user/anaconda3/envs/python3/lib/python3.6/site-packages (from sagemaker==1.72.0) (20.9)\n",
      "Requirement already satisfied: botocore<1.22.0,>=1.21.21 in /home/ec2-user/anaconda3/envs/python3/lib/python3.6/site-packages (from boto3>=1.14.12->sagemaker==1.72.0) (1.21.21)\n",
      "Requirement already satisfied: jmespath<1.0.0,>=0.7.1 in /home/ec2-user/anaconda3/envs/python3/lib/python3.6/site-packages (from boto3>=1.14.12->sagemaker==1.72.0) (0.10.0)\n",
      "Requirement already satisfied: s3transfer<0.6.0,>=0.5.0 in /home/ec2-user/anaconda3/envs/python3/lib/python3.6/site-packages (from boto3>=1.14.12->sagemaker==1.72.0) (0.5.0)\n",
      "Requirement already satisfied: python-dateutil<3.0.0,>=2.1 in /home/ec2-user/anaconda3/envs/python3/lib/python3.6/site-packages (from botocore<1.22.0,>=1.21.21->boto3>=1.14.12->sagemaker==1.72.0) (2.8.1)\n",
      "Requirement already satisfied: urllib3<1.27,>=1.25.4 in /home/ec2-user/anaconda3/envs/python3/lib/python3.6/site-packages (from botocore<1.22.0,>=1.21.21->boto3>=1.14.12->sagemaker==1.72.0) (1.26.6)\n",
      "Requirement already satisfied: zipp>=0.5 in /home/ec2-user/anaconda3/envs/python3/lib/python3.6/site-packages (from importlib-metadata>=1.4.0->sagemaker==1.72.0) (3.4.0)\n",
      "Requirement already satisfied: typing-extensions>=3.6.4 in /home/ec2-user/anaconda3/envs/python3/lib/python3.6/site-packages (from importlib-metadata>=1.4.0->sagemaker==1.72.0) (3.7.4.3)\n",
      "Requirement already satisfied: pyparsing>=2.0.2 in /home/ec2-user/anaconda3/envs/python3/lib/python3.6/site-packages (from packaging>=20.0->sagemaker==1.72.0) (2.4.7)\n",
      "Requirement already satisfied: six>=1.9 in /home/ec2-user/anaconda3/envs/python3/lib/python3.6/site-packages (from protobuf>=3.1->sagemaker==1.72.0) (1.15.0)\n",
      "Building wheels for collected packages: sagemaker\n",
      "  Building wheel for sagemaker (setup.py) ... \u001b[?25ldone\n",
      "\u001b[?25h  Created wheel for sagemaker: filename=sagemaker-1.72.0-py2.py3-none-any.whl size=386358 sha256=5d8003ad414ef011a5aac735500cd36709afe03b73f4af26de90ec53a6013b2a\n",
      "  Stored in directory: /home/ec2-user/.cache/pip/wheels/c3/58/70/85faf4437568bfaa4c419937569ba1fe54d44c5db42406bbd7\n",
      "Successfully built sagemaker\n",
      "Installing collected packages: smdebug-rulesconfig, sagemaker\n",
      "  Attempting uninstall: smdebug-rulesconfig\n",
      "    Found existing installation: smdebug-rulesconfig 1.0.1\n",
      "    Uninstalling smdebug-rulesconfig-1.0.1:\n",
      "      Successfully uninstalled smdebug-rulesconfig-1.0.1\n",
      "  Attempting uninstall: sagemaker\n",
      "    Found existing installation: sagemaker 2.48.1\n",
      "    Uninstalling sagemaker-2.48.1:\n",
      "      Successfully uninstalled sagemaker-2.48.1\n",
      "Successfully installed sagemaker-1.72.0 smdebug-rulesconfig-0.1.4\n",
      "\u001b[33mWARNING: You are using pip version 21.1.3; however, version 21.2.4 is available.\n",
      "You should consider upgrading via the '/home/ec2-user/anaconda3/envs/python3/bin/python -m pip install --upgrade pip' command.\u001b[0m\n"
     ]
    }
   ],
   "source": [
    "# Make sure that we use SageMaker 1.x\n",
    "!pip install sagemaker==1.72.0"
   ]
  },
  {
   "cell_type": "markdown",
   "metadata": {},
   "source": [
    "## Step 1: Downloading the data\n",
    "\n",
    "The dataset we are going to use is very popular among researchers in Natural Language Processing, usually referred to as the [IMDb dataset](http://ai.stanford.edu/~amaas/data/sentiment/). It consists of movie reviews from the website [imdb.com](http://www.imdb.com/), each labeled as either '**pos**itive', if the reviewer enjoyed the film, or '**neg**ative' otherwise.\n",
    "\n",
    "> Maas, Andrew L., et al. [Learning Word Vectors for Sentiment Analysis](http://ai.stanford.edu/~amaas/data/sentiment/). In _Proceedings of the 49th Annual Meeting of the Association for Computational Linguistics: Human Language Technologies_. Association for Computational Linguistics, 2011.\n",
    "\n",
    "We begin by using some Jupyter Notebook magic to download and extract the dataset."
   ]
  },
  {
   "cell_type": "code",
   "execution_count": 2,
   "metadata": {},
   "outputs": [
    {
     "name": "stdout",
     "output_type": "stream",
     "text": [
      "mkdir: cannot create directory ‘../data’: File exists\n",
      "--2021-08-21 23:57:21--  http://ai.stanford.edu/~amaas/data/sentiment/aclImdb_v1.tar.gz\n",
      "Resolving ai.stanford.edu (ai.stanford.edu)... 171.64.68.10\n",
      "Connecting to ai.stanford.edu (ai.stanford.edu)|171.64.68.10|:80... connected.\n",
      "HTTP request sent, awaiting response... 200 OK\n",
      "Length: 84125825 (80M) [application/x-gzip]\n",
      "Saving to: ‘../data/aclImdb_v1.tar.gz’\n",
      "\n",
      "../data/aclImdb_v1. 100%[===================>]  80.23M  24.3MB/s    in 4.5s    \n",
      "\n",
      "2021-08-21 23:57:26 (17.9 MB/s) - ‘../data/aclImdb_v1.tar.gz’ saved [84125825/84125825]\n",
      "\n"
     ]
    }
   ],
   "source": [
    "%mkdir ../data\n",
    "!wget -O ../data/aclImdb_v1.tar.gz http://ai.stanford.edu/~amaas/data/sentiment/aclImdb_v1.tar.gz\n",
    "!tar -zxf ../data/aclImdb_v1.tar.gz -C ../data"
   ]
  },
  {
   "cell_type": "markdown",
   "metadata": {},
   "source": [
    "## Step 2: Preparing and Processing the data\n",
    "\n",
    "The data we have downloaded is split into various files, each of which contains a single review. It will be much easier going forward if we combine these individual files into two large files, one for training and one for testing."
   ]
  },
  {
   "cell_type": "code",
   "execution_count": 3,
   "metadata": {},
   "outputs": [],
   "source": [
    "import os\n",
    "import glob\n",
    "\n",
    "def read_imdb_data(data_dir='../data/aclImdb'):\n",
    "    data = {}\n",
    "    labels = {}\n",
    "    \n",
    "    for data_type in ['train', 'test']:\n",
    "        data[data_type] = {}\n",
    "        labels[data_type] = {}\n",
    "        \n",
    "        for sentiment in ['pos', 'neg']:\n",
    "            data[data_type][sentiment] = []\n",
    "            labels[data_type][sentiment] = []\n",
    "            \n",
    "            path = os.path.join(data_dir, data_type, sentiment, '*.txt')\n",
    "            files = glob.glob(path)\n",
    "            \n",
    "            for f in files:\n",
    "                with open(f) as review:\n",
    "                    data[data_type][sentiment].append(review.read())\n",
    "                    # Here we represent a positive review by '1' and a negative review by '0'\n",
    "                    labels[data_type][sentiment].append(1 if sentiment == 'pos' else 0)\n",
    "                    \n",
    "            assert len(data[data_type][sentiment]) == len(labels[data_type][sentiment]), \\\n",
    "                    \"{}/{} data size does not match labels size\".format(data_type, sentiment)\n",
    "                \n",
    "    return data, labels"
   ]
  },
  {
   "cell_type": "code",
   "execution_count": 4,
   "metadata": {},
   "outputs": [
    {
     "name": "stdout",
     "output_type": "stream",
     "text": [
      "IMDB reviews: train = 12500 pos / 12500 neg, test = 12500 pos / 12500 neg\n"
     ]
    }
   ],
   "source": [
    "data, labels = read_imdb_data()\n",
    "print(\"IMDB reviews: train = {} pos / {} neg, test = {} pos / {} neg\".format(\n",
    "            len(data['train']['pos']), len(data['train']['neg']),\n",
    "            len(data['test']['pos']), len(data['test']['neg'])))"
   ]
  },
  {
   "cell_type": "code",
   "execution_count": 5,
   "metadata": {},
   "outputs": [],
   "source": [
    "from sklearn.utils import shuffle\n",
    "\n",
    "def prepare_imdb_data(data, labels):\n",
    "    \"\"\"Prepare training and test sets from IMDb movie reviews.\"\"\"\n",
    "    \n",
    "    #Combine positive and negative reviews and labels\n",
    "    data_train = data['train']['pos'] + data['train']['neg']\n",
    "    data_test = data['test']['pos'] + data['test']['neg']\n",
    "    labels_train = labels['train']['pos'] + labels['train']['neg']\n",
    "    labels_test = labels['test']['pos'] + labels['test']['neg']\n",
    "    \n",
    "    #Shuffle reviews and corresponding labels within training and test sets\n",
    "    data_train, labels_train = shuffle(data_train, labels_train)\n",
    "    data_test, labels_test = shuffle(data_test, labels_test)\n",
    "    \n",
    "    # Return a unified training data, test data, training labels, test labets\n",
    "    return data_train, data_test, labels_train, labels_test"
   ]
  },
  {
   "cell_type": "code",
   "execution_count": 6,
   "metadata": {},
   "outputs": [
    {
     "name": "stdout",
     "output_type": "stream",
     "text": [
      "IMDb reviews (combined): train = 25000, test = 25000\n"
     ]
    }
   ],
   "source": [
    "train_X, test_X, train_y, test_y = prepare_imdb_data(data, labels)\n",
    "print(\"IMDb reviews (combined): train = {}, test = {}\".format(len(train_X), len(test_X)))"
   ]
  },
  {
   "cell_type": "code",
   "execution_count": 7,
   "metadata": {},
   "outputs": [
    {
     "data": {
      "text/plain": [
       "'i think that new york is a big fake, i mean her whole guidelines of this show is stupid. i enjoyed flavor fl av more better, she acts like a slut, and a hoe put together. her mother is out of this world, i think she is the devils daughter. i mean what does she think she is doing these men already have girls and i believe once you have been with her you will be to ashamed to go back to your girl. she is nasty, spoiled and a big fat fake.the show is very interesting to watch, how much money is she getting to do this awful show, and whats up with her mother,i thought her and new york did not get along, but now it seems as though she is just as fake as her crazy daughter.and where is the so called husband, he is no where to be found,i would not to be with them either.'"
      ]
     },
     "execution_count": 7,
     "metadata": {},
     "output_type": "execute_result"
    }
   ],
   "source": [
    "train_X[100]"
   ]
  },
  {
   "cell_type": "markdown",
   "metadata": {},
   "source": [
    "## Processing the data\n",
    "\n",
    "Now that we have our training and testing datasets merged and ready to use, we need to start processing the raw data into something that will be useable by our machine learning algorithm. To begin with, we remove any html formatting and any non-alpha numeric characters that may appear in the reviews. We will do this in a very simplistic way using Python's regular expression module. We will discuss the reason for this rather simplistic pre-processing later on."
   ]
  },
  {
   "cell_type": "code",
   "execution_count": 8,
   "metadata": {},
   "outputs": [],
   "source": [
    "import re\n",
    "\n",
    "REPLACE_NO_SPACE = re.compile(\"(\\.)|(\\;)|(\\:)|(\\!)|(\\')|(\\?)|(\\,)|(\\\")|(\\()|(\\))|(\\[)|(\\])\")\n",
    "REPLACE_WITH_SPACE = re.compile(\"(<br\\s*/><br\\s*/>)|(\\-)|(\\/)\")\n",
    "\n",
    "def review_to_words(review):\n",
    "    words = REPLACE_NO_SPACE.sub(\"\", review.lower())\n",
    "    words = REPLACE_WITH_SPACE.sub(\" \", words)\n",
    "    return words"
   ]
  },
  {
   "cell_type": "code",
   "execution_count": 10,
   "metadata": {},
   "outputs": [
    {
     "data": {
      "text/plain": [
       "'i think that new york is a big fake i mean her whole guidelines of this show is stupid i enjoyed flavor fl av more better she acts like a slut and a hoe put together her mother is out of this world i think she is the devils daughter i mean what does she think she is doing these men already have girls and i believe once you have been with her you will be to ashamed to go back to your girl she is nasty spoiled and a big fat fakethe show is very interesting to watch how much money is she getting to do this awful show and whats up with her motheri thought her and new york did not get along but now it seems as though she is just as fake as her crazy daughterand where is the so called husband he is no where to be foundi would not to be with them either'"
      ]
     },
     "execution_count": 10,
     "metadata": {},
     "output_type": "execute_result"
    }
   ],
   "source": [
    "review_to_words(train_X[100])"
   ]
  },
  {
   "cell_type": "code",
   "execution_count": 11,
   "metadata": {},
   "outputs": [],
   "source": [
    "import pickle\n",
    "\n",
    "cache_dir = os.path.join(\"../cache\", \"sentiment_web_app\")  # where to store cache files\n",
    "os.makedirs(cache_dir, exist_ok=True)  # ensure cache directory exists\n",
    "\n",
    "def preprocess_data(data_train, data_test, labels_train, labels_test,\n",
    "                    cache_dir=cache_dir, cache_file=\"preprocessed_data.pkl\"):\n",
    "    \"\"\"Convert each review to words; read from cache if available.\"\"\"\n",
    "\n",
    "    # If cache_file is not None, try to read from it first\n",
    "    cache_data = None\n",
    "    if cache_file is not None:\n",
    "        try:\n",
    "            with open(os.path.join(cache_dir, cache_file), \"rb\") as f:\n",
    "                cache_data = pickle.load(f)\n",
    "            print(\"Read preprocessed data from cache file:\", cache_file)\n",
    "        except:\n",
    "            pass  # unable to read from cache, but that's okay\n",
    "    \n",
    "    # If cache is missing, then do the heavy lifting\n",
    "    if cache_data is None:\n",
    "        # Preprocess training and test data to obtain words for each review\n",
    "        #words_train = list(map(review_to_words, data_train))\n",
    "        #words_test = list(map(review_to_words, data_test))\n",
    "        words_train = [review_to_words(review) for review in data_train]\n",
    "        words_test = [review_to_words(review) for review in data_test]\n",
    "        \n",
    "        # Write to cache file for future runs\n",
    "        if cache_file is not None:\n",
    "            cache_data = dict(words_train=words_train, words_test=words_test,\n",
    "                              labels_train=labels_train, labels_test=labels_test)\n",
    "            with open(os.path.join(cache_dir, cache_file), \"wb\") as f:\n",
    "                pickle.dump(cache_data, f)\n",
    "            print(\"Wrote preprocessed data to cache file:\", cache_file)\n",
    "    else:\n",
    "        # Unpack data loaded from cache file\n",
    "        words_train, words_test, labels_train, labels_test = (cache_data['words_train'],\n",
    "                cache_data['words_test'], cache_data['labels_train'], cache_data['labels_test'])\n",
    "    \n",
    "    return words_train, words_test, labels_train, labels_test"
   ]
  },
  {
   "cell_type": "code",
   "execution_count": 12,
   "metadata": {},
   "outputs": [
    {
     "name": "stdout",
     "output_type": "stream",
     "text": [
      "Wrote preprocessed data to cache file: preprocessed_data.pkl\n"
     ]
    }
   ],
   "source": [
    "# Preprocess data\n",
    "train_X, test_X, train_y, test_y = preprocess_data(train_X, test_X, train_y, test_y)"
   ]
  },
  {
   "cell_type": "markdown",
   "metadata": {},
   "source": [
    "### Extract Bag-of-Words features\n",
    "\n",
    "For the model we will be implementing, rather than using the reviews directly, we are going to transform each review into a Bag-of-Words feature representation. Keep in mind that 'in the wild' we will only have access to the training set so our transformer can only use the training set to construct a representation."
   ]
  },
  {
   "cell_type": "code",
   "execution_count": 13,
   "metadata": {},
   "outputs": [],
   "source": [
    "import numpy as np\n",
    "from sklearn.feature_extraction.text import CountVectorizer\n",
    "\n",
    "# sklearn.externals.joblib is deprecated in 0.21 and will be removed in 0.23. \n",
    "# from sklearn.externals import joblib\n",
    "\n",
    "# Import joblib package directly\n",
    "import joblib\n",
    "# joblib is an enhanced version of pickle that is more efficient for storing NumPy arrays\n",
    "\n",
    "def extract_BoW_features(words_train, words_test, vocabulary_size=5000,\n",
    "                         cache_dir=cache_dir, cache_file=\"bow_features.pkl\"):\n",
    "    \"\"\"Extract Bag-of-Words for a given set of documents, already preprocessed into words.\"\"\"\n",
    "    \n",
    "    # If cache_file is not None, try to read from it first\n",
    "    cache_data = None\n",
    "    if cache_file is not None:\n",
    "        try:\n",
    "            with open(os.path.join(cache_dir, cache_file), \"rb\") as f:\n",
    "                cache_data = joblib.load(f)\n",
    "            print(\"Read features from cache file:\", cache_file)\n",
    "        except:\n",
    "            pass  # unable to read from cache, but that's okay\n",
    "    \n",
    "    # If cache is missing, then do the heavy lifting\n",
    "    if cache_data is None:\n",
    "        # Fit a vectorizer to training documents and use it to transform them\n",
    "        # NOTE: Training documents have already been preprocessed and tokenized into words;\n",
    "        #       pass in dummy functions to skip those steps, e.g. preprocessor=lambda x: x\n",
    "        vectorizer = CountVectorizer(max_features=vocabulary_size)\n",
    "        features_train = vectorizer.fit_transform(words_train).toarray()\n",
    "\n",
    "        # Apply the same vectorizer to transform the test documents (ignore unknown words)\n",
    "        features_test = vectorizer.transform(words_test).toarray()\n",
    "        \n",
    "        # NOTE: Remember to convert the features using .toarray() for a compact representation\n",
    "        \n",
    "        # Write to cache file for future runs (store vocabulary as well)\n",
    "        if cache_file is not None:\n",
    "            vocabulary = vectorizer.vocabulary_\n",
    "            cache_data = dict(features_train=features_train, features_test=features_test,\n",
    "                             vocabulary=vocabulary)\n",
    "            with open(os.path.join(cache_dir, cache_file), \"wb\") as f:\n",
    "                joblib.dump(cache_data, f)\n",
    "            print(\"Wrote features to cache file:\", cache_file)\n",
    "    else:\n",
    "        # Unpack data loaded from cache file\n",
    "        features_train, features_test, vocabulary = (cache_data['features_train'],\n",
    "                cache_data['features_test'], cache_data['vocabulary'])\n",
    "    \n",
    "    # Return both the extracted features as well as the vocabulary\n",
    "    return features_train, features_test, vocabulary"
   ]
  },
  {
   "cell_type": "code",
   "execution_count": 14,
   "metadata": {},
   "outputs": [
    {
     "name": "stdout",
     "output_type": "stream",
     "text": [
      "Wrote features to cache file: bow_features.pkl\n"
     ]
    }
   ],
   "source": [
    "# Extract Bag of Words features for both training and test datasets\n",
    "train_X, test_X, vocabulary = extract_BoW_features(train_X, test_X)"
   ]
  },
  {
   "cell_type": "code",
   "execution_count": 15,
   "metadata": {},
   "outputs": [
    {
     "data": {
      "text/plain": [
       "5000"
      ]
     },
     "execution_count": 15,
     "metadata": {},
     "output_type": "execute_result"
    }
   ],
   "source": [
    "len(train_X[100])"
   ]
  },
  {
   "cell_type": "markdown",
   "metadata": {},
   "source": [
    "## Step 3: Upload data to S3\n",
    "\n",
    "Now that we have created the feature representation of our training (and testing) data, it is time to start setting up and using the XGBoost classifier provided by SageMaker.\n",
    "\n",
    "### Writing the datasets\n",
    "\n",
    "The XGBoost classifier that we will be using requires the dataset to be written to a file and stored using Amazon S3. To do this, we will start by splitting the training dataset into two parts, the data we will train the model with and a validation set. Then, we will write those datasets to a file locally and then upload the files to S3. In addition, we will write the test set to a file and upload that file to S3. This is so that we can use SageMakers Batch Transform functionality to test our model once we've fit it."
   ]
  },
  {
   "cell_type": "code",
   "execution_count": 16,
   "metadata": {},
   "outputs": [],
   "source": [
    "import pandas as pd\n",
    "\n",
    "# Earlier we shuffled the training dataset so to make things simple we can just assign\n",
    "# the first 10 000 reviews to the validation set and use the remaining reviews for training.\n",
    "val_X = pd.DataFrame(train_X[:10000])\n",
    "train_X = pd.DataFrame(train_X[10000:])\n",
    "\n",
    "val_y = pd.DataFrame(train_y[:10000])\n",
    "train_y = pd.DataFrame(train_y[10000:])"
   ]
  },
  {
   "cell_type": "markdown",
   "metadata": {},
   "source": [
    "The documentation for the XGBoost algorithm in SageMaker requires that the training and validation datasets should contain no headers or index and that the label should occur first for each sample.\n",
    "\n",
    "For more information about this and other algorithms, the SageMaker developer documentation can be found on __[Amazon's website.](https://docs.aws.amazon.com/sagemaker/latest/dg/)__"
   ]
  },
  {
   "cell_type": "code",
   "execution_count": 17,
   "metadata": {},
   "outputs": [],
   "source": [
    "# First we make sure that the local directory in which we'd like to store the training and validation csv files exists.\n",
    "data_dir = '../data/sentiment_web_app'\n",
    "if not os.path.exists(data_dir):\n",
    "    os.makedirs(data_dir)"
   ]
  },
  {
   "cell_type": "code",
   "execution_count": 18,
   "metadata": {},
   "outputs": [],
   "source": [
    "pd.DataFrame(test_X).to_csv(os.path.join(data_dir, 'test.csv'), header=False, index=False)\n",
    "\n",
    "pd.concat([val_y, val_X], axis=1).to_csv(os.path.join(data_dir, 'validation.csv'), header=False, index=False)\n",
    "pd.concat([train_y, train_X], axis=1).to_csv(os.path.join(data_dir, 'train.csv'), header=False, index=False)"
   ]
  },
  {
   "cell_type": "code",
   "execution_count": 19,
   "metadata": {},
   "outputs": [],
   "source": [
    "# To save a bit of memory we can set text_X, train_X, val_X, train_y and val_y to None.\n",
    "\n",
    "test_X = train_X = val_X = train_y = val_y = None"
   ]
  },
  {
   "cell_type": "markdown",
   "metadata": {},
   "source": [
    "### Uploading Training / Validation files to S3\n",
    "\n",
    "Amazon's S3 service allows us to store files that can be accessed by both the built-in training models such as the XGBoost model we will be using as well as custom models such as the one we will see a little later.\n",
    "\n",
    "For this and most other tasks we will be doing using SageMaker, there are two methods we could use. The first is to use the low level functionality of SageMaker which requires knowing each of the objects involved in the SageMaker environment. The second is to use the high level functionality in which certain choices have been made on the user's behalf. The low level approach benefits from allowing the user a great deal of flexibility while the high level approach makes development much quicker. For our purposes we will opt to use the high level approach although using the low-level approach is certainly an option.\n",
    "\n",
    "Recall the method `upload_data()` which is a member of the object representing our current SageMaker session. What this method does is upload the data to the default bucket (which is created if it does not exist) into the path described by the key_prefix variable. To see this for yourself, once you have uploaded the data files, go to the S3 console and look to see where the files have been uploaded.\n",
    "\n",
    "For additional resources, see the __[SageMaker API documentation](http://sagemaker.readthedocs.io/en/latest/)__ and in addition the __[SageMaker Developer Guide.](https://docs.aws.amazon.com/sagemaker/latest/dg/)__"
   ]
  },
  {
   "cell_type": "code",
   "execution_count": 20,
   "metadata": {},
   "outputs": [],
   "source": [
    "import sagemaker\n",
    "\n",
    "session = sagemaker.Session() # Store the current SageMaker session\n",
    "\n",
    "# S3 prefix (which folder will we use)\n",
    "prefix = 'sentiment-web-app'\n",
    "\n",
    "test_location = session.upload_data(os.path.join(data_dir, 'test.csv'), key_prefix=prefix)\n",
    "val_location = session.upload_data(os.path.join(data_dir, 'validation.csv'), key_prefix=prefix)\n",
    "train_location = session.upload_data(os.path.join(data_dir, 'train.csv'), key_prefix=prefix)"
   ]
  },
  {
   "cell_type": "markdown",
   "metadata": {},
   "source": [
    "## Step 4: Creating the XGBoost model\n",
    "\n",
    "Now that the data has been uploaded it is time to create the XGBoost model. To begin with, we need to do some setup. At this point it is worth discussing what a model is in SageMaker. It is easiest to think of a model of comprising three different objects in the SageMaker ecosystem, which interact with one another.\n",
    "\n",
    "- Model Artifacts\n",
    "- Training Code (Container)\n",
    "- Inference Code (Container)\n",
    "\n",
    "The Model Artifacts are what you might think of as the actual model itself. For example, if you were building a neural network, the model artifacts would be the weights of the various layers. In our case, for an XGBoost model, the artifacts are the actual trees that are created during training.\n",
    "\n",
    "The other two objects, the training code and the inference code are then used to manipulate the training artifacts. More precisely, the training code uses the training data that is provided and creates the model artifacts, while the inference code uses the model artifacts to make predictions on new data.\n",
    "\n",
    "The way that SageMaker runs the training and inference code is by making use of Docker containers. For now, think of a container as being a way of packaging code up so that dependencies aren't an issue."
   ]
  },
  {
   "cell_type": "code",
   "execution_count": 21,
   "metadata": {},
   "outputs": [],
   "source": [
    "from sagemaker import get_execution_role\n",
    "\n",
    "# Our current execution role is required when creating the model as the training\n",
    "# and inference code will need to access the model artifacts.\n",
    "role = get_execution_role()"
   ]
  },
  {
   "cell_type": "code",
   "execution_count": 22,
   "metadata": {},
   "outputs": [
    {
     "name": "stderr",
     "output_type": "stream",
     "text": [
      "'get_image_uri' method will be deprecated in favor of 'ImageURIProvider' class in SageMaker Python SDK v2.\n",
      "There is a more up to date SageMaker XGBoost image. To use the newer image, please set 'repo_version'='1.0-1'. For example:\n",
      "\tget_image_uri(region, 'xgboost', '1.0-1').\n"
     ]
    }
   ],
   "source": [
    "# We need to retrieve the location of the container which is provided by Amazon for using XGBoost.\n",
    "# As a matter of convenience, the training and inference code both use the same container.\n",
    "from sagemaker.amazon.amazon_estimator import get_image_uri\n",
    "\n",
    "container = get_image_uri(session.boto_region_name, 'xgboost')"
   ]
  },
  {
   "cell_type": "code",
   "execution_count": 23,
   "metadata": {},
   "outputs": [
    {
     "name": "stderr",
     "output_type": "stream",
     "text": [
      "Parameter image_name will be renamed to image_uri in SageMaker Python SDK v2.\n"
     ]
    }
   ],
   "source": [
    "# First we create a SageMaker estimator object for our model.\n",
    "xgb = sagemaker.estimator.Estimator(container, # The location of the container we wish to use\n",
    "                                    role,                                    # What is our current IAM Role\n",
    "                                    train_instance_count=1,                  # How many compute instances\n",
    "                                    train_instance_type='ml.m4.xlarge',      # What kind of compute instances\n",
    "                                    output_path='s3://{}/{}/output'.format(session.default_bucket(), prefix),\n",
    "                                    sagemaker_session=session)\n",
    "\n",
    "# And then set the algorithm specific parameters.\n",
    "xgb.set_hyperparameters(max_depth=5,\n",
    "                        eta=0.2,\n",
    "                        gamma=4,\n",
    "                        min_child_weight=6,\n",
    "                        subsample=0.8,\n",
    "                        silent=0,\n",
    "                        objective='binary:logistic',\n",
    "                        early_stopping_rounds=10,\n",
    "                        num_round=500)"
   ]
  },
  {
   "cell_type": "markdown",
   "metadata": {},
   "source": [
    "### Fit the XGBoost model\n",
    "\n",
    "Now that our model has been set up we simply need to attach the training and validation datasets and then ask SageMaker to set up the computation."
   ]
  },
  {
   "cell_type": "code",
   "execution_count": 24,
   "metadata": {},
   "outputs": [
    {
     "name": "stderr",
     "output_type": "stream",
     "text": [
      "'s3_input' class will be renamed to 'TrainingInput' in SageMaker Python SDK v2.\n",
      "'s3_input' class will be renamed to 'TrainingInput' in SageMaker Python SDK v2.\n"
     ]
    }
   ],
   "source": [
    "s3_input_train = sagemaker.s3_input(s3_data=train_location, content_type='csv')\n",
    "s3_input_validation = sagemaker.s3_input(s3_data=val_location, content_type='csv')"
   ]
  },
  {
   "cell_type": "code",
   "execution_count": 25,
   "metadata": {},
   "outputs": [
    {
     "name": "stdout",
     "output_type": "stream",
     "text": [
      "2021-08-22 00:02:08 Starting - Starting the training job...\n",
      "2021-08-22 00:02:09 Starting - Launching requested ML instances...\n",
      "2021-08-22 00:03:05 Starting - Preparing the instances for training.........\n",
      "2021-08-22 00:04:29 Downloading - Downloading input data\n",
      "2021-08-22 00:04:29 Training - Downloading the training image...\n",
      "2021-08-22 00:05:07 Training - Training image download completed. Training in progress..\u001b[34mArguments: train\u001b[0m\n",
      "\u001b[34m[2021-08-22:00:05:08:INFO] Running standalone xgboost training.\u001b[0m\n",
      "\u001b[34m[2021-08-22:00:05:08:INFO] File size need to be processed in the node: 238.5mb. Available memory size in the node: 8375.69mb\u001b[0m\n",
      "\u001b[34m[2021-08-22:00:05:08:INFO] Determined delimiter of CSV input is ','\u001b[0m\n",
      "\u001b[34m[00:05:08] S3DistributionType set as FullyReplicated\u001b[0m\n",
      "\u001b[34m[00:05:10] 15000x5000 matrix with 75000000 entries loaded from /opt/ml/input/data/train?format=csv&label_column=0&delimiter=,\u001b[0m\n",
      "\u001b[34m[2021-08-22:00:05:10:INFO] Determined delimiter of CSV input is ','\u001b[0m\n",
      "\u001b[34m[00:05:10] S3DistributionType set as FullyReplicated\u001b[0m\n",
      "\u001b[34m[00:05:11] 10000x5000 matrix with 50000000 entries loaded from /opt/ml/input/data/validation?format=csv&label_column=0&delimiter=,\u001b[0m\n",
      "\u001b[34m[00:05:15] src/tree/updater_prune.cc:74: tree pruning end, 1 roots, 44 extra nodes, 2 pruned nodes, max_depth=5\u001b[0m\n",
      "\u001b[34m[0]#011train-error:0.306#011validation-error:0.3118\u001b[0m\n",
      "\u001b[34mMultiple eval metrics have been passed: 'validation-error' will be used for early stopping.\n",
      "\u001b[0m\n",
      "\u001b[34mWill train until validation-error hasn't improved in 10 rounds.\u001b[0m\n",
      "\u001b[34m[00:05:16] src/tree/updater_prune.cc:74: tree pruning end, 1 roots, 36 extra nodes, 10 pruned nodes, max_depth=5\u001b[0m\n",
      "\u001b[34m[1]#011train-error:0.3034#011validation-error:0.3069\u001b[0m\n",
      "\u001b[34m[00:05:18] src/tree/updater_prune.cc:74: tree pruning end, 1 roots, 40 extra nodes, 6 pruned nodes, max_depth=5\u001b[0m\n",
      "\u001b[34m[2]#011train-error:0.292667#011validation-error:0.2974\u001b[0m\n",
      "\u001b[34m[00:05:20] src/tree/updater_prune.cc:74: tree pruning end, 1 roots, 32 extra nodes, 4 pruned nodes, max_depth=5\u001b[0m\n",
      "\u001b[34m[3]#011train-error:0.272467#011validation-error:0.2762\u001b[0m\n",
      "\u001b[34m[00:05:21] src/tree/updater_prune.cc:74: tree pruning end, 1 roots, 48 extra nodes, 6 pruned nodes, max_depth=5\u001b[0m\n",
      "\u001b[34m[4]#011train-error:0.2678#011validation-error:0.2781\u001b[0m\n",
      "\u001b[34m[00:05:22] src/tree/updater_prune.cc:74: tree pruning end, 1 roots, 30 extra nodes, 2 pruned nodes, max_depth=5\u001b[0m\n",
      "\u001b[34m[5]#011train-error:0.262733#011validation-error:0.2725\u001b[0m\n",
      "\u001b[34m[00:05:24] src/tree/updater_prune.cc:74: tree pruning end, 1 roots, 28 extra nodes, 6 pruned nodes, max_depth=5\u001b[0m\n",
      "\u001b[34m[6]#011train-error:0.254667#011validation-error:0.2631\u001b[0m\n",
      "\u001b[34m[00:05:25] src/tree/updater_prune.cc:74: tree pruning end, 1 roots, 46 extra nodes, 2 pruned nodes, max_depth=5\u001b[0m\n",
      "\u001b[34m[7]#011train-error:0.246533#011validation-error:0.2567\u001b[0m\n",
      "\u001b[34m[00:05:26] src/tree/updater_prune.cc:74: tree pruning end, 1 roots, 26 extra nodes, 14 pruned nodes, max_depth=5\u001b[0m\n",
      "\u001b[34m[8]#011train-error:0.237733#011validation-error:0.2515\u001b[0m\n",
      "\u001b[34m[00:05:28] src/tree/updater_prune.cc:74: tree pruning end, 1 roots, 38 extra nodes, 2 pruned nodes, max_depth=5\u001b[0m\n",
      "\u001b[34m[9]#011train-error:0.2348#011validation-error:0.248\u001b[0m\n",
      "\u001b[34m[00:05:29] src/tree/updater_prune.cc:74: tree pruning end, 1 roots, 26 extra nodes, 8 pruned nodes, max_depth=5\u001b[0m\n",
      "\u001b[34m[10]#011train-error:0.226467#011validation-error:0.2395\u001b[0m\n",
      "\u001b[34m[00:05:31] src/tree/updater_prune.cc:74: tree pruning end, 1 roots, 32 extra nodes, 4 pruned nodes, max_depth=5\u001b[0m\n",
      "\u001b[34m[11]#011train-error:0.2214#011validation-error:0.239\u001b[0m\n",
      "\u001b[34m[00:05:32] src/tree/updater_prune.cc:74: tree pruning end, 1 roots, 40 extra nodes, 8 pruned nodes, max_depth=5\u001b[0m\n",
      "\u001b[34m[12]#011train-error:0.215667#011validation-error:0.2345\u001b[0m\n",
      "\u001b[34m[00:05:33] src/tree/updater_prune.cc:74: tree pruning end, 1 roots, 34 extra nodes, 2 pruned nodes, max_depth=5\u001b[0m\n",
      "\u001b[34m[13]#011train-error:0.211933#011validation-error:0.2304\u001b[0m\n",
      "\u001b[34m[00:05:35] src/tree/updater_prune.cc:74: tree pruning end, 1 roots, 36 extra nodes, 8 pruned nodes, max_depth=5\u001b[0m\n",
      "\u001b[34m[14]#011train-error:0.209733#011validation-error:0.2279\u001b[0m\n",
      "\u001b[34m[00:05:36] src/tree/updater_prune.cc:74: tree pruning end, 1 roots, 24 extra nodes, 8 pruned nodes, max_depth=5\u001b[0m\n",
      "\u001b[34m[15]#011train-error:0.2048#011validation-error:0.2238\u001b[0m\n",
      "\u001b[34m[00:05:37] src/tree/updater_prune.cc:74: tree pruning end, 1 roots, 34 extra nodes, 4 pruned nodes, max_depth=5\u001b[0m\n",
      "\u001b[34m[16]#011train-error:0.199933#011validation-error:0.2222\u001b[0m\n",
      "\u001b[34m[00:05:39] src/tree/updater_prune.cc:74: tree pruning end, 1 roots, 20 extra nodes, 14 pruned nodes, max_depth=5\u001b[0m\n",
      "\u001b[34m[17]#011train-error:0.198733#011validation-error:0.2195\u001b[0m\n",
      "\u001b[34m[00:05:40] src/tree/updater_prune.cc:74: tree pruning end, 1 roots, 18 extra nodes, 14 pruned nodes, max_depth=5\u001b[0m\n",
      "\u001b[34m[18]#011train-error:0.193933#011validation-error:0.2175\u001b[0m\n",
      "\u001b[34m[00:05:41] src/tree/updater_prune.cc:74: tree pruning end, 1 roots, 26 extra nodes, 10 pruned nodes, max_depth=5\u001b[0m\n",
      "\u001b[34m[19]#011train-error:0.190733#011validation-error:0.2164\u001b[0m\n",
      "\u001b[34m[00:05:43] src/tree/updater_prune.cc:74: tree pruning end, 1 roots, 28 extra nodes, 10 pruned nodes, max_depth=5\u001b[0m\n",
      "\u001b[34m[20]#011train-error:0.188267#011validation-error:0.2134\u001b[0m\n",
      "\u001b[34m[00:05:44] src/tree/updater_prune.cc:74: tree pruning end, 1 roots, 24 extra nodes, 18 pruned nodes, max_depth=5\u001b[0m\n",
      "\u001b[34m[21]#011train-error:0.1852#011validation-error:0.2094\u001b[0m\n",
      "\u001b[34m[00:05:45] src/tree/updater_prune.cc:74: tree pruning end, 1 roots, 30 extra nodes, 8 pruned nodes, max_depth=5\u001b[0m\n",
      "\u001b[34m[22]#011train-error:0.182867#011validation-error:0.2078\u001b[0m\n",
      "\u001b[34m[00:05:47] src/tree/updater_prune.cc:74: tree pruning end, 1 roots, 40 extra nodes, 4 pruned nodes, max_depth=5\u001b[0m\n",
      "\u001b[34m[23]#011train-error:0.180267#011validation-error:0.2063\u001b[0m\n",
      "\u001b[34m[00:05:48] src/tree/updater_prune.cc:74: tree pruning end, 1 roots, 26 extra nodes, 8 pruned nodes, max_depth=5\u001b[0m\n",
      "\u001b[34m[24]#011train-error:0.178533#011validation-error:0.2041\u001b[0m\n",
      "\u001b[34m[00:05:50] src/tree/updater_prune.cc:74: tree pruning end, 1 roots, 24 extra nodes, 14 pruned nodes, max_depth=5\u001b[0m\n",
      "\u001b[34m[25]#011train-error:0.177#011validation-error:0.202\u001b[0m\n",
      "\u001b[34m[00:05:51] src/tree/updater_prune.cc:74: tree pruning end, 1 roots, 42 extra nodes, 4 pruned nodes, max_depth=5\u001b[0m\n",
      "\u001b[34m[26]#011train-error:0.175733#011validation-error:0.202\u001b[0m\n",
      "\u001b[34m[00:05:52] src/tree/updater_prune.cc:74: tree pruning end, 1 roots, 42 extra nodes, 2 pruned nodes, max_depth=5\u001b[0m\n",
      "\u001b[34m[27]#011train-error:0.172933#011validation-error:0.1997\u001b[0m\n",
      "\u001b[34m[00:05:54] src/tree/updater_prune.cc:74: tree pruning end, 1 roots, 38 extra nodes, 2 pruned nodes, max_depth=5\u001b[0m\n",
      "\u001b[34m[28]#011train-error:0.170667#011validation-error:0.1977\u001b[0m\n",
      "\u001b[34m[00:05:55] src/tree/updater_prune.cc:74: tree pruning end, 1 roots, 28 extra nodes, 8 pruned nodes, max_depth=5\u001b[0m\n",
      "\u001b[34m[29]#011train-error:0.169067#011validation-error:0.1964\u001b[0m\n",
      "\u001b[34m[00:05:56] src/tree/updater_prune.cc:74: tree pruning end, 1 roots, 16 extra nodes, 8 pruned nodes, max_depth=5\u001b[0m\n",
      "\u001b[34m[30]#011train-error:0.1664#011validation-error:0.1943\u001b[0m\n",
      "\u001b[34m[00:05:58] src/tree/updater_prune.cc:74: tree pruning end, 1 roots, 16 extra nodes, 16 pruned nodes, max_depth=5\u001b[0m\n",
      "\u001b[34m[31]#011train-error:0.165733#011validation-error:0.1945\u001b[0m\n",
      "\u001b[34m[00:05:59] src/tree/updater_prune.cc:74: tree pruning end, 1 roots, 24 extra nodes, 4 pruned nodes, max_depth=5\u001b[0m\n",
      "\u001b[34m[32]#011train-error:0.1624#011validation-error:0.193\u001b[0m\n",
      "\u001b[34m[00:06:00] src/tree/updater_prune.cc:74: tree pruning end, 1 roots, 24 extra nodes, 10 pruned nodes, max_depth=5\u001b[0m\n",
      "\u001b[34m[33]#011train-error:0.161867#011validation-error:0.1924\u001b[0m\n",
      "\u001b[34m[00:06:02] src/tree/updater_prune.cc:74: tree pruning end, 1 roots, 38 extra nodes, 8 pruned nodes, max_depth=5\u001b[0m\n",
      "\u001b[34m[34]#011train-error:0.1578#011validation-error:0.1897\u001b[0m\n",
      "\u001b[34m[00:06:03] src/tree/updater_prune.cc:74: tree pruning end, 1 roots, 36 extra nodes, 8 pruned nodes, max_depth=5\u001b[0m\n",
      "\u001b[34m[35]#011train-error:0.155333#011validation-error:0.1882\u001b[0m\n",
      "\u001b[34m[00:06:05] src/tree/updater_prune.cc:74: tree pruning end, 1 roots, 36 extra nodes, 4 pruned nodes, max_depth=5\u001b[0m\n",
      "\u001b[34m[36]#011train-error:0.152333#011validation-error:0.1874\u001b[0m\n"
     ]
    },
    {
     "name": "stdout",
     "output_type": "stream",
     "text": [
      "\u001b[34m[00:06:07] src/tree/updater_prune.cc:74: tree pruning end, 1 roots, 24 extra nodes, 12 pruned nodes, max_depth=5\u001b[0m\n",
      "\u001b[34m[37]#011train-error:0.151333#011validation-error:0.1846\u001b[0m\n",
      "\u001b[34m[00:06:08] src/tree/updater_prune.cc:74: tree pruning end, 1 roots, 12 extra nodes, 12 pruned nodes, max_depth=5\u001b[0m\n",
      "\u001b[34m[38]#011train-error:0.150133#011validation-error:0.1843\u001b[0m\n",
      "\u001b[34m[00:06:09] src/tree/updater_prune.cc:74: tree pruning end, 1 roots, 34 extra nodes, 2 pruned nodes, max_depth=5\u001b[0m\n",
      "\u001b[34m[39]#011train-error:0.149267#011validation-error:0.1837\u001b[0m\n",
      "\u001b[34m[00:06:11] src/tree/updater_prune.cc:74: tree pruning end, 1 roots, 26 extra nodes, 12 pruned nodes, max_depth=5\u001b[0m\n",
      "\u001b[34m[40]#011train-error:0.148733#011validation-error:0.1822\u001b[0m\n",
      "\u001b[34m[00:06:12] src/tree/updater_prune.cc:74: tree pruning end, 1 roots, 30 extra nodes, 8 pruned nodes, max_depth=5\u001b[0m\n",
      "\u001b[34m[41]#011train-error:0.146733#011validation-error:0.1806\u001b[0m\n",
      "\u001b[34m[00:06:13] src/tree/updater_prune.cc:74: tree pruning end, 1 roots, 30 extra nodes, 10 pruned nodes, max_depth=5\u001b[0m\n",
      "\u001b[34m[42]#011train-error:0.1446#011validation-error:0.181\u001b[0m\n",
      "\u001b[34m[00:06:15] src/tree/updater_prune.cc:74: tree pruning end, 1 roots, 22 extra nodes, 10 pruned nodes, max_depth=5\u001b[0m\n",
      "\u001b[34m[43]#011train-error:0.143467#011validation-error:0.1802\u001b[0m\n",
      "\u001b[34m[00:06:16] src/tree/updater_prune.cc:74: tree pruning end, 1 roots, 30 extra nodes, 10 pruned nodes, max_depth=5\u001b[0m\n",
      "\u001b[34m[44]#011train-error:0.1426#011validation-error:0.1787\u001b[0m\n",
      "\u001b[34m[00:06:18] src/tree/updater_prune.cc:74: tree pruning end, 1 roots, 24 extra nodes, 2 pruned nodes, max_depth=5\u001b[0m\n",
      "\u001b[34m[45]#011train-error:0.141133#011validation-error:0.1791\u001b[0m\n",
      "\u001b[34m[00:06:19] src/tree/updater_prune.cc:74: tree pruning end, 1 roots, 22 extra nodes, 8 pruned nodes, max_depth=5\u001b[0m\n",
      "\u001b[34m[46]#011train-error:0.139733#011validation-error:0.1776\u001b[0m\n",
      "\u001b[34m[00:06:20] src/tree/updater_prune.cc:74: tree pruning end, 1 roots, 18 extra nodes, 4 pruned nodes, max_depth=5\u001b[0m\n",
      "\u001b[34m[47]#011train-error:0.138667#011validation-error:0.1767\u001b[0m\n",
      "\u001b[34m[00:06:22] src/tree/updater_prune.cc:74: tree pruning end, 1 roots, 22 extra nodes, 14 pruned nodes, max_depth=5\u001b[0m\n",
      "\u001b[34m[48]#011train-error:0.1378#011validation-error:0.1768\u001b[0m\n",
      "\u001b[34m[00:06:23] src/tree/updater_prune.cc:74: tree pruning end, 1 roots, 18 extra nodes, 10 pruned nodes, max_depth=5\u001b[0m\n",
      "\u001b[34m[49]#011train-error:0.136867#011validation-error:0.1763\u001b[0m\n",
      "\u001b[34m[00:06:24] src/tree/updater_prune.cc:74: tree pruning end, 1 roots, 22 extra nodes, 8 pruned nodes, max_depth=5\u001b[0m\n",
      "\u001b[34m[50]#011train-error:0.135733#011validation-error:0.1756\u001b[0m\n",
      "\u001b[34m[00:06:26] src/tree/updater_prune.cc:74: tree pruning end, 1 roots, 20 extra nodes, 8 pruned nodes, max_depth=5\u001b[0m\n",
      "\u001b[34m[51]#011train-error:0.135267#011validation-error:0.174\u001b[0m\n",
      "\u001b[34m[00:06:27] src/tree/updater_prune.cc:74: tree pruning end, 1 roots, 14 extra nodes, 12 pruned nodes, max_depth=5\u001b[0m\n",
      "\u001b[34m[52]#011train-error:0.134533#011validation-error:0.1738\u001b[0m\n",
      "\u001b[34m[00:06:28] src/tree/updater_prune.cc:74: tree pruning end, 1 roots, 26 extra nodes, 16 pruned nodes, max_depth=5\u001b[0m\n",
      "\u001b[34m[53]#011train-error:0.134133#011validation-error:0.1734\u001b[0m\n",
      "\u001b[34m[00:06:30] src/tree/updater_prune.cc:74: tree pruning end, 1 roots, 24 extra nodes, 14 pruned nodes, max_depth=5\u001b[0m\n",
      "\u001b[34m[54]#011train-error:0.133267#011validation-error:0.173\u001b[0m\n",
      "\u001b[34m[00:06:31] src/tree/updater_prune.cc:74: tree pruning end, 1 roots, 24 extra nodes, 2 pruned nodes, max_depth=5\u001b[0m\n",
      "\u001b[34m[55]#011train-error:0.1326#011validation-error:0.1735\u001b[0m\n",
      "\u001b[34m[00:06:33] src/tree/updater_prune.cc:74: tree pruning end, 1 roots, 14 extra nodes, 8 pruned nodes, max_depth=5\u001b[0m\n",
      "\u001b[34m[56]#011train-error:0.132#011validation-error:0.1738\u001b[0m\n",
      "\u001b[34m[00:06:34] src/tree/updater_prune.cc:74: tree pruning end, 1 roots, 18 extra nodes, 10 pruned nodes, max_depth=5\u001b[0m\n",
      "\u001b[34m[57]#011train-error:0.1306#011validation-error:0.1742\u001b[0m\n",
      "\u001b[34m[00:06:35] src/tree/updater_prune.cc:74: tree pruning end, 1 roots, 28 extra nodes, 10 pruned nodes, max_depth=5\u001b[0m\n",
      "\u001b[34m[58]#011train-error:0.1298#011validation-error:0.1732\u001b[0m\n",
      "\u001b[34m[00:06:37] src/tree/updater_prune.cc:74: tree pruning end, 1 roots, 14 extra nodes, 8 pruned nodes, max_depth=5\u001b[0m\n",
      "\u001b[34m[59]#011train-error:0.1294#011validation-error:0.1712\u001b[0m\n",
      "\u001b[34m[00:06:38] src/tree/updater_prune.cc:74: tree pruning end, 1 roots, 14 extra nodes, 16 pruned nodes, max_depth=5\u001b[0m\n",
      "\u001b[34m[60]#011train-error:0.128733#011validation-error:0.1714\u001b[0m\n",
      "\u001b[34m[00:06:39] src/tree/updater_prune.cc:74: tree pruning end, 1 roots, 16 extra nodes, 12 pruned nodes, max_depth=5\u001b[0m\n",
      "\u001b[34m[61]#011train-error:0.1284#011validation-error:0.1699\u001b[0m\n",
      "\u001b[34m[00:06:41] src/tree/updater_prune.cc:74: tree pruning end, 1 roots, 24 extra nodes, 4 pruned nodes, max_depth=5\u001b[0m\n",
      "\u001b[34m[62]#011train-error:0.127067#011validation-error:0.1701\u001b[0m\n",
      "\u001b[34m[00:06:42] src/tree/updater_prune.cc:74: tree pruning end, 1 roots, 24 extra nodes, 4 pruned nodes, max_depth=5\u001b[0m\n",
      "\u001b[34m[63]#011train-error:0.126933#011validation-error:0.1699\u001b[0m\n",
      "\u001b[34m[00:06:43] src/tree/updater_prune.cc:74: tree pruning end, 1 roots, 30 extra nodes, 10 pruned nodes, max_depth=5\u001b[0m\n",
      "\u001b[34m[64]#011train-error:0.124733#011validation-error:0.1693\u001b[0m\n",
      "\u001b[34m[00:06:45] src/tree/updater_prune.cc:74: tree pruning end, 1 roots, 36 extra nodes, 8 pruned nodes, max_depth=5\u001b[0m\n",
      "\u001b[34m[65]#011train-error:0.123333#011validation-error:0.1672\u001b[0m\n",
      "\u001b[34m[00:06:46] src/tree/updater_prune.cc:74: tree pruning end, 1 roots, 26 extra nodes, 10 pruned nodes, max_depth=5\u001b[0m\n",
      "\u001b[34m[66]#011train-error:0.121733#011validation-error:0.1662\u001b[0m\n",
      "\u001b[34m[00:06:47] src/tree/updater_prune.cc:74: tree pruning end, 1 roots, 18 extra nodes, 10 pruned nodes, max_depth=5\u001b[0m\n",
      "\u001b[34m[67]#011train-error:0.1208#011validation-error:0.1663\u001b[0m\n",
      "\u001b[34m[00:06:49] src/tree/updater_prune.cc:74: tree pruning end, 1 roots, 32 extra nodes, 8 pruned nodes, max_depth=5\u001b[0m\n",
      "\u001b[34m[68]#011train-error:0.119733#011validation-error:0.1648\u001b[0m\n",
      "\u001b[34m[00:06:50] src/tree/updater_prune.cc:74: tree pruning end, 1 roots, 16 extra nodes, 12 pruned nodes, max_depth=5\u001b[0m\n",
      "\u001b[34m[69]#011train-error:0.119267#011validation-error:0.1651\u001b[0m\n",
      "\u001b[34m[00:06:52] src/tree/updater_prune.cc:74: tree pruning end, 1 roots, 22 extra nodes, 4 pruned nodes, max_depth=5\u001b[0m\n",
      "\u001b[34m[70]#011train-error:0.1186#011validation-error:0.1643\u001b[0m\n",
      "\u001b[34m[00:06:53] src/tree/updater_prune.cc:74: tree pruning end, 1 roots, 14 extra nodes, 4 pruned nodes, max_depth=5\u001b[0m\n",
      "\u001b[34m[71]#011train-error:0.117867#011validation-error:0.1639\u001b[0m\n",
      "\u001b[34m[00:06:54] src/tree/updater_prune.cc:74: tree pruning end, 1 roots, 24 extra nodes, 8 pruned nodes, max_depth=5\u001b[0m\n",
      "\u001b[34m[72]#011train-error:0.1174#011validation-error:0.1626\u001b[0m\n",
      "\u001b[34m[00:06:56] src/tree/updater_prune.cc:74: tree pruning end, 1 roots, 26 extra nodes, 4 pruned nodes, max_depth=5\u001b[0m\n",
      "\u001b[34m[73]#011train-error:0.115733#011validation-error:0.1631\u001b[0m\n",
      "\u001b[34m[00:06:57] src/tree/updater_prune.cc:74: tree pruning end, 1 roots, 14 extra nodes, 8 pruned nodes, max_depth=5\u001b[0m\n",
      "\u001b[34m[74]#011train-error:0.115333#011validation-error:0.162\u001b[0m\n",
      "\u001b[34m[00:06:58] src/tree/updater_prune.cc:74: tree pruning end, 1 roots, 28 extra nodes, 8 pruned nodes, max_depth=5\u001b[0m\n",
      "\u001b[34m[75]#011train-error:0.114333#011validation-error:0.1619\u001b[0m\n",
      "\u001b[34m[00:07:00] src/tree/updater_prune.cc:74: tree pruning end, 1 roots, 14 extra nodes, 4 pruned nodes, max_depth=5\u001b[0m\n",
      "\u001b[34m[76]#011train-error:0.113467#011validation-error:0.1612\u001b[0m\n",
      "\u001b[34m[00:07:01] src/tree/updater_prune.cc:74: tree pruning end, 1 roots, 28 extra nodes, 8 pruned nodes, max_depth=5\u001b[0m\n",
      "\u001b[34m[77]#011train-error:0.111933#011validation-error:0.1611\u001b[0m\n",
      "\u001b[34m[00:07:03] src/tree/updater_prune.cc:74: tree pruning end, 1 roots, 22 extra nodes, 10 pruned nodes, max_depth=5\u001b[0m\n",
      "\u001b[34m[78]#011train-error:0.111#011validation-error:0.161\u001b[0m\n",
      "\u001b[34m[00:07:04] src/tree/updater_prune.cc:74: tree pruning end, 1 roots, 14 extra nodes, 6 pruned nodes, max_depth=5\u001b[0m\n",
      "\u001b[34m[79]#011train-error:0.1104#011validation-error:0.16\u001b[0m\n",
      "\u001b[34m[00:07:05] src/tree/updater_prune.cc:74: tree pruning end, 1 roots, 20 extra nodes, 4 pruned nodes, max_depth=5\u001b[0m\n",
      "\u001b[34m[80]#011train-error:0.110533#011validation-error:0.1595\u001b[0m\n",
      "\u001b[34m[00:07:07] src/tree/updater_prune.cc:74: tree pruning end, 1 roots, 18 extra nodes, 12 pruned nodes, max_depth=5\u001b[0m\n",
      "\u001b[34m[81]#011train-error:0.109867#011validation-error:0.1582\u001b[0m\n",
      "\u001b[34m[00:07:09] src/tree/updater_prune.cc:74: tree pruning end, 1 roots, 14 extra nodes, 8 pruned nodes, max_depth=5\u001b[0m\n",
      "\u001b[34m[82]#011train-error:0.109533#011validation-error:0.1584\u001b[0m\n",
      "\u001b[34m[00:07:10] src/tree/updater_prune.cc:74: tree pruning end, 1 roots, 28 extra nodes, 10 pruned nodes, max_depth=5\u001b[0m\n",
      "\u001b[34m[83]#011train-error:0.1086#011validation-error:0.1583\u001b[0m\n",
      "\u001b[34m[00:07:11] src/tree/updater_prune.cc:74: tree pruning end, 1 roots, 14 extra nodes, 8 pruned nodes, max_depth=5\u001b[0m\n",
      "\u001b[34m[84]#011train-error:0.1086#011validation-error:0.1573\u001b[0m\n",
      "\u001b[34m[00:07:13] src/tree/updater_prune.cc:74: tree pruning end, 1 roots, 22 extra nodes, 10 pruned nodes, max_depth=5\u001b[0m\n",
      "\u001b[34m[85]#011train-error:0.108#011validation-error:0.1573\u001b[0m\n",
      "\u001b[34m[00:07:14] src/tree/updater_prune.cc:74: tree pruning end, 1 roots, 14 extra nodes, 10 pruned nodes, max_depth=5\u001b[0m\n",
      "\u001b[34m[86]#011train-error:0.1076#011validation-error:0.1575\u001b[0m\n",
      "\u001b[34m[00:07:15] src/tree/updater_prune.cc:74: tree pruning end, 1 roots, 16 extra nodes, 6 pruned nodes, max_depth=5\u001b[0m\n",
      "\u001b[34m[87]#011train-error:0.106467#011validation-error:0.1575\u001b[0m\n"
     ]
    },
    {
     "name": "stdout",
     "output_type": "stream",
     "text": [
      "\u001b[34m[00:07:17] src/tree/updater_prune.cc:74: tree pruning end, 1 roots, 18 extra nodes, 8 pruned nodes, max_depth=5\u001b[0m\n",
      "\u001b[34m[88]#011train-error:0.106467#011validation-error:0.1568\u001b[0m\n",
      "\u001b[34m[00:07:18] src/tree/updater_prune.cc:74: tree pruning end, 1 roots, 20 extra nodes, 4 pruned nodes, max_depth=5\u001b[0m\n",
      "\u001b[34m[89]#011train-error:0.105333#011validation-error:0.1568\u001b[0m\n",
      "\u001b[34m[00:07:19] src/tree/updater_prune.cc:74: tree pruning end, 1 roots, 14 extra nodes, 12 pruned nodes, max_depth=5\u001b[0m\n",
      "\u001b[34m[90]#011train-error:0.106#011validation-error:0.1571\u001b[0m\n",
      "\u001b[34m[00:07:21] src/tree/updater_prune.cc:74: tree pruning end, 1 roots, 12 extra nodes, 6 pruned nodes, max_depth=5\u001b[0m\n",
      "\u001b[34m[91]#011train-error:0.106267#011validation-error:0.1575\u001b[0m\n",
      "\u001b[34m[00:07:22] src/tree/updater_prune.cc:74: tree pruning end, 1 roots, 12 extra nodes, 14 pruned nodes, max_depth=5\u001b[0m\n",
      "\u001b[34m[92]#011train-error:0.106#011validation-error:0.1567\u001b[0m\n",
      "\u001b[34m[00:07:24] src/tree/updater_prune.cc:74: tree pruning end, 1 roots, 18 extra nodes, 12 pruned nodes, max_depth=5\u001b[0m\n",
      "\u001b[34m[93]#011train-error:0.1056#011validation-error:0.1569\u001b[0m\n",
      "\u001b[34m[00:07:25] src/tree/updater_prune.cc:74: tree pruning end, 1 roots, 16 extra nodes, 12 pruned nodes, max_depth=5\u001b[0m\n",
      "\u001b[34m[94]#011train-error:0.105133#011validation-error:0.1558\u001b[0m\n",
      "\u001b[34m[00:07:26] src/tree/updater_prune.cc:74: tree pruning end, 1 roots, 12 extra nodes, 0 pruned nodes, max_depth=5\u001b[0m\n",
      "\u001b[34m[95]#011train-error:0.104667#011validation-error:0.156\u001b[0m\n",
      "\u001b[34m[00:07:28] src/tree/updater_prune.cc:74: tree pruning end, 1 roots, 20 extra nodes, 14 pruned nodes, max_depth=5\u001b[0m\n",
      "\u001b[34m[96]#011train-error:0.104467#011validation-error:0.1563\u001b[0m\n",
      "\u001b[34m[00:07:29] src/tree/updater_prune.cc:74: tree pruning end, 1 roots, 18 extra nodes, 6 pruned nodes, max_depth=5\u001b[0m\n",
      "\u001b[34m[97]#011train-error:0.104867#011validation-error:0.1556\u001b[0m\n",
      "\u001b[34m[00:07:30] src/tree/updater_prune.cc:74: tree pruning end, 1 roots, 18 extra nodes, 16 pruned nodes, max_depth=5\u001b[0m\n",
      "\u001b[34m[98]#011train-error:0.1038#011validation-error:0.1554\u001b[0m\n",
      "\u001b[34m[00:07:32] src/tree/updater_prune.cc:74: tree pruning end, 1 roots, 12 extra nodes, 6 pruned nodes, max_depth=5\u001b[0m\n",
      "\u001b[34m[99]#011train-error:0.103333#011validation-error:0.156\u001b[0m\n",
      "\u001b[34m[00:07:33] src/tree/updater_prune.cc:74: tree pruning end, 1 roots, 26 extra nodes, 20 pruned nodes, max_depth=5\u001b[0m\n",
      "\u001b[34m[100]#011train-error:0.102333#011validation-error:0.1553\u001b[0m\n",
      "\u001b[34m[00:07:34] src/tree/updater_prune.cc:74: tree pruning end, 1 roots, 24 extra nodes, 8 pruned nodes, max_depth=5\u001b[0m\n",
      "\u001b[34m[101]#011train-error:0.1014#011validation-error:0.1563\u001b[0m\n",
      "\u001b[34m[00:07:36] src/tree/updater_prune.cc:74: tree pruning end, 1 roots, 12 extra nodes, 8 pruned nodes, max_depth=5\u001b[0m\n",
      "\u001b[34m[102]#011train-error:0.101333#011validation-error:0.1559\u001b[0m\n",
      "\u001b[34m[00:07:37] src/tree/updater_prune.cc:74: tree pruning end, 1 roots, 28 extra nodes, 12 pruned nodes, max_depth=5\u001b[0m\n",
      "\u001b[34m[103]#011train-error:0.100733#011validation-error:0.1547\u001b[0m\n",
      "\u001b[34m[00:07:38] src/tree/updater_prune.cc:74: tree pruning end, 1 roots, 24 extra nodes, 6 pruned nodes, max_depth=5\u001b[0m\n",
      "\u001b[34m[104]#011train-error:0.099267#011validation-error:0.1542\u001b[0m\n",
      "\u001b[34m[00:07:40] src/tree/updater_prune.cc:74: tree pruning end, 1 roots, 12 extra nodes, 4 pruned nodes, max_depth=5\u001b[0m\n",
      "\u001b[34m[105]#011train-error:0.0994#011validation-error:0.1538\u001b[0m\n",
      "\u001b[34m[00:07:41] src/tree/updater_prune.cc:74: tree pruning end, 1 roots, 24 extra nodes, 12 pruned nodes, max_depth=5\u001b[0m\n",
      "\u001b[34m[106]#011train-error:0.099133#011validation-error:0.1538\u001b[0m\n",
      "\u001b[34m[00:07:42] src/tree/updater_prune.cc:74: tree pruning end, 1 roots, 18 extra nodes, 8 pruned nodes, max_depth=5\u001b[0m\n",
      "\u001b[34m[107]#011train-error:0.098333#011validation-error:0.1531\u001b[0m\n",
      "\u001b[34m[00:07:44] src/tree/updater_prune.cc:74: tree pruning end, 1 roots, 22 extra nodes, 10 pruned nodes, max_depth=5\u001b[0m\n",
      "\u001b[34m[108]#011train-error:0.0978#011validation-error:0.1529\u001b[0m\n",
      "\u001b[34m[00:07:45] src/tree/updater_prune.cc:74: tree pruning end, 1 roots, 12 extra nodes, 10 pruned nodes, max_depth=5\u001b[0m\n",
      "\u001b[34m[109]#011train-error:0.098333#011validation-error:0.1522\u001b[0m\n",
      "\u001b[34m[00:07:46] src/tree/updater_prune.cc:74: tree pruning end, 1 roots, 22 extra nodes, 14 pruned nodes, max_depth=5\u001b[0m\n",
      "\u001b[34m[110]#011train-error:0.0984#011validation-error:0.1526\u001b[0m\n",
      "\u001b[34m[00:07:48] src/tree/updater_prune.cc:74: tree pruning end, 1 roots, 16 extra nodes, 4 pruned nodes, max_depth=5\u001b[0m\n",
      "\u001b[34m[111]#011train-error:0.0976#011validation-error:0.1517\u001b[0m\n",
      "\u001b[34m[00:07:49] src/tree/updater_prune.cc:74: tree pruning end, 1 roots, 30 extra nodes, 14 pruned nodes, max_depth=5\u001b[0m\n",
      "\u001b[34m[112]#011train-error:0.0964#011validation-error:0.152\u001b[0m\n",
      "\u001b[34m[00:07:51] src/tree/updater_prune.cc:74: tree pruning end, 1 roots, 10 extra nodes, 6 pruned nodes, max_depth=5\u001b[0m\n",
      "\u001b[34m[113]#011train-error:0.096267#011validation-error:0.1515\u001b[0m\n",
      "\u001b[34m[00:07:52] src/tree/updater_prune.cc:74: tree pruning end, 1 roots, 18 extra nodes, 8 pruned nodes, max_depth=5\u001b[0m\n",
      "\u001b[34m[114]#011train-error:0.096#011validation-error:0.1511\u001b[0m\n",
      "\u001b[34m[00:07:53] src/tree/updater_prune.cc:74: tree pruning end, 1 roots, 20 extra nodes, 8 pruned nodes, max_depth=5\u001b[0m\n",
      "\u001b[34m[115]#011train-error:0.095733#011validation-error:0.1506\u001b[0m\n",
      "\u001b[34m[00:07:55] src/tree/updater_prune.cc:74: tree pruning end, 1 roots, 14 extra nodes, 12 pruned nodes, max_depth=5\u001b[0m\n",
      "\u001b[34m[116]#011train-error:0.094867#011validation-error:0.1517\u001b[0m\n",
      "\u001b[34m[00:07:56] src/tree/updater_prune.cc:74: tree pruning end, 1 roots, 10 extra nodes, 16 pruned nodes, max_depth=5\u001b[0m\n",
      "\u001b[34m[117]#011train-error:0.095#011validation-error:0.1517\u001b[0m\n",
      "\u001b[34m[00:07:57] src/tree/updater_prune.cc:74: tree pruning end, 1 roots, 20 extra nodes, 4 pruned nodes, max_depth=5\u001b[0m\n",
      "\u001b[34m[118]#011train-error:0.094867#011validation-error:0.1517\u001b[0m\n",
      "\u001b[34m[00:07:59] src/tree/updater_prune.cc:74: tree pruning end, 1 roots, 20 extra nodes, 6 pruned nodes, max_depth=5\u001b[0m\n",
      "\u001b[34m[119]#011train-error:0.0944#011validation-error:0.1507\u001b[0m\n",
      "\u001b[34m[00:08:00] src/tree/updater_prune.cc:74: tree pruning end, 1 roots, 24 extra nodes, 8 pruned nodes, max_depth=5\u001b[0m\n",
      "\u001b[34m[120]#011train-error:0.094267#011validation-error:0.151\u001b[0m\n",
      "\u001b[34m[00:08:02] src/tree/updater_prune.cc:74: tree pruning end, 1 roots, 16 extra nodes, 8 pruned nodes, max_depth=5\u001b[0m\n",
      "\u001b[34m[121]#011train-error:0.093067#011validation-error:0.151\u001b[0m\n",
      "\u001b[34m[00:08:03] src/tree/updater_prune.cc:74: tree pruning end, 1 roots, 24 extra nodes, 4 pruned nodes, max_depth=5\u001b[0m\n",
      "\u001b[34m[122]#011train-error:0.093467#011validation-error:0.1512\u001b[0m\n",
      "\u001b[34m[00:08:04] src/tree/updater_prune.cc:74: tree pruning end, 1 roots, 14 extra nodes, 10 pruned nodes, max_depth=5\u001b[0m\n",
      "\u001b[34m[123]#011train-error:0.092867#011validation-error:0.1509\u001b[0m\n",
      "\u001b[34m[00:08:06] src/tree/updater_prune.cc:74: tree pruning end, 1 roots, 18 extra nodes, 16 pruned nodes, max_depth=5\u001b[0m\n",
      "\u001b[34m[124]#011train-error:0.091533#011validation-error:0.1503\u001b[0m\n",
      "\u001b[34m[00:08:08] src/tree/updater_prune.cc:74: tree pruning end, 1 roots, 16 extra nodes, 4 pruned nodes, max_depth=5\u001b[0m\n",
      "\u001b[34m[125]#011train-error:0.091667#011validation-error:0.15\u001b[0m\n",
      "\u001b[34m[00:08:09] src/tree/updater_prune.cc:74: tree pruning end, 1 roots, 18 extra nodes, 0 pruned nodes, max_depth=5\u001b[0m\n",
      "\u001b[34m[126]#011train-error:0.0916#011validation-error:0.1501\u001b[0m\n",
      "\u001b[34m[00:08:10] src/tree/updater_prune.cc:74: tree pruning end, 1 roots, 14 extra nodes, 6 pruned nodes, max_depth=5\u001b[0m\n",
      "\u001b[34m[127]#011train-error:0.091#011validation-error:0.1491\u001b[0m\n",
      "\u001b[34m[00:08:12] src/tree/updater_prune.cc:74: tree pruning end, 1 roots, 26 extra nodes, 6 pruned nodes, max_depth=5\u001b[0m\n",
      "\u001b[34m[128]#011train-error:0.0898#011validation-error:0.1498\u001b[0m\n",
      "\u001b[34m[00:08:13] src/tree/updater_prune.cc:74: tree pruning end, 1 roots, 14 extra nodes, 4 pruned nodes, max_depth=5\u001b[0m\n",
      "\u001b[34m[129]#011train-error:0.090067#011validation-error:0.1492\u001b[0m\n",
      "\u001b[34m[00:08:15] src/tree/updater_prune.cc:74: tree pruning end, 1 roots, 22 extra nodes, 16 pruned nodes, max_depth=5\u001b[0m\n",
      "\u001b[34m[130]#011train-error:0.088333#011validation-error:0.1496\u001b[0m\n",
      "\u001b[34m[00:08:16] src/tree/updater_prune.cc:74: tree pruning end, 1 roots, 10 extra nodes, 6 pruned nodes, max_depth=5\u001b[0m\n",
      "\u001b[34m[131]#011train-error:0.0884#011validation-error:0.1498\u001b[0m\n",
      "\u001b[34m[00:08:17] src/tree/updater_prune.cc:74: tree pruning end, 1 roots, 14 extra nodes, 8 pruned nodes, max_depth=5\u001b[0m\n",
      "\u001b[34m[132]#011train-error:0.087467#011validation-error:0.1492\u001b[0m\n"
     ]
    },
    {
     "name": "stdout",
     "output_type": "stream",
     "text": [
      "\u001b[34m[00:08:19] src/tree/updater_prune.cc:74: tree pruning end, 1 roots, 10 extra nodes, 10 pruned nodes, max_depth=5\u001b[0m\n",
      "\u001b[34m[133]#011train-error:0.087467#011validation-error:0.1495\u001b[0m\n",
      "\u001b[34m[00:08:20] src/tree/updater_prune.cc:74: tree pruning end, 1 roots, 16 extra nodes, 0 pruned nodes, max_depth=5\u001b[0m\n",
      "\u001b[34m[134]#011train-error:0.087#011validation-error:0.1486\u001b[0m\n",
      "\u001b[34m[00:08:21] src/tree/updater_prune.cc:74: tree pruning end, 1 roots, 18 extra nodes, 10 pruned nodes, max_depth=5\u001b[0m\n",
      "\u001b[34m[135]#011train-error:0.086867#011validation-error:0.1483\u001b[0m\n",
      "\u001b[34m[00:08:23] src/tree/updater_prune.cc:74: tree pruning end, 1 roots, 14 extra nodes, 12 pruned nodes, max_depth=5\u001b[0m\n",
      "\u001b[34m[136]#011train-error:0.086533#011validation-error:0.148\u001b[0m\n",
      "\u001b[34m[00:08:24] src/tree/updater_prune.cc:74: tree pruning end, 1 roots, 10 extra nodes, 2 pruned nodes, max_depth=5\u001b[0m\n",
      "\u001b[34m[137]#011train-error:0.0862#011validation-error:0.1482\u001b[0m\n",
      "\u001b[34m[00:08:26] src/tree/updater_prune.cc:74: tree pruning end, 1 roots, 14 extra nodes, 8 pruned nodes, max_depth=5\u001b[0m\n",
      "\u001b[34m[138]#011train-error:0.086#011validation-error:0.1474\u001b[0m\n",
      "\u001b[34m[00:08:27] src/tree/updater_prune.cc:74: tree pruning end, 1 roots, 20 extra nodes, 10 pruned nodes, max_depth=5\u001b[0m\n",
      "\u001b[34m[139]#011train-error:0.0854#011validation-error:0.1479\u001b[0m\n",
      "\u001b[34m[00:08:28] src/tree/updater_prune.cc:74: tree pruning end, 1 roots, 12 extra nodes, 6 pruned nodes, max_depth=5\u001b[0m\n",
      "\u001b[34m[140]#011train-error:0.0854#011validation-error:0.1479\u001b[0m\n",
      "\u001b[34m[00:08:30] src/tree/updater_prune.cc:74: tree pruning end, 1 roots, 14 extra nodes, 6 pruned nodes, max_depth=5\u001b[0m\n",
      "\u001b[34m[141]#011train-error:0.084933#011validation-error:0.1479\u001b[0m\n",
      "\u001b[34m[00:08:31] src/tree/updater_prune.cc:74: tree pruning end, 1 roots, 18 extra nodes, 10 pruned nodes, max_depth=5\u001b[0m\n",
      "\u001b[34m[142]#011train-error:0.0848#011validation-error:0.1469\u001b[0m\n",
      "\u001b[34m[00:08:32] src/tree/updater_prune.cc:74: tree pruning end, 1 roots, 22 extra nodes, 12 pruned nodes, max_depth=5\u001b[0m\n",
      "\u001b[34m[143]#011train-error:0.0846#011validation-error:0.1461\u001b[0m\n",
      "\u001b[34m[00:08:34] src/tree/updater_prune.cc:74: tree pruning end, 1 roots, 26 extra nodes, 10 pruned nodes, max_depth=5\u001b[0m\n",
      "\u001b[34m[144]#011train-error:0.0842#011validation-error:0.1456\u001b[0m\n",
      "\u001b[34m[00:08:35] src/tree/updater_prune.cc:74: tree pruning end, 1 roots, 22 extra nodes, 10 pruned nodes, max_depth=5\u001b[0m\n",
      "\u001b[34m[145]#011train-error:0.084#011validation-error:0.1442\u001b[0m\n",
      "\u001b[34m[00:08:36] src/tree/updater_prune.cc:74: tree pruning end, 1 roots, 12 extra nodes, 4 pruned nodes, max_depth=5\u001b[0m\n",
      "\u001b[34m[146]#011train-error:0.083533#011validation-error:0.144\u001b[0m\n",
      "\u001b[34m[00:08:38] src/tree/updater_prune.cc:74: tree pruning end, 1 roots, 14 extra nodes, 4 pruned nodes, max_depth=5\u001b[0m\n",
      "\u001b[34m[147]#011train-error:0.083333#011validation-error:0.1434\u001b[0m\n",
      "\u001b[34m[00:08:39] src/tree/updater_prune.cc:74: tree pruning end, 1 roots, 20 extra nodes, 8 pruned nodes, max_depth=5\u001b[0m\n",
      "\u001b[34m[148]#011train-error:0.0834#011validation-error:0.144\u001b[0m\n",
      "\u001b[34m[00:08:40] src/tree/updater_prune.cc:74: tree pruning end, 1 roots, 12 extra nodes, 4 pruned nodes, max_depth=5\u001b[0m\n",
      "\u001b[34m[149]#011train-error:0.083#011validation-error:0.1434\u001b[0m\n",
      "\u001b[34m[00:08:42] src/tree/updater_prune.cc:74: tree pruning end, 1 roots, 18 extra nodes, 2 pruned nodes, max_depth=5\u001b[0m\n",
      "\u001b[34m[150]#011train-error:0.083067#011validation-error:0.1441\u001b[0m\n",
      "\u001b[34m[00:08:43] src/tree/updater_prune.cc:74: tree pruning end, 1 roots, 12 extra nodes, 4 pruned nodes, max_depth=5\u001b[0m\n",
      "\u001b[34m[151]#011train-error:0.083067#011validation-error:0.1448\u001b[0m\n",
      "\u001b[34m[00:08:44] src/tree/updater_prune.cc:74: tree pruning end, 1 roots, 12 extra nodes, 8 pruned nodes, max_depth=5\u001b[0m\n",
      "\u001b[34m[152]#011train-error:0.082467#011validation-error:0.1454\u001b[0m\n",
      "\u001b[34m[00:08:46] src/tree/updater_prune.cc:74: tree pruning end, 1 roots, 14 extra nodes, 8 pruned nodes, max_depth=5\u001b[0m\n",
      "\u001b[34m[153]#011train-error:0.081867#011validation-error:0.1446\u001b[0m\n",
      "\u001b[34m[00:08:47] src/tree/updater_prune.cc:74: tree pruning end, 1 roots, 24 extra nodes, 8 pruned nodes, max_depth=5\u001b[0m\n",
      "\u001b[34m[154]#011train-error:0.081533#011validation-error:0.1447\u001b[0m\n",
      "\u001b[34m[00:08:48] src/tree/updater_prune.cc:74: tree pruning end, 1 roots, 12 extra nodes, 4 pruned nodes, max_depth=5\u001b[0m\n",
      "\u001b[34m[155]#011train-error:0.081067#011validation-error:0.1444\u001b[0m\n",
      "\u001b[34m[00:08:50] src/tree/updater_prune.cc:74: tree pruning end, 1 roots, 14 extra nodes, 4 pruned nodes, max_depth=5\u001b[0m\n",
      "\u001b[34m[156]#011train-error:0.081067#011validation-error:0.1443\u001b[0m\n",
      "\u001b[34m[00:08:51] src/tree/updater_prune.cc:74: tree pruning end, 1 roots, 20 extra nodes, 2 pruned nodes, max_depth=5\u001b[0m\n",
      "\u001b[34m[157]#011train-error:0.081133#011validation-error:0.1434\u001b[0m\n",
      "\u001b[34mStopping. Best iteration:\u001b[0m\n",
      "\u001b[34m[147]#011train-error:0.083333#011validation-error:0.1434\n",
      "\u001b[0m\n",
      "\n",
      "2021-08-22 00:08:59 Uploading - Uploading generated training model\n",
      "2021-08-22 00:08:59 Completed - Training job completed\n",
      "Training seconds: 287\n",
      "Billable seconds: 287\n"
     ]
    }
   ],
   "source": [
    "xgb.fit({'train': s3_input_train, 'validation': s3_input_validation})"
   ]
  },
  {
   "cell_type": "markdown",
   "metadata": {},
   "source": [
    "## Step 5: Testing the model\n",
    "\n",
    "Now that we've fit our XGBoost model, it's time to see how well it performs. To do this we will use SageMakers Batch Transform functionality. Batch Transform is a convenient way to perform inference on a large dataset in a way that is not realtime. That is, we don't necessarily need to use our model's results immediately and instead we can perform inference on a large number of samples. An example of this in industry might be performing an end of month report. This method of inference can also be useful to us as it means that we can perform inference on our entire test set. \n",
    "\n",
    "To perform a Batch Transformation we need to first create a transformer objects from our trained estimator object."
   ]
  },
  {
   "cell_type": "code",
   "execution_count": 26,
   "metadata": {},
   "outputs": [
    {
     "name": "stderr",
     "output_type": "stream",
     "text": [
      "Parameter image will be renamed to image_uri in SageMaker Python SDK v2.\n"
     ]
    }
   ],
   "source": [
    "xgb_transformer = xgb.transformer(instance_count = 1, instance_type = 'ml.m4.xlarge')"
   ]
  },
  {
   "cell_type": "markdown",
   "metadata": {},
   "source": [
    "Next we actually perform the transform job. When doing so we need to make sure to specify the type of data we are sending so that it is serialized correctly in the background. In our case we are providing our model with csv data so we specify `text/csv`. Also, if the test data that we have provided is too large to process all at once then we need to specify how the data file should be split up. Since each line is a single entry in our data set we tell SageMaker that it can split the input on each line."
   ]
  },
  {
   "cell_type": "code",
   "execution_count": 27,
   "metadata": {},
   "outputs": [],
   "source": [
    "xgb_transformer.transform(test_location, content_type='text/csv', split_type='Line')"
   ]
  },
  {
   "cell_type": "markdown",
   "metadata": {},
   "source": [
    "Currently the transform job is running but it is doing so in the background. Since we wish to wait until the transform job is done and we would like a bit of feedback we can run the `wait()` method."
   ]
  },
  {
   "cell_type": "code",
   "execution_count": 28,
   "metadata": {},
   "outputs": [
    {
     "name": "stdout",
     "output_type": "stream",
     "text": [
      "................................\u001b[34mArguments: serve\u001b[0m\n",
      "\u001b[34m[2021-08-22 00:14:35 +0000] [1] [INFO] Starting gunicorn 19.9.0\u001b[0m\n",
      "\u001b[34m[2021-08-22 00:14:35 +0000] [1] [INFO] Listening at: http://0.0.0.0:8080 (1)\u001b[0m\n",
      "\u001b[34m[2021-08-22 00:14:35 +0000] [1] [INFO] Using worker: gevent\u001b[0m\n",
      "\u001b[34m[2021-08-22 00:14:35 +0000] [20] [INFO] Booting worker with pid: 20\u001b[0m\n",
      "\u001b[34m[2021-08-22 00:14:35 +0000] [21] [INFO] Booting worker with pid: 21\u001b[0m\n",
      "\u001b[34m[2021-08-22 00:14:35 +0000] [22] [INFO] Booting worker with pid: 22\u001b[0m\n",
      "\u001b[34m[2021-08-22 00:14:35 +0000] [23] [INFO] Booting worker with pid: 23\u001b[0m\n",
      "\u001b[34m/opt/amazon/lib/python3.7/site-packages/gunicorn/workers/ggevent.py:65: MonkeyPatchWarning: Monkey-patching ssl after ssl has already been imported may lead to errors, including RecursionError on Python 3.6. It may also silently lead to incorrect behaviour on Python 3.7. Please monkey-patch earlier. See https://github.com/gevent/gevent/issues/1016. Modules that had direct imports (NOT patched): ['urllib3.util (/opt/amazon/lib/python3.7/site-packages/urllib3/util/__init__.py)', 'urllib3.util.ssl_ (/opt/amazon/lib/python3.7/site-packages/urllib3/util/ssl_.py)']. \n",
      "  monkey.patch_all(subprocess=True)\u001b[0m\n",
      "\u001b[34m/opt/amazon/lib/python3.7/site-packages/gunicorn/workers/ggevent.py:65: MonkeyPatchWarning: Monkey-patching ssl after ssl has already been imported may lead to errors, including RecursionError on Python 3.6. It may also silently lead to incorrect behaviour on Python 3.7. Please monkey-patch earlier. See https://github.com/gevent/gevent/issues/1016. Modules that had direct imports (NOT patched): ['urllib3.util (/opt/amazon/lib/python3.7/site-packages/urllib3/util/__init__.py)', 'urllib3.util.ssl_ (/opt/amazon/lib/python3.7/site-packages/urllib3/util/ssl_.py)']. \n",
      "  monkey.patch_all(subprocess=True)\u001b[0m\n",
      "\u001b[34m[2021-08-22:00:14:35:INFO] Model loaded successfully for worker : 21\u001b[0m\n",
      "\u001b[34m[2021-08-22:00:14:35:INFO] Model loaded successfully for worker : 20\u001b[0m\n",
      "\u001b[34m/opt/amazon/lib/python3.7/site-packages/gunicorn/workers/ggevent.py:65: MonkeyPatchWarning: Monkey-patching ssl after ssl has already been imported may lead to errors, including RecursionError on Python 3.6. It may also silently lead to incorrect behaviour on Python 3.7. Please monkey-patch earlier. See https://github.com/gevent/gevent/issues/1016. Modules that had direct imports (NOT patched): ['urllib3.util (/opt/amazon/lib/python3.7/site-packages/urllib3/util/__init__.py)', 'urllib3.util.ssl_ (/opt/amazon/lib/python3.7/site-packages/urllib3/util/ssl_.py)']. \n",
      "  monkey.patch_all(subprocess=True)\u001b[0m\n",
      "\u001b[34m[2021-08-22:00:14:35:INFO] Model loaded successfully for worker : 22\u001b[0m\n",
      "\u001b[34m/opt/amazon/lib/python3.7/site-packages/gunicorn/workers/ggevent.py:65: MonkeyPatchWarning: Monkey-patching ssl after ssl has already been imported may lead to errors, including RecursionError on Python 3.6. It may also silently lead to incorrect behaviour on Python 3.7. Please monkey-patch earlier. See https://github.com/gevent/gevent/issues/1016. Modules that had direct imports (NOT patched): ['urllib3.util (/opt/amazon/lib/python3.7/site-packages/urllib3/util/__init__.py)', 'urllib3.util.ssl_ (/opt/amazon/lib/python3.7/site-packages/urllib3/util/ssl_.py)']. \n",
      "  monkey.patch_all(subprocess=True)\u001b[0m\n",
      "\u001b[34m[2021-08-22:00:14:35:INFO] Model loaded successfully for worker : 23\u001b[0m\n",
      "\u001b[32m2021-08-22T00:14:39.138:[sagemaker logs]: MaxConcurrentTransforms=4, MaxPayloadInMB=6, BatchStrategy=MULTI_RECORD\u001b[0m\n",
      "\u001b[34m[2021-08-22:00:14:43:INFO] Sniff delimiter as ','\u001b[0m\n",
      "\u001b[35m[2021-08-22:00:14:43:INFO] Sniff delimiter as ','\u001b[0m\n",
      "\u001b[34m[2021-08-22:00:14:43:INFO] Determined delimiter of CSV input is ','\u001b[0m\n",
      "\u001b[34m[2021-08-22:00:14:43:INFO] Sniff delimiter as ','\u001b[0m\n",
      "\u001b[34m[2021-08-22:00:14:43:INFO] Determined delimiter of CSV input is ','\u001b[0m\n",
      "\u001b[34m[2021-08-22:00:14:44:INFO] Sniff delimiter as ','\u001b[0m\n",
      "\u001b[34m[2021-08-22:00:14:44:INFO] Determined delimiter of CSV input is ','\u001b[0m\n",
      "\u001b[34m[2021-08-22:00:14:44:INFO] Sniff delimiter as ','\u001b[0m\n",
      "\u001b[34m[2021-08-22:00:14:44:INFO] Determined delimiter of CSV input is ','\u001b[0m\n",
      "\u001b[35m[2021-08-22:00:14:43:INFO] Determined delimiter of CSV input is ','\u001b[0m\n",
      "\u001b[35m[2021-08-22:00:14:43:INFO] Sniff delimiter as ','\u001b[0m\n",
      "\u001b[35m[2021-08-22:00:14:43:INFO] Determined delimiter of CSV input is ','\u001b[0m\n",
      "\u001b[35m[2021-08-22:00:14:44:INFO] Sniff delimiter as ','\u001b[0m\n",
      "\u001b[35m[2021-08-22:00:14:44:INFO] Determined delimiter of CSV input is ','\u001b[0m\n",
      "\u001b[35m[2021-08-22:00:14:44:INFO] Sniff delimiter as ','\u001b[0m\n",
      "\u001b[35m[2021-08-22:00:14:44:INFO] Determined delimiter of CSV input is ','\u001b[0m\n",
      "\u001b[34m[2021-08-22:00:14:47:INFO] Sniff delimiter as ','\u001b[0m\n",
      "\u001b[34m[2021-08-22:00:14:47:INFO] Determined delimiter of CSV input is ','\u001b[0m\n",
      "\u001b[35m[2021-08-22:00:14:47:INFO] Sniff delimiter as ','\u001b[0m\n",
      "\u001b[35m[2021-08-22:00:14:47:INFO] Determined delimiter of CSV input is ','\u001b[0m\n",
      "\u001b[34m[2021-08-22:00:14:47:INFO] Sniff delimiter as ','\u001b[0m\n",
      "\u001b[34m[2021-08-22:00:14:47:INFO] Determined delimiter of CSV input is ','\u001b[0m\n",
      "\u001b[34m[2021-08-22:00:14:47:INFO] Sniff delimiter as ','\u001b[0m\n",
      "\u001b[34m[2021-08-22:00:14:47:INFO] Determined delimiter of CSV input is ','\u001b[0m\n",
      "\u001b[34m[2021-08-22:00:14:48:INFO] Sniff delimiter as ','\u001b[0m\n",
      "\u001b[34m[2021-08-22:00:14:48:INFO] Determined delimiter of CSV input is ','\u001b[0m\n",
      "\u001b[35m[2021-08-22:00:14:47:INFO] Sniff delimiter as ','\u001b[0m\n",
      "\u001b[35m[2021-08-22:00:14:47:INFO] Determined delimiter of CSV input is ','\u001b[0m\n",
      "\u001b[35m[2021-08-22:00:14:47:INFO] Sniff delimiter as ','\u001b[0m\n",
      "\u001b[35m[2021-08-22:00:14:47:INFO] Determined delimiter of CSV input is ','\u001b[0m\n",
      "\u001b[35m[2021-08-22:00:14:48:INFO] Sniff delimiter as ','\u001b[0m\n",
      "\u001b[35m[2021-08-22:00:14:48:INFO] Determined delimiter of CSV input is ','\u001b[0m\n",
      "\u001b[34m[2021-08-22:00:14:51:INFO] Sniff delimiter as ','\u001b[0m\n",
      "\u001b[34m[2021-08-22:00:14:51:INFO] Determined delimiter of CSV input is ','\u001b[0m\n",
      "\u001b[34m[2021-08-22:00:14:51:INFO] Sniff delimiter as ','\u001b[0m\n",
      "\u001b[34m[2021-08-22:00:14:51:INFO] Determined delimiter of CSV input is ','\u001b[0m\n",
      "\u001b[35m[2021-08-22:00:14:51:INFO] Sniff delimiter as ','\u001b[0m\n",
      "\u001b[35m[2021-08-22:00:14:51:INFO] Determined delimiter of CSV input is ','\u001b[0m\n",
      "\u001b[35m[2021-08-22:00:14:51:INFO] Sniff delimiter as ','\u001b[0m\n",
      "\u001b[35m[2021-08-22:00:14:51:INFO] Determined delimiter of CSV input is ','\u001b[0m\n",
      "\u001b[34m[2021-08-22:00:14:51:INFO] Sniff delimiter as ','\u001b[0m\n",
      "\u001b[34m[2021-08-22:00:14:51:INFO] Determined delimiter of CSV input is ','\u001b[0m\n",
      "\u001b[34m[2021-08-22:00:14:52:INFO] Sniff delimiter as ','\u001b[0m\n",
      "\u001b[34m[2021-08-22:00:14:52:INFO] Determined delimiter of CSV input is ','\u001b[0m\n",
      "\u001b[35m[2021-08-22:00:14:51:INFO] Sniff delimiter as ','\u001b[0m\n",
      "\u001b[35m[2021-08-22:00:14:51:INFO] Determined delimiter of CSV input is ','\u001b[0m\n",
      "\u001b[35m[2021-08-22:00:14:52:INFO] Sniff delimiter as ','\u001b[0m\n",
      "\u001b[35m[2021-08-22:00:14:52:INFO] Determined delimiter of CSV input is ','\u001b[0m\n",
      "\u001b[34m[2021-08-22:00:14:55:INFO] Sniff delimiter as ','\u001b[0m\n",
      "\u001b[34m[2021-08-22:00:14:55:INFO] Determined delimiter of CSV input is ','\u001b[0m\n",
      "\u001b[34m[2021-08-22:00:14:55:INFO] Sniff delimiter as ','\u001b[0m\n",
      "\u001b[34m[2021-08-22:00:14:55:INFO] Determined delimiter of CSV input is ','\u001b[0m\n",
      "\u001b[35m[2021-08-22:00:14:55:INFO] Sniff delimiter as ','\u001b[0m\n",
      "\u001b[35m[2021-08-22:00:14:55:INFO] Determined delimiter of CSV input is ','\u001b[0m\n",
      "\u001b[35m[2021-08-22:00:14:55:INFO] Sniff delimiter as ','\u001b[0m\n",
      "\u001b[35m[2021-08-22:00:14:55:INFO] Determined delimiter of CSV input is ','\u001b[0m\n",
      "\u001b[34m[2021-08-22:00:14:55:INFO] Sniff delimiter as ','\u001b[0m\n",
      "\u001b[35m[2021-08-22:00:14:55:INFO] Sniff delimiter as ','\u001b[0m\n",
      "\u001b[34m[2021-08-22:00:14:55:INFO] Determined delimiter of CSV input is ','\u001b[0m\n",
      "\u001b[34m[2021-08-22:00:14:55:INFO] Sniff delimiter as ','\u001b[0m\n",
      "\u001b[34m[2021-08-22:00:14:55:INFO] Determined delimiter of CSV input is ','\u001b[0m\n",
      "\u001b[35m[2021-08-22:00:14:55:INFO] Determined delimiter of CSV input is ','\u001b[0m\n",
      "\u001b[35m[2021-08-22:00:14:55:INFO] Sniff delimiter as ','\u001b[0m\n",
      "\u001b[35m[2021-08-22:00:14:55:INFO] Determined delimiter of CSV input is ','\u001b[0m\n",
      "\u001b[34m[2021-08-22:00:14:59:INFO] Determined delimiter of CSV input is ','\u001b[0m\n",
      "\u001b[34m[2021-08-22:00:14:59:INFO] Sniff delimiter as ','\u001b[0m\n",
      "\u001b[34m[2021-08-22:00:14:59:INFO] Determined delimiter of CSV input is ','\u001b[0m\n",
      "\u001b[35m[2021-08-22:00:14:59:INFO] Determined delimiter of CSV input is ','\u001b[0m\n",
      "\u001b[35m[2021-08-22:00:14:59:INFO] Sniff delimiter as ','\u001b[0m\n",
      "\u001b[35m[2021-08-22:00:14:59:INFO] Determined delimiter of CSV input is ','\u001b[0m\n",
      "\u001b[34m[2021-08-22:00:14:59:INFO] Sniff delimiter as ','\u001b[0m\n",
      "\u001b[34m[2021-08-22:00:14:59:INFO] Determined delimiter of CSV input is ','\u001b[0m\n",
      "\u001b[35m[2021-08-22:00:14:59:INFO] Sniff delimiter as ','\u001b[0m\n",
      "\u001b[35m[2021-08-22:00:14:59:INFO] Determined delimiter of CSV input is ','\u001b[0m\n",
      "\u001b[34m[2021-08-22:00:15:03:INFO] Sniff delimiter as ','\u001b[0m\n",
      "\u001b[34m[2021-08-22:00:15:03:INFO] Determined delimiter of CSV input is ','\u001b[0m\n",
      "\u001b[34m[2021-08-22:00:15:03:INFO] Sniff delimiter as ','\u001b[0m\n",
      "\u001b[34m[2021-08-22:00:15:03:INFO] Determined delimiter of CSV input is ','\u001b[0m\n",
      "\u001b[34m[2021-08-22:00:15:03:INFO] Sniff delimiter as ','\u001b[0m\n",
      "\u001b[34m[2021-08-22:00:15:03:INFO] Determined delimiter of CSV input is ','\u001b[0m\n",
      "\u001b[34m[2021-08-22:00:15:03:INFO] Sniff delimiter as ','\u001b[0m\n",
      "\u001b[34m[2021-08-22:00:15:03:INFO] Determined delimiter of CSV input is ','\u001b[0m\n",
      "\u001b[35m[2021-08-22:00:15:03:INFO] Sniff delimiter as ','\u001b[0m\n",
      "\u001b[35m[2021-08-22:00:15:03:INFO] Determined delimiter of CSV input is ','\u001b[0m\n",
      "\u001b[35m[2021-08-22:00:15:03:INFO] Sniff delimiter as ','\u001b[0m\n",
      "\u001b[35m[2021-08-22:00:15:03:INFO] Determined delimiter of CSV input is ','\u001b[0m\n",
      "\u001b[35m[2021-08-22:00:15:03:INFO] Sniff delimiter as ','\u001b[0m\n",
      "\u001b[35m[2021-08-22:00:15:03:INFO] Determined delimiter of CSV input is ','\u001b[0m\n",
      "\u001b[35m[2021-08-22:00:15:03:INFO] Sniff delimiter as ','\u001b[0m\n",
      "\u001b[35m[2021-08-22:00:15:03:INFO] Determined delimiter of CSV input is ','\u001b[0m\n"
     ]
    },
    {
     "name": "stdout",
     "output_type": "stream",
     "text": [
      "\u001b[34m[2021-08-22:00:15:10:INFO] Sniff delimiter as ','\u001b[0m\n",
      "\u001b[35m[2021-08-22:00:15:10:INFO] Sniff delimiter as ','\u001b[0m\n",
      "\u001b[34m[2021-08-22:00:15:10:INFO] Determined delimiter of CSV input is ','\u001b[0m\n",
      "\u001b[34m[2021-08-22:00:15:10:INFO] Sniff delimiter as ','\u001b[0m\n",
      "\u001b[34m[2021-08-22:00:15:10:INFO] Determined delimiter of CSV input is ','\u001b[0m\n",
      "\u001b[34m[2021-08-22:00:15:11:INFO] Sniff delimiter as ','\u001b[0m\n",
      "\u001b[34m[2021-08-22:00:15:11:INFO] Determined delimiter of CSV input is ','\u001b[0m\n",
      "\u001b[34m[2021-08-22:00:15:11:INFO] Sniff delimiter as ','\u001b[0m\n",
      "\u001b[34m[2021-08-22:00:15:11:INFO] Determined delimiter of CSV input is ','\u001b[0m\n",
      "\u001b[35m[2021-08-22:00:15:10:INFO] Determined delimiter of CSV input is ','\u001b[0m\n",
      "\u001b[35m[2021-08-22:00:15:10:INFO] Sniff delimiter as ','\u001b[0m\n",
      "\u001b[35m[2021-08-22:00:15:10:INFO] Determined delimiter of CSV input is ','\u001b[0m\n",
      "\u001b[35m[2021-08-22:00:15:11:INFO] Sniff delimiter as ','\u001b[0m\n",
      "\u001b[35m[2021-08-22:00:15:11:INFO] Determined delimiter of CSV input is ','\u001b[0m\n",
      "\u001b[35m[2021-08-22:00:15:11:INFO] Sniff delimiter as ','\u001b[0m\n",
      "\u001b[35m[2021-08-22:00:15:11:INFO] Determined delimiter of CSV input is ','\u001b[0m\n",
      "\n",
      "\u001b[34m[2021-08-22:00:15:15:INFO] Determined delimiter of CSV input is ','\u001b[0m\n",
      "\u001b[35m[2021-08-22:00:15:15:INFO] Determined delimiter of CSV input is ','\u001b[0m\n",
      "\u001b[34m[2021-08-22:00:15:18:INFO] Sniff delimiter as ','\u001b[0m\n",
      "\u001b[34m[2021-08-22:00:15:18:INFO] Determined delimiter of CSV input is ','\u001b[0m\n",
      "\u001b[34m[2021-08-22:00:15:18:INFO] Sniff delimiter as ','\u001b[0m\n",
      "\u001b[34m[2021-08-22:00:15:18:INFO] Determined delimiter of CSV input is ','\u001b[0m\n",
      "\u001b[35m[2021-08-22:00:15:18:INFO] Sniff delimiter as ','\u001b[0m\n",
      "\u001b[35m[2021-08-22:00:15:18:INFO] Determined delimiter of CSV input is ','\u001b[0m\n",
      "\u001b[35m[2021-08-22:00:15:18:INFO] Sniff delimiter as ','\u001b[0m\n",
      "\u001b[35m[2021-08-22:00:15:18:INFO] Determined delimiter of CSV input is ','\u001b[0m\n",
      "\u001b[34m[2021-08-22:00:15:18:INFO] Sniff delimiter as ','\u001b[0m\n",
      "\u001b[34m[2021-08-22:00:15:18:INFO] Determined delimiter of CSV input is ','\u001b[0m\n",
      "\u001b[34m[2021-08-22:00:15:18:INFO] Sniff delimiter as ','\u001b[0m\n",
      "\u001b[34m[2021-08-22:00:15:18:INFO] Determined delimiter of CSV input is ','\u001b[0m\n",
      "\u001b[35m[2021-08-22:00:15:18:INFO] Sniff delimiter as ','\u001b[0m\n",
      "\u001b[35m[2021-08-22:00:15:18:INFO] Determined delimiter of CSV input is ','\u001b[0m\n",
      "\u001b[35m[2021-08-22:00:15:18:INFO] Sniff delimiter as ','\u001b[0m\n",
      "\u001b[35m[2021-08-22:00:15:18:INFO] Determined delimiter of CSV input is ','\u001b[0m\n"
     ]
    }
   ],
   "source": [
    "xgb_transformer.wait()"
   ]
  },
  {
   "cell_type": "markdown",
   "metadata": {},
   "source": [
    "Now the transform job has executed and the result, the estimated sentiment of each review, has been saved on S3. Since we would rather work on this file locally we can perform a bit of notebook magic to copy the file to the `data_dir`."
   ]
  },
  {
   "cell_type": "code",
   "execution_count": 29,
   "metadata": {},
   "outputs": [
    {
     "name": "stdout",
     "output_type": "stream",
     "text": [
      "Completed 256.0 KiB/473.3 KiB (2.6 MiB/s) with 1 file(s) remaining\r",
      "Completed 473.3 KiB/473.3 KiB (4.6 MiB/s) with 1 file(s) remaining\r",
      "download: s3://sagemaker-us-east-1-267100622531/xgboost-2021-08-22-00-09-25-053/test.csv.out to ../data/sentiment_web_app/test.csv.out\r\n"
     ]
    }
   ],
   "source": [
    "!aws s3 cp --recursive $xgb_transformer.output_path $data_dir"
   ]
  },
  {
   "cell_type": "markdown",
   "metadata": {},
   "source": [
    "The last step is now to read in the output from our model, convert the output to something a little more usable, in this case we want the sentiment to be either `1` (positive) or `0` (negative), and then compare to the ground truth labels."
   ]
  },
  {
   "cell_type": "code",
   "execution_count": 30,
   "metadata": {},
   "outputs": [],
   "source": [
    "predictions = pd.read_csv(os.path.join(data_dir, 'test.csv.out'), header=None)\n",
    "predictions = [round(num) for num in predictions.squeeze().values]"
   ]
  },
  {
   "cell_type": "code",
   "execution_count": 31,
   "metadata": {},
   "outputs": [
    {
     "data": {
      "text/plain": [
       "0.8566"
      ]
     },
     "execution_count": 31,
     "metadata": {},
     "output_type": "execute_result"
    }
   ],
   "source": [
    "from sklearn.metrics import accuracy_score\n",
    "accuracy_score(test_y, predictions)"
   ]
  },
  {
   "cell_type": "markdown",
   "metadata": {},
   "source": [
    "## Step 6: Deploying the model\n",
    "\n",
    "Once we construct and fit our model, SageMaker stores the resulting model artifacts and we can use those to deploy an endpoint (inference code). To see this, look in the SageMaker console and you should see that a model has been created along with a link to the S3 location where the model artifacts have been stored.\n",
    "\n",
    "Deploying an endpoint is a lot like training the model with a few important differences. The first is that a deployed model doesn't change the model artifacts, so as you send it various testing instances the model won't change. Another difference is that since we aren't performing a fixed computation, as we were in the training step or while performing a batch transform, the compute instance that gets started stays running until we tell it to stop. This is important to note as if we forget and leave it running we will be charged the entire time.\n",
    "\n",
    "In other words **If you are no longer using a deployed endpoint, shut it down!**"
   ]
  },
  {
   "cell_type": "code",
   "execution_count": 32,
   "metadata": {},
   "outputs": [
    {
     "name": "stderr",
     "output_type": "stream",
     "text": [
      "Parameter image will be renamed to image_uri in SageMaker Python SDK v2.\n",
      "Using already existing model: xgboost-2021-08-22-00-02-08-110\n"
     ]
    },
    {
     "name": "stdout",
     "output_type": "stream",
     "text": [
      "-----------------!"
     ]
    }
   ],
   "source": [
    "xgb_predictor = xgb.deploy(initial_instance_count = 1, instance_type = 'ml.m4.xlarge')"
   ]
  },
  {
   "cell_type": "markdown",
   "metadata": {},
   "source": [
    "### Testing the model (again)\n",
    "\n",
    "Now that we have deployed our endpoint, we can send the testing data to it and get back the inference results. We already did this earlier using the batch transform functionality of SageMaker, however, we will test our model again using the newly deployed endpoint so that we can make sure that it works properly and to get a bit of a feel for how the endpoint works.\n",
    "\n",
    "When using the created endpoint it is important to know that we are limited in the amount of information we can send in each call so we need to break the testing data up into chunks and then send each chunk. Also, we need to serialize our data before we send it to the endpoint to ensure that our data is transmitted properly. Fortunately, SageMaker can do the serialization part for us provided we tell it the format of our data."
   ]
  },
  {
   "cell_type": "code",
   "execution_count": 33,
   "metadata": {},
   "outputs": [],
   "source": [
    "from sagemaker.predictor import csv_serializer\n",
    "\n",
    "# We need to tell the endpoint what format the data we are sending is in so that SageMaker can perform the serialization.\n",
    "xgb_predictor.content_type = 'text/csv'\n",
    "xgb_predictor.serializer = csv_serializer"
   ]
  },
  {
   "cell_type": "code",
   "execution_count": 34,
   "metadata": {},
   "outputs": [],
   "source": [
    "# We split the data into chunks and send each chunk seperately, accumulating the results.\n",
    "\n",
    "def predict(data, rows=512):\n",
    "    split_array = np.array_split(data, int(data.shape[0] / float(rows) + 1))\n",
    "    predictions = ''\n",
    "    for array in split_array:\n",
    "        predictions = ','.join([predictions, xgb_predictor.predict(array).decode('utf-8')])\n",
    "    \n",
    "    return np.fromstring(predictions[1:], sep=',')"
   ]
  },
  {
   "cell_type": "code",
   "execution_count": 35,
   "metadata": {},
   "outputs": [],
   "source": [
    "test_X = pd.read_csv(os.path.join(data_dir, 'test.csv'), header=None).values\n",
    "\n",
    "predictions = predict(test_X)\n",
    "predictions = [round(num) for num in predictions]"
   ]
  },
  {
   "cell_type": "markdown",
   "metadata": {},
   "source": [
    "Lastly, we check to see what the accuracy of our model is."
   ]
  },
  {
   "cell_type": "code",
   "execution_count": 36,
   "metadata": {},
   "outputs": [
    {
     "data": {
      "text/plain": [
       "0.8566"
      ]
     },
     "execution_count": 36,
     "metadata": {},
     "output_type": "execute_result"
    }
   ],
   "source": [
    "from sklearn.metrics import accuracy_score\n",
    "accuracy_score(test_y, predictions)"
   ]
  },
  {
   "cell_type": "markdown",
   "metadata": {},
   "source": [
    "And the results here should agree with the model testing that we did earlier using the batch transform job.\n",
    "\n",
    "### Cleaning up\n",
    "\n",
    "Now that we've determined that deploying our model works as expected, we are going to shut it down. Remember that the longer the endpoint is left running, the greater the cost and since we have a bit more work to do before we are able to use our endpoint with our simple web app, we should shut everything down."
   ]
  },
  {
   "cell_type": "code",
   "execution_count": 37,
   "metadata": {},
   "outputs": [],
   "source": [
    "xgb_predictor.delete_endpoint()"
   ]
  },
  {
   "cell_type": "markdown",
   "metadata": {},
   "source": [
    "## Step 7: Putting our model to work\n",
    "\n",
    "As we've mentioned a few times now, our goal is to have our model deployed and then access it using a very simple web app. The intent is for this web app to take some user submitted data (a review), send it off to our endpoint (the model) and then display the result.\n",
    "\n",
    "However, there is a small catch. Currently the only way we can access the endpoint to send it data is using the SageMaker API. We can, if we wish, expose the actual URL that our model's endpoint is receiving data from, however, if we just send it data ourselves we will not get anything in return. This is because the endpoint created by SageMaker requires the entity accessing it have the correct permissions. So, we would need to somehow authenticate our web app with AWS.\n",
    "\n",
    "Having a website that authenticates to AWS seems a bit beyond the scope of this lesson so we will opt for an alternative approach. Namely, we will create a new endpoint which does not require authentication and which acts as a proxy for the SageMaker endpoint.\n",
    "\n",
    "As an additional constraint, we will try to avoid doing any data processing in the web app itself. Remember that when we constructed and tested our model we started with a movie review, then we simplified it by removing any html formatting and punctuation, then we constructed a bag of words embedding and the resulting vector is what we sent to our model. All of this needs to be done to our user input as well.\n",
    "\n",
    "Fortunately we can do all of this data processing in the backend, using Amazon's Lambda service.\n",
    "\n",
    "<img src=\"Web App Diagram.svg\">\n",
    "\n",
    "The diagram above gives an overview of how the various services will work together. On the far right is the model which we trained above and which will be deployed using SageMaker. On the far left is our web app that collects a user's movie review, sends it off and expects a positive or negative sentiment in return.\n",
    "\n",
    "In the middle is where some of the magic happens. We will construct a Lambda function, which you can think of as a straightforward Python function that can be executed whenever a specified event occurs. This Python function will do the data processing we need to perform on a user submitted review. In addition, we will give this function permission to send and recieve data from a SageMaker endpoint.\n",
    "\n",
    "Lastly, the method we will use to execute the Lambda function is a new endpoint that we will create using API Gateway. This endpoint will be a url that listens for data to be sent to it. Once it gets some data it will pass that data on to the Lambda function and then return whatever the Lambda function returns. Essentially it will act as an interface that lets our web app communicate with the Lambda function.\n",
    "\n",
    "### Processing a single review\n",
    "\n",
    "For now, suppose we are given a movie review by our user in the form of a string, like so:"
   ]
  },
  {
   "cell_type": "code",
   "execution_count": 38,
   "metadata": {},
   "outputs": [],
   "source": [
    "test_review = \"Nothing but a disgusting materialistic pageant of glistening abed remote control greed zombies, totally devoid of any heart or heat. A romantic comedy that has zero romantic chemestry and zero laughs!\""
   ]
  },
  {
   "cell_type": "markdown",
   "metadata": {},
   "source": [
    "How do we go from this string to the bag of words feature vector that is expected by our model?\n",
    "\n",
    "If we recall at the beginning of this notebook, the first step is to remove any unnecessary characters using the `review_to_words` method. Remember that we intentionally did this in a very simplistic way. This is because we are going to have to copy this method to our (eventual) Lambda function (we will go into more detail later) and this means it needs to be rather simplistic."
   ]
  },
  {
   "cell_type": "code",
   "execution_count": 39,
   "metadata": {},
   "outputs": [
    {
     "name": "stdout",
     "output_type": "stream",
     "text": [
      "nothing but a disgusting materialistic pageant of glistening abed remote control greed zombies totally devoid of any heart or heat a romantic comedy that has zero romantic chemestry and zero laughs\n"
     ]
    }
   ],
   "source": [
    "test_words = review_to_words(test_review)\n",
    "print(test_words)"
   ]
  },
  {
   "cell_type": "markdown",
   "metadata": {},
   "source": [
    "Next, we need to construct a bag of words embedding of the `test_words` string. To do this, remember that a bag of words embedding uses a `vocabulary` consisting of the most frequently appearing words in a set of documents. Then, for each word in the vocabulary we record the number of times that word appears in `test_words`. We constructed the `vocabulary` earlier using the training set for our problem so encoding `test_words` is relatively straightforward."
   ]
  },
  {
   "cell_type": "code",
   "execution_count": 40,
   "metadata": {},
   "outputs": [],
   "source": [
    "def bow_encoding(words, vocabulary):\n",
    "    bow = [0] * len(vocabulary) # Start by setting the count for each word in the vocabulary to zero.\n",
    "    for word in words.split():  # For each word in the string\n",
    "        if word in vocabulary:  # If the word is one that occurs in the vocabulary, increase its count.\n",
    "            bow[vocabulary[word]] += 1\n",
    "    return bow"
   ]
  },
  {
   "cell_type": "code",
   "execution_count": 41,
   "metadata": {},
   "outputs": [
    {
     "name": "stdout",
     "output_type": "stream",
     "text": [
      "[0, 0, 0, 0, 0, 0, 0, 0, 0, 0, 0, 0, 0, 0, 0, 0, 0, 0, 0, 0, 0, 0, 0, 0, 0, 0, 0, 0, 0, 0, 0, 0, 0, 0, 0, 0, 0, 0, 0, 0, 0, 0, 0, 0, 0, 0, 0, 0, 0, 0, 0, 0, 0, 0, 0, 0, 0, 0, 0, 0, 0, 0, 0, 0, 0, 0, 0, 0, 0, 0, 0, 0, 0, 0, 0, 0, 0, 0, 0, 0, 0, 0, 0, 0, 0, 0, 0, 0, 0, 0, 0, 0, 0, 0, 0, 0, 0, 0, 0, 0, 0, 0, 0, 0, 0, 0, 0, 0, 0, 0, 0, 0, 0, 0, 0, 0, 0, 0, 0, 0, 0, 0, 0, 0, 0, 0, 0, 0, 0, 0, 0, 0, 0, 0, 0, 0, 0, 0, 0, 0, 0, 0, 0, 0, 0, 0, 0, 0, 0, 0, 0, 0, 0, 0, 0, 0, 0, 0, 0, 0, 0, 0, 0, 0, 0, 0, 0, 0, 0, 0, 0, 0, 0, 0, 0, 0, 0, 0, 0, 0, 0, 0, 0, 0, 0, 0, 0, 0, 0, 0, 0, 0, 0, 0, 0, 0, 0, 0, 0, 0, 0, 0, 0, 0, 0, 0, 0, 0, 0, 0, 0, 0, 0, 0, 0, 0, 0, 0, 0, 0, 0, 0, 0, 0, 0, 0, 1, 0, 0, 0, 0, 0, 0, 0, 0, 0, 0, 0, 0, 0, 0, 0, 0, 0, 0, 0, 0, 0, 0, 0, 0, 0, 0, 0, 0, 0, 1, 0, 0, 0, 0, 0, 0, 0, 0, 0, 0, 0, 0, 0, 0, 0, 0, 0, 0, 0, 0, 0, 0, 0, 0, 0, 0, 0, 0, 0, 0, 0, 0, 0, 0, 0, 0, 0, 0, 0, 0, 0, 0, 0, 0, 0, 0, 0, 0, 0, 0, 0, 0, 0, 0, 0, 0, 0, 0, 0, 0, 0, 0, 0, 0, 0, 0, 0, 0, 0, 0, 0, 0, 0, 0, 0, 0, 0, 0, 0, 0, 0, 0, 0, 0, 0, 0, 0, 0, 0, 0, 0, 0, 0, 0, 0, 0, 0, 0, 0, 0, 0, 0, 0, 0, 0, 0, 0, 0, 0, 0, 0, 0, 0, 0, 0, 0, 0, 0, 0, 0, 0, 0, 0, 0, 0, 0, 0, 0, 0, 0, 0, 0, 0, 0, 0, 0, 0, 0, 0, 0, 0, 0, 0, 0, 0, 0, 0, 0, 0, 0, 0, 0, 0, 0, 0, 0, 0, 0, 0, 0, 0, 0, 0, 0, 0, 0, 0, 0, 0, 0, 0, 0, 0, 0, 0, 0, 0, 0, 0, 0, 0, 0, 0, 0, 0, 0, 0, 0, 0, 0, 0, 0, 0, 0, 0, 0, 0, 0, 0, 0, 0, 0, 0, 0, 0, 0, 0, 0, 0, 0, 0, 0, 0, 0, 0, 0, 0, 0, 0, 0, 0, 0, 0, 0, 0, 0, 0, 0, 0, 0, 0, 0, 0, 0, 0, 0, 0, 0, 0, 0, 0, 0, 0, 0, 0, 0, 0, 0, 0, 0, 0, 0, 0, 0, 0, 0, 0, 0, 0, 0, 0, 0, 0, 0, 0, 0, 0, 0, 0, 0, 0, 0, 0, 0, 0, 0, 0, 0, 0, 0, 0, 0, 0, 0, 0, 0, 0, 0, 0, 0, 0, 0, 0, 0, 0, 0, 0, 0, 0, 0, 0, 0, 0, 0, 0, 0, 0, 0, 0, 0, 0, 0, 0, 0, 0, 0, 0, 0, 0, 0, 0, 0, 0, 0, 0, 0, 0, 0, 0, 0, 0, 0, 0, 0, 0, 0, 0, 0, 0, 0, 0, 0, 0, 0, 0, 0, 0, 0, 0, 0, 0, 0, 0, 0, 0, 0, 0, 0, 0, 0, 0, 0, 0, 0, 0, 0, 0, 0, 0, 0, 0, 0, 0, 0, 0, 0, 0, 0, 0, 1, 0, 0, 0, 0, 0, 0, 0, 0, 0, 0, 0, 0, 0, 0, 0, 0, 0, 0, 0, 0, 0, 0, 0, 0, 0, 0, 0, 0, 0, 0, 0, 0, 0, 0, 0, 0, 0, 0, 0, 0, 0, 0, 0, 0, 0, 0, 0, 0, 0, 0, 0, 0, 0, 0, 0, 0, 0, 0, 0, 0, 0, 0, 0, 0, 0, 0, 0, 0, 0, 0, 0, 0, 0, 0, 0, 0, 0, 0, 0, 0, 0, 0, 0, 0, 0, 0, 0, 0, 0, 0, 0, 0, 0, 0, 0, 0, 0, 0, 0, 0, 0, 0, 0, 0, 0, 0, 0, 0, 0, 0, 0, 0, 0, 0, 0, 0, 0, 0, 0, 0, 0, 0, 0, 0, 0, 0, 0, 0, 0, 0, 0, 0, 0, 0, 0, 0, 0, 0, 0, 0, 0, 0, 0, 0, 0, 0, 0, 0, 0, 0, 0, 0, 0, 0, 0, 0, 0, 0, 0, 0, 0, 0, 0, 0, 0, 0, 0, 0, 0, 0, 0, 0, 0, 0, 0, 0, 0, 0, 0, 0, 0, 0, 0, 0, 0, 0, 0, 0, 0, 0, 0, 0, 0, 0, 0, 0, 0, 0, 0, 0, 0, 0, 0, 0, 0, 0, 0, 0, 0, 0, 0, 0, 0, 0, 0, 0, 0, 0, 0, 0, 0, 0, 0, 0, 0, 0, 0, 0, 0, 0, 0, 0, 0, 0, 0, 0, 0, 0, 0, 0, 0, 0, 0, 0, 0, 0, 0, 0, 0, 0, 0, 0, 0, 1, 0, 0, 0, 0, 0, 0, 0, 0, 0, 0, 0, 0, 0, 0, 0, 0, 0, 0, 0, 0, 0, 0, 0, 0, 0, 0, 0, 0, 0, 0, 0, 0, 0, 0, 0, 0, 0, 0, 0, 0, 0, 0, 0, 0, 0, 0, 0, 0, 0, 0, 0, 0, 0, 0, 0, 0, 0, 0, 0, 0, 0, 0, 0, 0, 0, 0, 0, 0, 0, 0, 0, 0, 0, 0, 0, 0, 0, 0, 0, 0, 0, 0, 0, 0, 0, 0, 1, 0, 0, 0, 0, 0, 0, 0, 0, 0, 0, 0, 0, 0, 0, 0, 0, 0, 0, 0, 0, 0, 0, 0, 0, 0, 0, 0, 0, 0, 0, 0, 0, 0, 0, 0, 0, 0, 0, 0, 0, 0, 0, 0, 0, 0, 0, 0, 0, 0, 0, 0, 0, 0, 0, 0, 0, 0, 0, 0, 0, 0, 0, 0, 0, 0, 0, 0, 0, 0, 0, 0, 0, 0, 0, 0, 0, 0, 0, 0, 0, 0, 0, 0, 0, 0, 0, 0, 0, 0, 0, 0, 0, 0, 0, 0, 0, 0, 0, 0, 0, 0, 0, 0, 0, 0, 0, 0, 0, 0, 0, 0, 0, 0, 0, 0, 0, 0, 0, 0, 0, 0, 0, 0, 0, 0, 0, 0, 0, 0, 0, 0, 0, 0, 0, 0, 0, 0, 0, 0, 0, 0, 0, 0, 0, 0, 0, 0, 0, 0, 0, 0, 0, 0, 0, 0, 0, 0, 0, 0, 0, 0, 0, 0, 0, 0, 0, 0, 0, 0, 0, 0, 0, 0, 0, 0, 0, 0, 0, 0, 0, 0, 0, 0, 0, 0, 0, 0, 0, 0, 0, 0, 0, 0, 0, 0, 0, 0, 0, 0, 0, 0, 0, 0, 0, 0, 0, 0, 0, 0, 0, 0, 0, 0, 0, 0, 0, 0, 0, 0, 0, 0, 0, 0, 0, 0, 0, 0, 0, 0, 0, 0, 0, 0, 0, 0, 0, 0, 0, 0, 0, 0, 0, 0, 0, 0, 0, 0, 0, 0, 0, 0, 0, 1, 0, 0, 0, 0, 0, 0, 0, 0, 0, 0, 0, 0, 0, 0, 0, 0, 0, 0, 0, 0, 0, 0, 0, 0, 0, 0, 0, 0, 0, 0, 0, 0, 0, 0, 0, 0, 0, 0, 0, 0, 0, 0, 0, 0, 0, 0, 0, 0, 0, 0, 0, 0, 0, 0, 0, 1, 0, 0, 0, 0, 0, 0, 0, 0, 0, 0, 0, 0, 0, 0, 0, 0, 0, 0, 0, 0, 0, 0, 0, 0, 0, 0, 0, 0, 0, 0, 0, 0, 0, 0, 0, 0, 0, 0, 0, 0, 0, 0, 0, 0, 0, 0, 0, 0, 0, 0, 0, 0, 0, 0, 0, 0, 0, 0, 0, 0, 0, 0, 0, 0, 0, 0, 0, 0, 0, 0, 0, 0, 0, 0, 0, 0, 0, 0, 0, 0, 0, 0, 0, 0, 0, 0, 0, 0, 0, 0, 0, 0, 0, 0, 0, 0, 0, 0, 0, 0, 0, 0, 0, 0, 0, 0, 0, 0, 0, 0, 0, 0, 0, 0, 0, 0, 0, 0, 0, 0, 0, 0, 0, 0, 0, 0, 0, 0, 0, 0, 0, 0, 0, 0, 0, 0, 0, 0, 0, 0, 0, 0, 0, 0, 0, 0, 0, 0, 0, 0, 0, 0, 0, 0, 0, 0, 0, 0, 0, 0, 0, 0, 0, 0, 0, 0, 0, 0, 0, 0, 0, 0, 0, 0, 0, 0, 0, 0, 0, 0, 0, 0, 0, 0, 0, 0, 0, 0, 0, 0, 0, 0, 0, 0, 0, 0, 0, 0, 0, 0, 0, 0, 0, 0, 0, 0, 0, 0, 0, 0, 0, 0, 0, 0, 0, 0, 0, 0, 0, 0, 0, 0, 0, 0, 0, 0, 0, 0, 0, 0, 0, 0, 0, 0, 0, 0, 0, 0, 0, 0, 0, 0, 0, 0, 0, 0, 0, 0, 0, 0, 0, 0, 0, 0, 0, 0, 0, 0, 0, 0, 0, 0, 0, 0, 0, 0, 0, 0, 0, 0, 0, 0, 0, 0, 0, 0, 0, 0, 0, 0, 0, 0, 0, 0, 0, 0, 0, 0, 0, 0, 0, 0, 0, 0, 0, 0, 0, 0, 0, 0, 0, 0, 0, 0, 0, 0, 0, 0, 0, 0, 0, 0, 0, 0, 0, 0, 0, 0, 0, 0, 0, 0, 0, 0, 0, 0, 0, 0, 0, 0, 0, 0, 0, 0, 0, 0, 0, 0, 0, 0, 0, 0, 0, 0, 0, 0, 0, 0, 0, 0, 0, 0, 0, 0, 0, 0, 0, 0, 0, 0, 0, 0, 0, 0, 0, 0, 0, 0, 0, 0, 0, 0, 0, 0, 0, 0, 0, 0, 0, 0, 0, 0, 0, 0, 0, 0, 0, 0, 0, 0, 0, 0, 0, 0, 0, 0, 0, 0, 0, 0, 0, 0, 0, 0, 0, 0, 0, 0, 0, 0, 0, 0, 0, 0, 0, 0, 0, 0, 0, 0, 0, 0, 0, 0, 0, 0, 0, 0, 0, 0, 0, 0, 0, 0, 0, 0, 0, 0, 0, 0, 0, 0, 0, 0, 0, 0, 0, 0, 0, 0, 0, 0, 0, 0, 0, 0, 0, 0, 0, 0, 0, 0, 0, 0, 0, 0, 0, 0, 0, 0, 0, 0, 0, 0, 0, 0, 0, 0, 0, 0, 0, 0, 0, 0, 0, 0, 0, 0, 0, 0, 0, 0, 0, 0, 0, 0, 0, 0, 0, 0, 0, 0, 0, 0, 0, 0, 0, 0, 0, 0, 0, 0, 0, 0, 0, 0, 0, 0, 0, 0, 0, 0, 0, 0, 0, 0, 0, 0, 0, 0, 0, 0, 0, 0, 0, 0, 0, 0, 0, 0, 0, 0, 0, 0, 0, 0, 0, 0, 0, 0, 0, 0, 0, 0, 0, 0, 0, 0, 0, 0, 0, 0, 0, 0, 0, 0, 0, 0, 0, 0, 0, 0, 0, 0, 0, 0, 0, 0, 0, 0, 0, 0, 0, 0, 0, 0, 0, 0, 0, 0, 0, 0, 0, 0, 0, 0, 0, 0, 0, 0, 0, 0, 0, 0, 0, 0, 0, 0, 0, 0, 0, 0, 0, 0, 0, 0, 0, 0, 0, 0, 0, 0, 0, 0, 0, 0, 0, 0, 0, 0, 0, 0, 0, 0, 0, 0, 0, 0, 0, 0, 0, 0, 0, 0, 0, 0, 0, 0, 0, 0, 0, 0, 0, 0, 0, 0, 0, 0, 0, 0, 0, 0, 0, 0, 0, 0, 0, 0, 0, 0, 0, 0, 0, 0, 0, 0, 0, 0, 0, 0, 0, 1, 0, 0, 0, 0, 0, 0, 0, 0, 0, 0, 0, 0, 0, 0, 0, 0, 0, 0, 0, 0, 0, 0, 0, 0, 0, 0, 0, 0, 0, 0, 0, 0, 0, 0, 0, 0, 0, 0, 0, 0, 0, 0, 0, 0, 0, 0, 0, 0, 0, 0, 0, 0, 0, 0, 0, 0, 0, 0, 0, 0, 0, 0, 0, 0, 0, 0, 0, 0, 0, 0, 0, 0, 0, 0, 1, 0, 0, 0, 0, 0, 0, 0, 0, 0, 0, 0, 0, 0, 0, 0, 0, 0, 0, 0, 0, 1, 0, 0, 1, 0, 0, 0, 0, 0, 0, 0, 0, 0, 0, 0, 0, 0, 0, 0, 0, 0, 0, 0, 0, 0, 0, 0, 0, 0, 0, 0, 0, 0, 0, 0, 0, 0, 0, 0, 0, 0, 0, 0, 0, 0, 0, 0, 0, 0, 0, 0, 0, 0, 0, 0, 0, 0, 0, 0, 0, 0, 0, 0, 0, 0, 0, 0, 0, 0, 0, 0, 0, 0, 0, 0, 0, 0, 0, 0, 0, 0, 0, 0, 0, 0, 0, 0, 0, 0, 0, 0, 0, 0, 0, 0, 0, 0, 0, 0, 0, 0, 0, 0, 0, 0, 0, 0, 0, 0, 0, 0, 0, 0, 0, 0, 0, 0, 0, 0, 0, 0, 0, 0, 0, 0, 0, 0, 0, 0, 0, 0, 0, 0, 0, 0, 0, 0, 0, 0, 0, 0, 0, 0, 0, 0, 0, 0, 0, 0, 0, 0, 0, 0, 0, 0, 0, 0, 0, 0, 0, 0, 0, 0, 0, 0, 0, 0, 0, 0, 0, 0, 0, 0, 0, 0, 0, 0, 0, 0, 0, 0, 0, 0, 0, 0, 0, 0, 0, 0, 0, 0, 0, 0, 0, 0, 0, 0, 0, 0, 0, 0, 0, 0, 0, 0, 0, 0, 0, 0, 0, 0, 0, 0, 0, 0, 0, 0, 0, 0, 0, 0, 0, 0, 0, 0, 0, 0, 0, 0, 0, 0, 0, 0, 0, 0, 0, 0, 0, 0, 0, 0, 0, 0, 0, 0, 0, 0, 0, 0, 0, 0, 0, 0, 0, 0, 0, 0, 0, 0, 0, 0, 0, 0, 0, 0, 0, 0, 0, 0, 0, 0, 0, 0, 0, 0, 0, 0, 0, 0, 0, 0, 0, 0, 0, 0, 0, 0, 0, 0, 0, 0, 0, 0, 0, 0, 0, 0, 0, 0, 0, 0, 0, 0, 0, 0, 0, 0, 0, 0, 0, 0, 0, 0, 0, 0, 0, 0, 0, 0, 0, 0, 0, 0, 0, 0, 0, 0, 0, 0, 0, 0, 0, 0, 0, 0, 0, 0, 0, 0, 0, 0, 0, 0, 0, 0, 0, 0, 0, 0, 0, 0, 0, 0, 0, 0, 0, 0, 0, 0, 0, 0, 0, 0, 0, 0, 0, 0, 0, 0, 0, 0, 0, 0, 0, 0, 0, 0, 0, 0, 0, 0, 0, 0, 0, 0, 0, 0, 0, 0, 0, 0, 0, 0, 0, 0, 0, 0, 0, 0, 0, 0, 0, 0, 0, 0, 0, 0, 0, 0, 0, 0, 0, 0, 0, 0, 0, 0, 0, 0, 0, 0, 0, 0, 0, 0, 0, 0, 0, 0, 0, 0, 0, 0, 0, 0, 0, 0, 0, 0, 0, 0, 0, 0, 0, 0, 0, 0, 0, 0, 0, 0, 0, 0, 0, 0, 0, 0, 0, 0, 0, 0, 0, 0, 0, 0, 0, 0, 0, 0, 0, 1, 0, 0, 0, 0, 0, 0, 0, 0, 0, 0, 0, 0, 0, 0, 0, 0, 0, 0, 0, 0, 0, 0, 0, 0, 0, 0, 0, 0, 0, 0, 0, 0, 0, 0, 0, 0, 0, 0, 0, 0, 0, 0, 0, 0, 0, 0, 0, 0, 0, 0, 0, 0, 0, 0, 0, 0, 0, 0, 0, 0, 0, 0, 0, 0, 0, 0, 0, 0, 0, 0, 0, 0, 0, 0, 0, 0, 0, 0, 0, 0, 0, 0, 0, 0, 0, 0, 0, 0, 0, 0, 0, 0, 0, 0, 0, 0, 0, 0, 0, 0, 0, 0, 0, 0, 0, 0, 0, 0, 0, 0, 0, 0, 0, 0, 0, 0, 0, 0, 0, 0, 0, 0, 0, 0, 0, 0, 0, 0, 0, 0, 0, 0, 0, 0, 0, 0, 0, 0, 0, 0, 0, 0, 0, 0, 0, 0, 0, 0, 0, 0, 0, 0, 0, 0, 0, 0, 0, 0, 0, 0, 0, 0, 0, 0, 0, 0, 0, 0, 0, 0, 0, 0, 0, 0, 0, 0, 0, 0, 0, 0, 0, 0, 0, 0, 0, 0, 0, 0, 0, 0, 0, 0, 0, 0, 0, 0, 0, 0, 0, 0, 0, 0, 0, 0, 0, 0, 0, 0, 0, 0, 0, 0, 0, 0, 0, 0, 0, 0, 0, 0, 0, 0, 0, 0, 0, 0, 0, 0, 0, 0, 0, 0, 0, 0, 0, 0, 0, 0, 0, 0, 0, 0, 0, 0, 0, 0, 0, 0, 0, 0, 0, 0, 0, 0, 0, 0, 0, 0, 0, 0, 0, 0, 0, 0, 0, 0, 0, 0, 0, 0, 0, 0, 0, 0, 0, 0, 0, 0, 0, 0, 0, 0, 0, 0, 0, 0, 0, 0, 0, 0, 0, 0, 0, 0, 0, 0, 0, 0, 0, 0, 0, 0, 0, 0, 0, 0, 0, 0, 0, 0, 0, 0, 0, 0, 0, 0, 0, 0, 0, 0, 0, 0, 0, 0, 0, 0, 0, 0, 0, 0, 0, 0, 0, 0, 0, 0, 0, 0, 0, 0, 0, 0, 0, 0, 0, 0, 0, 0, 0, 0, 0, 0, 0, 0, 0, 0, 0, 0, 0, 0, 0, 0, 0, 0, 0, 0, 0, 0, 0, 0, 0, 0, 0, 0, 0, 0, 0, 0, 0, 0, 0, 0, 0, 0, 0, 0, 0, 0, 0, 0, 0, 0, 0, 0, 0, 0, 0, 0, 0, 0, 0, 0, 0, 0, 0, 0, 0, 0, 0, 0, 0, 0, 0, 0, 0, 0, 0, 0, 0, 0, 0, 0, 0, 0, 0, 0, 0, 0, 0, 0, 0, 0, 0, 0, 0, 0, 0, 0, 0, 0, 0, 0, 0, 0, 0, 0, 0, 0, 0, 0, 0, 0, 0, 0, 0, 0, 0, 0, 0, 0, 0, 0, 0, 0, 0, 0, 0, 0, 0, 0, 0, 0, 0, 0, 0, 0, 0, 0, 0, 0, 0, 0, 0, 0, 0, 0, 0, 0, 0, 0, 0, 0, 0, 0, 0, 0, 0, 0, 0, 0, 0, 0, 0, 0, 0, 0, 0, 0, 0, 0, 0, 0, 1, 0, 0, 0, 0, 0, 0, 0, 0, 0, 0, 0, 0, 0, 0, 0, 0, 0, 0, 0, 0, 0, 0, 0, 0, 0, 0, 0, 0, 0, 0, 0, 0, 0, 0, 0, 2, 0, 0, 0, 0, 0, 0, 0, 0, 0, 0, 0, 0, 0, 0, 0, 0, 0, 0, 0, 0, 0, 0, 0, 0, 0, 0, 0, 0, 0, 0, 0, 0, 0, 0, 0, 0, 0, 0, 0, 0, 1, 0, 0, 0, 0, 0, 0, 0, 0, 0, 0, 0, 0, 0, 0, 0, 0, 0, 0, 0, 0, 0, 0, 0, 0, 0, 0, 0, 0, 0, 0, 0, 0, 0, 0, 0, 0, 0, 0, 0, 0, 0, 0, 0, 0, 0, 0, 0, 0, 0, 0, 0, 0, 0, 0, 0, 0, 0, 0, 0, 0, 0, 0, 0, 0, 0, 0, 0, 0, 0, 0, 0, 0, 0, 0, 0, 0, 0, 0, 0, 0, 0, 0, 0, 0, 0, 0, 0, 0, 0, 0, 0, 0, 0, 0, 0, 0, 0, 0, 0, 0, 0, 0, 0, 0, 0, 0, 0, 0, 0, 0, 0, 0, 0, 0, 0, 0, 0, 0, 0, 0, 0, 0, 0, 0, 0, 0, 0, 0, 0, 0, 0, 0, 0, 0, 0, 0, 0, 0, 0, 0, 0, 0, 0, 0, 0, 0, 0, 0, 0, 0, 0, 0, 0, 0, 0, 0, 0, 0, 0, 0, 0, 0, 0, 0, 0, 0, 0, 0, 0, 0, 0, 0, 0, 0, 0, 0, 0, 0, 0, 0, 0, 0, 0, 0, 0, 0, 0, 0, 0, 0, 0, 0, 0, 0, 0, 0, 0, 0, 0, 0, 0, 0, 0, 0, 0, 0, 0, 0, 0, 0, 0, 0, 0, 0, 0, 0, 0, 0, 0, 0, 0, 0, 0, 0, 0, 0, 0, 0, 0, 0, 0, 0, 0, 0, 0, 0, 0, 0, 0, 0, 0, 0, 0, 0, 0, 0, 0, 0, 0, 0, 0, 0, 0, 0, 0, 0, 0, 0, 0, 0, 0, 0, 0, 0, 0, 0, 0, 0, 0, 0, 0, 0, 0, 0, 0, 0, 0, 0, 0, 0, 0, 0, 0, 0, 0, 0, 0, 0, 0, 0, 0, 0, 0, 0, 0, 0, 0, 0, 0, 0, 0, 0, 0, 0, 0, 0, 0, 0, 0, 0, 0, 0, 0, 0, 0, 0, 0, 0, 0, 0, 0, 0, 0, 0, 0, 0, 0, 0, 0, 0, 0, 0, 0, 0, 0, 0, 0, 0, 0, 0, 0, 0, 0, 0, 0, 0, 0, 0, 0, 0, 0, 0, 0, 0, 0, 0, 0, 0, 0, 0, 0, 0, 0, 0, 0, 0, 0, 0, 0, 0, 0, 0, 0, 0, 0, 0, 0, 0, 0, 0, 0, 0, 0, 0, 0, 0, 0, 0, 0, 0, 0, 0, 0, 0, 0, 0, 0, 0, 0, 0, 0, 0, 0, 0, 0, 0, 0, 0, 0, 0, 0, 0, 0, 0, 0, 0, 0, 0, 0, 0, 0, 0, 0, 0, 0, 0, 0, 0, 0, 0, 0, 0, 0, 0, 0, 0, 0, 0, 0, 0, 0, 0, 0, 0, 0, 0, 0, 0, 0, 0, 0, 0, 0, 0, 0, 0, 0, 0, 0, 0, 0, 0, 0, 0, 0, 0, 0, 0, 0, 0, 0, 0, 0, 0, 0, 0, 0, 0, 0, 0, 0, 0, 0, 0, 0, 0, 0, 0, 0, 0, 0, 0, 0, 0, 0, 0, 0, 1, 0, 0, 0, 0, 0, 0, 0, 0, 0, 0, 0, 0, 0, 0, 0, 0, 0, 0, 0, 0, 0, 0, 0, 0, 0, 0, 0, 0, 0, 0, 0, 0, 0, 0, 0, 0, 0, 0, 0, 0, 0, 0, 0, 0, 0, 0, 0, 0, 0, 0, 0, 0, 0, 0, 0, 0, 0, 0, 0, 0, 0, 0, 0, 0, 0, 0, 0, 0, 0, 0, 0, 0, 0, 0, 0, 0, 0, 0, 0, 0, 0, 0, 0, 0, 0, 0, 0, 0, 0, 0, 0, 0, 0, 0, 0, 0, 0, 0, 0, 0, 0, 0, 0, 0, 0, 0, 0, 0, 0, 0, 2, 0, 0, 0, 0, 0, 0, 0, 0, 0, 0, 0, 0, 0, 0, 0, 0, 0, 0, 0, 0, 0, 0, 0, 0, 0, 0, 0, 0, 0, 0, 0, 0, 0, 0, 0, 0, 0, 0, 0, 0, 0, 0, 0, 0, 0, 0, 0, 0, 0, 0, 0, 0, 0, 0, 0, 0, 0, 0, 0, 0, 0, 0, 0, 0, 0, 0, 0, 0, 0, 0, 0, 0, 0, 0, 0, 0, 0, 0, 0, 0, 0, 0, 0, 0, 0, 0, 0, 0, 0, 0, 0, 0, 0, 0, 0, 0, 0, 0, 0, 0, 0, 0, 0, 0, 0, 0, 0, 0, 0, 0, 0, 0, 0, 0, 0, 0, 0, 0, 0, 0, 0, 0, 0, 0, 0, 0, 0, 0, 0, 0, 0, 0, 0, 0, 0, 0, 0, 0, 0, 0, 0, 0, 0, 0, 0, 0, 0, 0, 0, 0, 0, 0, 0, 0, 0, 0, 0, 0, 0, 0, 0, 0, 0, 0, 0, 0, 0, 0, 0, 0, 0, 0, 0, 0, 0, 0, 0, 0, 0, 0, 0, 0, 0, 0, 0, 0, 0, 0, 0, 0, 0, 0, 0, 0, 0, 0, 0, 0, 0, 0, 0, 0, 0, 0, 0, 0, 0, 0, 0, 0, 0, 0, 0, 0, 0, 0, 0, 0, 0, 0, 0, 0, 0, 0, 0, 0, 0, 0, 0, 0, 0, 0, 0, 0, 0, 0, 0, 0, 0, 0, 0, 0, 0, 0, 0, 0, 0, 0, 0, 0, 0, 0, 0, 0, 0, 0, 0, 0, 0, 0, 0, 0, 0, 0, 0, 0, 0, 0, 0, 0, 0, 0, 0, 0, 0, 0, 0, 0, 0, 0, 0, 0, 0, 0, 0, 0, 0, 0, 0, 0, 0, 0, 0, 0, 0, 0, 0, 0, 0, 0, 0, 0, 0, 0, 0, 0, 0, 0, 0, 0, 0, 0, 0, 0, 0, 0, 0, 0, 0, 0, 0, 0, 0, 0, 0, 0, 0, 0, 0, 0, 0, 0, 0, 0, 0, 0, 0, 0, 0, 0, 0, 0, 0, 0, 0, 0, 0, 0, 0, 0, 0, 0, 0, 0, 0, 0, 0, 0, 0, 0, 0, 0, 0, 0, 0, 0, 0, 0, 0, 0, 0, 0, 0, 0, 0, 0, 0, 0, 0, 0, 0, 0, 0, 0, 0, 0, 0, 0, 0, 0, 0, 0, 0, 0, 0, 0, 0, 0, 0, 0, 0, 0, 0, 0, 0, 0, 0, 0, 0, 0, 0, 0, 0, 0, 0, 0, 0, 0, 0, 0, 0, 0, 0, 0, 0, 0, 0, 0, 0, 0, 0, 0, 0, 0, 0, 0, 0, 0, 0, 0, 0, 0, 0, 0, 0, 0, 0, 0, 0, 0, 0, 0, 0, 0, 0, 0, 0, 0, 0, 0, 0, 0, 0, 0, 0, 0, 0, 0, 0, 0, 0, 0, 0, 0, 0, 0, 0, 0, 0, 0, 0, 0, 0, 0, 0, 0, 0, 0, 0, 0, 0, 0, 0, 0, 0, 0, 0, 0, 0, 0, 0, 0, 0, 0, 0, 0, 0, 0, 0, 0, 0, 0, 0, 0, 0, 0, 0, 0, 0, 0, 0, 0, 0, 0, 0, 0, 0, 0, 0, 0, 0, 0, 0, 0, 0, 0, 0, 0, 0, 0, 0, 0, 0, 0, 0, 0, 0, 0, 0, 0, 0, 0, 0, 0, 0, 0, 0, 0, 0, 0, 0, 0, 0, 0, 0, 0, 0, 0, 0, 0, 0, 0, 0, 0, 0, 0, 0, 0, 0, 0, 0, 0, 0, 0, 0, 0, 0, 0, 0, 0, 0, 0, 0, 0, 0, 0, 0, 0, 0, 0, 0, 0, 0, 0, 0, 0, 0, 0, 0, 0, 0, 0, 0, 0, 0, 0, 0, 0, 0, 0, 0, 0, 0, 0, 0, 0, 0, 0, 0, 0, 0, 0, 0, 0, 0, 0, 0, 0, 0, 0, 0, 0, 0, 0, 0, 0, 0, 0, 0, 0, 0, 0, 0, 0, 0, 0, 0, 0, 0, 0, 0, 0, 0, 0, 0, 0, 0, 0, 0, 0, 0, 0, 0, 0, 0, 0, 0, 0, 0, 0, 0, 0, 0, 0, 0, 0, 0, 0, 0, 0, 1, 0, 0, 0, 0, 0, 0, 0, 0, 0, 0, 0, 0, 0, 0, 0, 0, 0, 0, 0, 0, 0, 0, 0, 0, 0, 0, 0, 0, 0, 0, 0, 0, 0, 0, 0, 0, 0, 0, 0, 0, 0, 0, 0, 0, 0, 0, 0, 0, 0, 0, 0, 0, 0, 0, 0, 0, 0, 0, 0, 0, 0, 0, 0, 0, 0, 0, 0, 0, 0, 0, 0, 0, 0, 0, 0, 0, 0, 0, 0, 0, 0, 0, 0, 0, 0, 0, 0, 0, 0, 0, 0, 0, 0, 0, 0, 0, 0, 0, 0, 0, 0, 0, 0, 0, 0, 0, 0, 1, 0, 0, 0, 0, 0, 0, 0, 0, 0, 0, 0, 0, 0, 0, 0, 0, 0, 0, 0, 0, 0, 0, 0, 0, 0, 0, 0, 0, 0, 0, 0, 0, 0, 0, 0, 0, 0, 0, 0, 0, 0, 0, 0, 0, 0, 0, 0, 0, 0, 0, 0, 0, 0, 0, 0, 0, 0, 0, 0, 0, 0, 0, 0, 0, 0, 0, 0, 0, 0, 0, 0, 0, 0, 0, 0, 0, 0, 0, 0, 0, 0, 0, 0, 0, 0, 0, 0, 0, 0, 0, 0, 0, 0, 0, 0, 0, 0, 0, 0, 0, 0, 0, 0, 0, 0, 0, 0, 0, 0, 0, 0, 0, 0, 0, 0, 0, 0, 0, 0, 0, 0, 0, 0, 0, 0, 0, 0, 0, 0, 0, 0, 0, 0, 0, 0, 0, 0, 0, 0, 0, 0, 0, 0, 0, 0, 0, 0, 0, 0, 0, 0, 0, 0, 0, 0, 0, 0, 0, 0, 0, 0, 0, 0, 0, 0, 0, 0, 0, 0, 0, 0, 0, 0, 0, 0, 0, 0, 0, 0, 0, 0, 0, 0, 0, 0, 0, 0, 0, 0, 0, 0, 0, 0, 0, 0, 0, 0, 0, 0, 0, 0, 0, 0, 0, 0, 0, 0, 0, 0, 0, 0, 0, 0, 0, 0, 0, 0, 0, 0, 0, 0, 0, 0, 0, 0, 0, 0, 0, 0, 0, 0, 0, 0, 0, 0, 0, 0, 0, 0, 0, 0, 0, 0, 0, 0, 0, 0, 0, 0, 0, 0, 0, 0, 0, 0, 0, 0, 0, 0, 0, 0, 0, 0, 0, 0, 0, 0, 0, 0, 0, 0, 0, 0, 0, 0, 0, 0, 0, 0, 0, 0, 0, 0, 0, 0, 0, 0, 0, 0, 0, 0, 0, 0, 0, 0, 0, 0, 0, 0, 0, 0, 0, 0, 0, 0, 0, 0, 0, 0, 0, 0, 0, 0, 0, 0, 0, 0, 0, 0, 0, 0, 0, 0, 0, 0, 0, 0, 0, 0, 0, 0, 0, 0, 0, 0, 0, 0, 0, 0, 0, 0, 0, 0, 0, 0, 0, 0, 0, 0, 0, 0, 0, 0, 0, 0, 0, 0, 0, 0, 0, 0, 0, 0, 0, 0, 0, 0, 0, 0, 0, 0, 0, 0, 0, 0, 0, 0, 0, 0, 0, 0, 0, 0, 0, 0, 0, 0, 0, 0, 0, 0, 0, 0, 0, 0, 0, 0, 0, 0, 0, 0, 0, 0, 0, 0, 0, 0, 0, 0, 0, 0, 0, 0, 0, 0, 0, 0, 0, 0, 0, 0, 0, 0, 0, 0, 0, 0, 0, 0, 0, 0, 0, 0, 0, 0, 0, 0, 0, 0, 0, 0, 0, 0, 0, 0, 0, 0, 0, 0, 0, 0, 0, 0, 0, 0, 0, 0, 0, 0, 0, 0, 0, 0, 2, 0, 1, 0]\n"
     ]
    }
   ],
   "source": [
    "test_bow = bow_encoding(test_words, vocabulary)\n",
    "print(test_bow)"
   ]
  },
  {
   "cell_type": "code",
   "execution_count": 42,
   "metadata": {},
   "outputs": [
    {
     "data": {
      "text/plain": [
       "5000"
      ]
     },
     "execution_count": 42,
     "metadata": {},
     "output_type": "execute_result"
    }
   ],
   "source": [
    "len(test_bow)"
   ]
  },
  {
   "cell_type": "markdown",
   "metadata": {},
   "source": [
    "So now we know how to construct a bag of words encoding of a user provided review, how to we send it to our endpoint? First, we need to start the endpoint back up."
   ]
  },
  {
   "cell_type": "code",
   "execution_count": 43,
   "metadata": {},
   "outputs": [
    {
     "name": "stderr",
     "output_type": "stream",
     "text": [
      "Parameter image will be renamed to image_uri in SageMaker Python SDK v2.\n",
      "Using already existing model: xgboost-2021-08-22-00-02-08-110\n"
     ]
    },
    {
     "name": "stdout",
     "output_type": "stream",
     "text": [
      "-----------------!"
     ]
    }
   ],
   "source": [
    "xgb_predictor = xgb.deploy(initial_instance_count = 1, instance_type = 'ml.m4.xlarge')"
   ]
  },
  {
   "cell_type": "markdown",
   "metadata": {},
   "source": [
    "At this point we could just do the same thing that we did earlier when we tested our deployed model and send `test_bow` to our endpoint using the `xgb_predictor` object. However, when we eventually construct our Lambda function we won't have access to this object, so how do we call a SageMaker endpoint?\n",
    "\n",
    "It turns out that Python functions that are used in Lambda have access to another Amazon library called `boto3`. This library provides an API for working with Amazon services, including SageMaker. To start with, we need to get a handle to the SageMaker runtime."
   ]
  },
  {
   "cell_type": "code",
   "execution_count": 44,
   "metadata": {},
   "outputs": [],
   "source": [
    "import boto3\n",
    "\n",
    "runtime = boto3.Session().client('sagemaker-runtime')"
   ]
  },
  {
   "cell_type": "markdown",
   "metadata": {},
   "source": [
    "And now that we have access to the SageMaker runtime, we can ask it to make use of (invoke) an endpoint that has already been created. However, we need to provide SageMaker with the name of the deployed endpoint. To find this out we can print it out using the `xgb_predictor` object."
   ]
  },
  {
   "cell_type": "code",
   "execution_count": 45,
   "metadata": {},
   "outputs": [
    {
     "data": {
      "text/plain": [
       "'xgboost-2021-08-22-00-02-08-110'"
      ]
     },
     "execution_count": 45,
     "metadata": {},
     "output_type": "execute_result"
    }
   ],
   "source": [
    "xgb_predictor.endpoint"
   ]
  },
  {
   "cell_type": "markdown",
   "metadata": {},
   "source": [
    "Using the SageMaker runtime and the name of our endpoint, we can invoke the endpoint and send it the `test_bow` data."
   ]
  },
  {
   "cell_type": "code",
   "execution_count": 47,
   "metadata": {},
   "outputs": [],
   "source": [
    "response = runtime.invoke_endpoint(EndpointName = xgb_predictor.endpoint, # The name of the endpoint we created\n",
    "                                       ContentType = 'text/csv',                     # The data format that is expected\n",
    "                                       Body = ','.join([str(val) for val in test_bow]).encode('utf-8'))"
   ]
  },
  {
   "cell_type": "markdown",
   "metadata": {},
   "source": [
    "So why did we get an error?\n",
    "\n",
    "Because we tried to send the endpoint a list of integers but it expected us to send data of type `text/csv`. So, we need to convert it."
   ]
  },
  {
   "cell_type": "code",
   "execution_count": 48,
   "metadata": {},
   "outputs": [],
   "source": [
    "response = runtime.invoke_endpoint(EndpointName = xgb_predictor.endpoint, # The name of the endpoint we created\n",
    "                                       ContentType = 'text/csv',                     # The data format that is expected\n",
    "                                       Body = ','.join([str(val) for val in test_bow]).encode('utf-8'))"
   ]
  },
  {
   "cell_type": "code",
   "execution_count": 49,
   "metadata": {},
   "outputs": [
    {
     "name": "stdout",
     "output_type": "stream",
     "text": [
      "{'ResponseMetadata': {'RequestId': 'eddbb3d3-c2ac-4d2b-beb0-66367047de17', 'HTTPStatusCode': 200, 'HTTPHeaders': {'x-amzn-requestid': 'eddbb3d3-c2ac-4d2b-beb0-66367047de17', 'x-amzn-invoked-production-variant': 'AllTraffic', 'date': 'Sun, 22 Aug 2021 00:40:56 GMT', 'content-type': 'text/csv; charset=utf-8', 'content-length': '18'}, 'RetryAttempts': 0}, 'ContentType': 'text/csv; charset=utf-8', 'InvokedProductionVariant': 'AllTraffic', 'Body': <botocore.response.StreamingBody object at 0x7f86251369e8>}\n"
     ]
    }
   ],
   "source": [
    "print(response)"
   ]
  },
  {
   "cell_type": "markdown",
   "metadata": {},
   "source": [
    "As we can see, the response from our model is a somewhat complicated looking dict that contains a bunch of information. The bit that we are most interested in is `'Body'` object which is a streaming object that we need to `read` in order to make use of."
   ]
  },
  {
   "cell_type": "code",
   "execution_count": 50,
   "metadata": {},
   "outputs": [
    {
     "name": "stdout",
     "output_type": "stream",
     "text": [
      "0.5240355730056763\n"
     ]
    }
   ],
   "source": [
    "response = response['Body'].read().decode('utf-8')\n",
    "print(response)"
   ]
  },
  {
   "cell_type": "markdown",
   "metadata": {},
   "source": [
    "Now that we know how to process the incoming user data we can start setting up the infrastructure to make our simple web app work. To do this we will make use of two different services. Amazon's Lambda and API Gateway services.\n",
    "\n",
    "Lambda is a service which allows someone to write some relatively simple code and have it executed whenever a chosen trigger occurs. For example, you may want to update a database whenever new data is uploaded to a folder stored on S3.\n",
    "\n",
    "API Gateway is a service that allows you to create HTTP endpoints (url addresses) which are connected to other AWS services. One of the benefits to this is that you get to decide what credentials, if any, are required to access these endpoints.\n",
    "\n",
    "In our case we are going to set up an HTTP endpoint through API Gateway which is open to the public. Then, whenever anyone sends data to our public endpoint we will trigger a Lambda function which will send the input (in our case a review) to our model's endpoint and then return the result."
   ]
  },
  {
   "cell_type": "markdown",
   "metadata": {},
   "source": [
    "### Setting up a Lambda function\n",
    "\n",
    "The first thing we are going to do is set up a Lambda function. This Lambda function will be executed whenever our public API has data sent to it. When it is executed it will receive the data, perform any sort of processing that is required, send the data (the review) to the SageMaker endpoint we've created and then return the result.\n",
    "\n",
    "#### Part A: Create an IAM Role for the Lambda function\n",
    "\n",
    "Since we want the Lambda function to call a SageMaker endpoint, we need to make sure that it has permission to do so. To do this, we will construct a role that we can later give the Lambda function.\n",
    "\n",
    "Using the AWS Console, navigate to the **IAM** page and click on **Roles**. Then, click on **Create role**. Make sure that the **AWS service** is the type of trusted entity selected and choose **Lambda** as the service that will use this role, then click **Next: Permissions**.\n",
    "\n",
    "In the search box type `sagemaker` and select the check box next to the **AmazonSageMakerFullAccess** policy. Then, click on **Next: Review**.\n",
    "\n",
    "Lastly, give this role a name. Make sure you use a name that you will remember later on, for example `LambdaSageMakerRole`. Then, click on **Create role**."
   ]
  },
  {
   "cell_type": "markdown",
   "metadata": {},
   "source": [
    "#### Part B: Create a Lambda function\n",
    "\n",
    "Now it is time to actually create the Lambda function. Remember from earlier that in order to process the user provided input and send it to our endpoint we need to gather two pieces of information:\n",
    "\n",
    " - The name of the endpoint, and\n",
    " - the vocabulary object.\n",
    "\n",
    "We will copy these pieces of information to our Lambda function after we create it.\n",
    "\n",
    "To start, using the AWS Console, navigate to the AWS Lambda page and click on **Create a function**. When you get to the next page, make sure that **Author from scratch** is selected. Now, name your Lambda function, using a name that you will remember later on, for example `sentiment_analysis_xgboost_func`. Make sure that the **Python 3.6** runtime is selected and then choose the role that you created in the previous part. Then, click on **Create Function**.\n",
    "\n",
    "On the next page you will see some information about the Lambda function you've just created. If you scroll down you should see an editor in which you can write the code that will be executed when your Lambda function is triggered. Collecting the code we wrote above to process a single review and adding it to the provided example `lambda_handler` we arrive at the following.\n",
    "\n",
    "```python\n",
    "# We need to use the low-level library to interact with SageMaker since the SageMaker API\n",
    "# is not available natively through Lambda.\n",
    "import boto3\n",
    "\n",
    "# And we need the regular expression library to do some of the data processing\n",
    "import re\n",
    "\n",
    "REPLACE_NO_SPACE = re.compile(\"(\\.)|(\\;)|(\\:)|(\\!)|(\\')|(\\?)|(\\,)|(\\\")|(\\()|(\\))|(\\[)|(\\])\")\n",
    "REPLACE_WITH_SPACE = re.compile(\"(<br\\s*/><br\\s*/>)|(\\-)|(\\/)\")\n",
    "\n",
    "def review_to_words(review):\n",
    "    words = REPLACE_NO_SPACE.sub(\"\", review.lower())\n",
    "    words = REPLACE_WITH_SPACE.sub(\" \", words)\n",
    "    return words\n",
    "    \n",
    "def bow_encoding(words, vocabulary):\n",
    "    bow = [0] * len(vocabulary) # Start by setting the count for each word in the vocabulary to zero.\n",
    "    for word in words.split():  # For each word in the string\n",
    "        if word in vocabulary:  # If the word is one that occurs in the vocabulary, increase its count.\n",
    "            bow[vocabulary[word]] += 1\n",
    "    return bow\n",
    "\n",
    "\n",
    "def lambda_handler(event, context):\n",
    "    \n",
    "    vocab = \"*** ACTUAL VOCABULARY GOES HERE ***\"\n",
    "    \n",
    "    words = review_to_words(event['body'])\n",
    "    bow = bow_encoding(words, vocab)\n",
    "\n",
    "    # The SageMaker runtime is what allows us to invoke the endpoint that we've created.\n",
    "    runtime = boto3.Session().client('sagemaker-runtime')\n",
    "\n",
    "    # Now we use the SageMaker runtime to invoke our endpoint, sending the review we were given\n",
    "    response = runtime.invoke_endpoint(EndpointName = '***ENDPOINT NAME HERE***',# The name of the endpoint we created\n",
    "                                       ContentType = 'text/csv',                 # The data format that is expected\n",
    "                                       Body = ','.join([str(val) for val in bow]).encode('utf-8')) # The actual review\n",
    "\n",
    "    # The response is an HTTP response whose body contains the result of our inference\n",
    "    result = response['Body'].read().decode('utf-8')\n",
    "    \n",
    "    # Round the result so that our web app only gets '1' or '0' as a response.\n",
    "    result = round(float(result))\n",
    "\n",
    "    return {\n",
    "        'statusCode' : 200,\n",
    "        'headers' : { 'Content-Type' : 'text/plain', 'Access-Control-Allow-Origin' : '*' },\n",
    "        'body' : str(result)\n",
    "    }\n",
    "```"
   ]
  },
  {
   "cell_type": "markdown",
   "metadata": {},
   "source": [
    "Once you have copy and pasted the code above into the Lambda code editor, replace the `**ENDPOINT NAME HERE**` portion with the name of the endpoint that we deployed earlier. You can determine the name of the endpoint using the code cell below."
   ]
  },
  {
   "cell_type": "code",
   "execution_count": 51,
   "metadata": {},
   "outputs": [
    {
     "data": {
      "text/plain": [
       "'xgboost-2021-08-22-00-02-08-110'"
      ]
     },
     "execution_count": 51,
     "metadata": {},
     "output_type": "execute_result"
    }
   ],
   "source": [
    "xgb_predictor.endpoint"
   ]
  },
  {
   "cell_type": "markdown",
   "metadata": {},
   "source": [
    "In addition, you will need to copy the vocabulary dict to the appropriate place in the code at the beginning of the `lambda_handler` method. The cell below prints out the vocabulary dict in a way that is easy to copy and paste."
   ]
  },
  {
   "cell_type": "code",
   "execution_count": 52,
   "metadata": {
    "scrolled": false
   },
   "outputs": [
    {
     "name": "stdout",
     "output_type": "stream",
     "text": [
      "{'genuine': 1891, 'screaming': 3827, 'situation': 4008, 'comedy': 890, 'farce': 1654, 'of': 3083, 'the': 4426, 'mid': 2832, '70s': 56, 'this': 4457, 'film': 1716, 'was': 4805, 'huge': 2185, 'hit': 2122, 'for': 1784, 'about': 67, 'minutes': 2859, 'and': 226, 'disappeared': 1271, 'off': 3084, 'face': 1616, 'earth': 1403, 'am': 204, 'constantly': 958, 'amazed': 208, 'at': 331, 'some': 4061, 'films': 1721, 'that': 4424, 'are': 285, 'big': 478, 'release': 3602, 'one': 3107, 'week': 4837, 'then': 4436, 'high': 2100, 'cheap': 774, 'detective': 1220, 'black': 493, 'bird': 484, 'dont': 1324, 'look': 2646, 'now': 3054, 'were': 4848, 'being': 448, 'shot': 3949, 'have': 2052, 'no': 3020, 'all': 187, 'today': 4508, 'norman': 3035, 'month': 2896, 'in': 2257, 'whenever': 4863, 'everyone': 1542, 'seemed': 3862, 'to': 4507, 'see': 3855, 'it': 2366, 'laugh': 2529, 'never': 3001, 'ever': 1538, 'mention': 2810, 'again': 146, 'famous': 1647, 'on': 3105, 'an': 223, 'experiment': 1583, 'time': 4495, 'is': 2360, 'politically': 3325, 'closet': 858, 'brothers': 599, 'should': 3951, 'if': 2222, 'they': 4442, 'had': 2003, 'made': 2697, 'first': 1736, 'place': 3282, 'there': 4438, 'would': 4957, 'be': 418, 'its': 2370, 'content': 966, 'either': 1438, 'very': 4723, 'funny': 1852, 'yes': 4982, 'hilariously': 2107, 'wrong': 4973, 'just': 2437, 'as': 311, 'fact': 1621, 'with': 4911, 'those': 4460, 'horror': 2168, 'clothes': 860, 'actually': 109, 'works': 4945, 'better': 472, 'feel': 1684, 'my': 2951, 'duty': 1390, 'lover': 2672, 'warm': 4794, 'other': 3135, 'people': 3221, 'horrible': 2163, 'bad': 382, 'waste': 4808, 'your': 4991, 'or': 3124, 'money': 2888, 'acting': 99, 'story': 4207, 'worst': 4952, 'come': 886, 'across': 96, 'script': 3834, 'awful': 372, 'nothing': 3047, 'good': 1937, 'you': 4986, 'end': 1468, 'up': 4683, 'thinking': 4453, 'yourself': 4993, 'why': 4878, 'watching': 4815, 'crap': 1031, 'plot': 3309, 'so': 4046, 'many': 2732, 'holes': 2133, 'got': 1944, 'know': 2489, 'how': 2181, 'terrible': 4407, 'could': 1007, 'said': 3774, 'before': 440, 'love': 2669, 'let': 2579, 'down': 1335, '18': 10, 'but': 636, 'little': 2624, 'blood': 512, 'scares': 3806, 'jumps': 2432, 'also': 199, 'what': 4858, 'annoyed': 248, 'me': 2778, 'stupid': 4247, 'things': 4451, 'happened': 2027, 'point': 3316, 'like': 2599, 'brother': 598, 'sister': 4001, 'kissing': 2484, 'can': 665, 'say': 3799, 'bother': 548, 'far': 1653, 'more': 2904, 'great': 1964, 'out': 3141, 'life': 2592, 'too': 4522, 'short': 3946, 'may': 2775, 'not': 3040, 'movie': 2926, 'steve': 4181, 'martin': 2748, 'has': 2043, 'certainly': 738, 'from': 1840, 'his': 2118, 'best': 469, 'obviously': 3072, 'he': 2056, 'did': 1241, 'pay': 3216, 'check': 777, 'does': 1308, 'reputation': 3640, 'man': 2721, 'doesnt': 1309, 'seem': 3861, 'grasp': 1960, 'when': 4862, 'go': 1924, 'expect': 1575, 'entertained': 1498, 'bored': 541, 'tears': 4380, 'sad': 3767, 'dragged': 1343, 'dan': 1102, 'him': 2110, 'understand': 4643, 'talented': 4355, 'cant': 671, 'get': 1899, 'want': 4788, 'them': 4432, 'lousy': 2667, 'movies': 2927, 'youre': 4992, 'going': 1931, 'call': 651, 'wasnt': 4807, 'shame': 3918, 'us': 4690, 'military': 2844, 'allowing': 191, 'itself': 2371, 'associated': 327, 'full': 1846, 'metal': 2823, 'laughs': 2534, 'than': 4420, 'miserable': 2863, 'excuse': 1564, 'service': 3896, 'surely': 4309, 'rolling': 3730, 'over': 3148, 'grave': 1962, 'low': 2676, 'budget': 610, 'filmed': 1717, 'british': 589, 'overcome': 3151, 'make': 2713, 'california': 650, 'late': 2523, '60s': 54, 'well': 4843, 'believe': 454, 'most': 2909, 'accurate': 90, 'version': 4720, 'killings': 2473, 'town': 4541, 'bay': 416, 'area': 286, '1968': 16, 'james': 2378, 'dave': 1123, 'george': 1893, 'believed': 455, 'arthur': 305, 'allen': 188, 'since': 3990, 'by': 642, 'game': 1864, 'cat': 713, 'mouse': 2919, 're': 3535, 'crime': 1055, 'scenes': 3811, 'together': 4511, 'each': 1395, 'trying': 4601, 'into': 2332, 'emotional': 1459, 'dying': 1393, 'type': 4621, 'disease': 1285, 'knowing': 2490, 'totally': 4532, 'obsessed': 3069, 'losing': 2658, 'family': 1645, 'becoming': 435, 'blown': 516, 'alcoholic': 177, 'along': 195, 'self': 3869, 'serial': 3889, 'killers': 2471, 'left': 2561, 'only': 3110, 'disappointment': 1275, 'top': 4525, 'ending': 1471, 'otherwise': 3137, 'pretty': 3384, 'typical': 4623, 'hollywood': 2137, 'interest': 2323, 'extremely': 1610, 'these': 4441, 'saving': 3797, 'alien': 183, 'beings': 449, 'use': 4692, 'special': 4097, 'speed': 4103, 'makes': 2716, 'everything': 1544, 'around': 297, 'age': 148, 'whole': 4873, 'series': 3890, 'dealing': 1136, 'loss': 2659, 'been': 438, 'started': 4157, 'total': 4531, 'note': 3044, 'leave': 2555, 'real': 3547, 'mark': 2739, 'instead': 2307, 'ended': 1470, 'super': 4295, 'happy': 2032, 'disney': 1289, 'animation': 242, 'decent': 1147, 'compare': 911, 'heard': 2062, 'complain': 919, 'found': 1811, 'somewhat': 4068, 'nudity': 3059, 'part': 3193, 'except': 1556, 'episode': 1507, 'where': 4864, 'overall': 3150, 'deserves': 1201, 'keeps': 2451, 'classic': 835, 'raised': 3508, 'christian': 808, 'household': 2179, 'birth': 486, 'saved': 3795, 'saw': 3798, 'rest': 3657, 'forced': 1787, 'watch': 4811, 'youth': 4994, 'group': 1980, 'church': 813, 'highly': 2105, 'disturbing': 1300, '12': 3, 'years': 4979, 'old': 3100, 'literally': 2622, 'nightmares': 3015, 'used': 4693, 'lay': 2542, 'awake': 365, 'bed': 436, 'listen': 2619, 'sounds': 4084, 'didnt': 1242, 'hear': 2061, 'her': 2085, 'sneak': 4043, 'sure': 4308, 'she': 3923, 'hadnt': 2004, 'hard': 2033, 'every': 1539, 'night': 3013, 'because': 432, 'jesus': 2399, 'definitely': 1162, 'something': 4066, 'will': 4886, 'show': 3953, 'kids': 2467, 'until': 4680, 'much': 2934, 'older': 3101, 'took': 4523, 'shake': 3914, 'fear': 1676, 'gave': 1875, 'seeing': 3857, 'fun': 1848, 'ive': 2372, 'cinema': 816, 'long': 2644, 'however': 2183, 'able': 66, 'whether': 4866, 'such': 4268, 'simple': 3983, 'simply': 3986, 'cannot': 670, 'picture': 3269, 'any': 256, 'romantic': 3733, 'political': 3324, 'commentary': 899, 'thriller': 4472, 'drama': 1346, 'action': 100, 'musical': 2947, 'art': 304, 'adding': 117, 'basic': 406, 'premise': 3370, 'indian': 2274, 'couple': 1016, 'kapoor': 2443, 'happily': 2030, 'living': 2629, 'canada': 666, 'who': 4871, 'rush': 3759, 'india': 2273, 'visit': 4755, 'husbands': 2205, 'parents': 3188, 'after': 143, 'news': 3005, 'report': 3635, 'takes': 4351, 'find': 1726, 'themselves': 4435, 'violence': 4747, 'without': 4913, 'baby': 376, 'remake': 3612, 'anything': 260, 'line': 2610, 'number': 3060, 'including': 2264, 'dream': 1354, 'which': 4867, 'comes': 891, 'another': 250, 'two': 4620, 'stars': 4155, 'appear': 273, 'really': 3556, 'ends': 1474, 'character': 758, 'yet': 4984, 'spirited': 4114, 'truly': 4597, 'unexpected': 4650, 'performance': 3228, 'work': 4940, 'do': 1302, 'job': 2405, 'having': 2054, 'link': 2613, 'twists': 4619, 'turns': 4609, 'believable': 453, 'emotion': 1458, 'notable': 3041, 'presence': 3373, 'plays': 3301, 'father': 1666, 'husband': 2204, 'scene': 3809, 'hes': 2093, 'scary': 3807, 'share': 3920, 'realism': 3549, 'abuse': 74, 'received': 3564, 'female': 1693, 'characters': 760, 'getting': 1901, 'beaten': 424, 'times': 4497, 'clearly': 840, 'ultimately': 4628, 'becomes': 434, 'surreal': 4317, 'dramatic': 1348, 'sequence': 3887, 'usually': 4700, 'followed': 1773, 'comic': 893, 'spectacular': 4101, 'effect': 1428, 'seen': 3865, 'bollywood': 530, 'genres': 1889, 'incredible': 2269, 'their': 4431, 'bar': 396, 'even': 1533, 'greater': 1965, 'ridiculous': 3693, 'tragedy': 4551, 'audience': 352, 'equally': 1510, 'pure': 3471, 'gratuitous': 1961, 'director': 1264, 'must': 2950, 'throwing': 4480, 'trick': 4582, 'book': 535, 'perhaps': 3235, 'important': 2247, 'message': 2819, 'inspiring': 2302, 'thoughts': 4464, 'mind': 2849, 'came': 656, 'making': 2718, 'world': 4946, 'heres': 2087, 'kind': 2476, 'enjoy': 1484, 'mostly': 2910, 'reasons': 3560, 'young': 4989, 'still': 4188, 'teens': 4392, 'least': 2554, 'think': 4452, 'our': 3139, 'lives': 2628, 'moon': 2900, 'magnificent': 2705, 'reflection': 3585, 'upon': 4684, 'memories': 2803, 'maybe': 2776, 'few': 1700, 'details': 1219, 'further': 1853, 'experienced': 1581, 'second': 3846, 'reason': 3557, 'developed': 1223, 'new': 3003, 'strongly': 4231, 'occurs': 3078, 'cast': 710, 'names': 2963, 'sam': 3777, 'actor': 103, 'capable': 672, 'playing': 3300, 'tough': 4537, 'caring': 691, 'wise': 4903, 'fathers': 1667, 'jason': 2383, 'london': 2641, 'actress': 105, 'ten': 4399, 'road': 3709, 'shes': 3930, 'win': 4892, 'academy': 77, 'award': 366, 'members': 2801, 'pull': 3461, 'performances': 3229, 'dialogue': 1234, 'compelling': 916, 'screenplay': 3831, 'looking': 2648, 'situations': 4009, 'often': 3095, 'phony': 3256, 'way': 4820, 'set': 3898, 'quite': 3495, 'thought': 4462, 'starred': 4153, 'william': 4887, 'hurt': 2202, 'kill': 2468, 'we': 4823, 'given': 1913, 'information': 2288, 'paying': 3217, 'indeed': 2271, 'returning': 3667, 'delivered': 1170, 'toy': 4542, 'soldiers': 4054, 'gives': 1914, 'smile': 4036, 'goes': 1930, 'business': 633, 'hell': 2077, 'alive': 186, 'war': 4792, 'driving': 1368, 'shooting': 3943, 'machine': 2693, 'guns': 1998, 'flying': 1764, 'effects': 1431, 'tv': 4610, 'tense': 4403, 'apartment': 265, 'using': 4698, 'survive': 4321, 'sometimes': 4067, 'upper': 4685, 'hand': 2015, 'wont': 4932, 'spoil': 4121, 'suffice': 4279, 'clever': 841, 'twist': 4617, 'hope': 2155, 'episodes': 1508, 'rubbish': 3748, 'lost': 2660, 'fourth': 1813, 'stephen': 4176, 'king': 2479, 'always': 203, 'mixed': 2877, 'bag': 384, 'exception': 1557, 'although': 201, 'properly': 3437, 'warned': 4798, 'sat': 3786, 'give': 1912, 'break': 569, 'single': 3996, 'couldnt': 1008, 'stand': 4143, 'kennedy': 2454, 'barry': 401, 'ben': 463, 'save': 3794, 'turkey': 4604, 'once': 3106, 'during': 1387, 'humor': 2192, 'travesty': 4570, 'spoof': 4127, 'namely': 2962, 'simon': 3982, 'says': 3801, 'jokes': 2415, 'poorly': 3329, 'carried': 698, 'plain': 3286, 'unfunny': 4655, 'coming': 896, 'mile': 2842, 'away': 369, 'hasnt': 2044, 'parody': 3192, 'airplane': 166, 'ii': 2226, 'naked': 2959, 'gun': 1996, 'iii': 2227, 'gags': 1862, 'dialog': 1232, 'unforgettable': 4652, 'quotes': 3497, 'men': 2805, 'white': 4870, 'none': 3028, 'above': 68, 'gross': 1978, 'avoid': 363, 'anyway': 261, 'consider': 949, 'hated': 2047, 'gerard': 1895, 'butler': 637, 'half': 2007, 'hour': 2176, 'boring': 543, 'conversation': 980, 'sorry': 4076, 'care': 684, 'fast': 1661, 'probably': 3407, 'done': 1322, 'fell': 1690, 'asleep': 320, 'turned': 4606, 'bright': 581, 'light': 2595, 'earlier': 1399, 'fan': 1648, 'worry': 4950, 'adorable': 124, 'precious': 3366, 'luck': 2681, 'youll': 4988, 'need': 2987, 'lots': 2662, 'coffee': 870, 'keep': 2449, 'thats': 4425, 'casting': 711, 'sense': 3877, 'put': 3480, 'though': 4461, 'idea': 2213, 'spell': 4104, 'name': 2960, 'back': 378, 'pre': 3365, 'viewing': 4740, 'excellent': 1555, 'sci': 3815, 'fi': 1701, 'style': 4249, 'unique': 4662, 'actual': 108, 'actors': 104, 'strip': 4228, 'step': 4175, 'sin': 3988, 'city': 825, 'successful': 4266, 'combination': 883, 'french': 1830, 'mood': 2898, 'remind': 3618, 'blade': 495, 'liked': 2600, 'storyline': 4208, 'intelligent': 2314, 'nice': 3008, 'absolutely': 72, 'charlotte': 766, 'novel': 3052, 'school': 3813, 'stunning': 4244, 'impression': 2252, 'here': 2086, 'beautiful': 428, 'womans': 4922, 'struggle': 4234, 'dark': 1115, 'england': 1482, 'woman': 4921, 'jane': 2380, 'eyre': 1614, 'poor': 3328, 'strong': 4229, 'own': 3158, 'told': 4513, 'through': 4477, 'eyes': 1613, 'both': 547, 'study': 4242, 'watched': 4813, '1983': 22, 'adaptation': 113, 'blew': 505, 'mini': 2854, 'effort': 1432, 'stay': 4166, 'true': 4596, 'original': 3129, 'text': 4419, 'essence': 1521, 'portrayed': 3342, 'timothy': 4499, 'dalton': 1098, 'rochester': 3719, 'captured': 677, 'brilliantly': 584, 'imagine': 2238, 'anyone': 259, 'else': 1448, 'roles': 3727, 'versions': 4721, '2006': 36, 'lack': 2502, 'passion': 3205, 'energy': 1478, 'needed': 2988, 'portray': 3340, 'portrayal': 3341, 'looks': 2649, 'captures': 678, 'quiet': 3492, 'passionate': 3206, 'nature': 2975, 'holds': 2131, 'emotions': 1461, 'appropriate': 283, 'moments': 2887, 'allows': 192, 'fire': 1734, 'chemistry': 782, 'credible': 1048, 'devoted': 1231, 'relationship': 3597, 'supporting': 4304, 'fit': 1740, 'perfectly': 3226, 'sets': 3899, 'gothic': 1945, 'recommend': 3571, 'tale': 4353, 'read': 3543, 'production': 3419, 'faithful': 1634, 'introduction': 2339, 'sweet': 4336, 'grandmother': 1955, 'grace': 1950, 'seems': 3864, 'cut': 1089, 'same': 3778, 'dozen': 1338, 'comedies': 889, 'past': 3207, 'faced': 1617, 'finds': 1728, 'strength': 4219, 'challenge': 743, 'learns': 2553, 'herself': 2092, 'process': 3412, 'thus': 4486, 'broke': 593, 'master': 2757, 'help': 2079, 'friend': 1835, 'matthew': 2772, 'grow': 1982, 'pot': 3354, 'plant': 3293, 'doing': 1312, 'helps': 2082, 'realize': 3552, 'perfect': 3224, 'person': 3238, 'benefit': 465, 'enjoys': 1489, 'smoking': 4040, 'needs': 2990, 'raise': 3507, 'highlight': 2103, 'deal': 1135, 'dressed': 1358, 'suit': 4284, 'john': 2409, 'wore': 4939, 'saturday': 3792, 'fever': 1699, 'therefore': 4439, 'watchable': 4812, 'lot': 2661, 'la': 2500, 'memorable': 2802, 'moving': 2928, 'immensely': 2243, 'entertaining': 1499, '90': 60, 'feels': 1687, 'walk': 4775, 'friends': 1837, '10': 0, 'van': 4713, 'especially': 1520, 'drive': 1363, 'comfortable': 892, 'providing': 3451, 'opportunities': 3120, 'cry': 1073, 'danny': 1112, 'small': 4033, 'role': 3726, 'manager': 2724, 'car': 680, 'almost': 193, 'steals': 4172, 'leads': 2548, 'acted': 98, 'complex': 923, 'directing': 1260, 'competent': 917, 'international': 2326, 'bought': 552, 'stuff': 4243, 'played': 3297, 'take': 4349, 'seriously': 3892, 'rate': 3526, 'serve': 3893, 'purpose': 3474, 'while': 4868, 'band': 391, 'burned': 626, 'death': 1141, 'hotel': 2175, 'fans': 1650, 'starts': 4159, 'beyond': 476, 'bit': 488, 'nightmare': 3014, 'elm': 1447, 'street': 4216, 'granted': 1957, 'freddy': 1826, 'girl': 1909, 'featuring': 1681, 'heavy': 2070, 'different': 1248, 'crazy': 1035, 'helping': 2081, 'killer': 2470, 'spirit': 4113, 'stop': 4201, 'gruesome': 1986, 'remember': 3616, 'gory': 1943, 'kills': 2474, 'frankly': 1823, 'wearing': 4831, 'creature': 1045, 'finally': 1724, 'category': 718, 'summer': 4291, 'season': 3843, 'equal': 1509, 'parts': 3199, 'dog': 1310, 'bite': 489, 'merely': 2815, 'title': 4504, 'direction': 1261, 'superb': 4296, 'cinematography': 820, 'involved': 2346, 'course': 1019, 'catch': 714, 'form': 1798, 'several': 3905, 'represents': 3639, 'mature': 2773, 'wed': 4835, 'mainstream': 2709, 'marks': 2742, 'return': 3665, 'initial': 2290, 'year': 4978, 'ago': 154, 'wonders': 4931, 'rough': 3741, 'opposite': 3123, 'lee': 2559, 'whose': 4877, 'between': 475, 'physical': 3262, 'problem': 3408, 'menace': 2806, 'weve': 4856, 'hong': 2149, 'kong': 2494, 'duo': 1386, 'hopefully': 2157, 'easier': 1405, 'touch': 4533, 'projects': 3428, 'princess': 3397, 'saga': 3773, 'remains': 3611, 'rare': 3523, 'imagery': 2234, 'gorgeous': 1942, 'tricks': 4583, 'shadow': 3912, 'perspective': 3245, 'soundtrack': 4085, 'atmospheric': 334, 'unreal': 4676, 'writer': 4968, 'matt': 2768, 'previously': 3388, 'engaged': 1480, 'likewise': 2603, 'three': 4469, 'numerous': 3062, 'project': 3427, 'air': 164, 'eerie': 1427, 'round': 3742, 'corner': 996, 'isnt': 2362, 'following': 1774, 'path': 3209, 'albeit': 173, 'miles': 2843, 'angle': 236, 'daniel': 1111, 'killing': 2472, 'sent': 3880, 'target': 4366, 'nearly': 2981, 'silent': 3975, 'immediately': 2242, 'arrival': 299, 'depicted': 1183, 'brilliant': 583, 'visuals': 4759, 'childhood': 790, 'become': 433, 'professional': 3421, 'wild': 4885, 'human': 2188, 'leaves': 2556, 'trail': 4553, 'picked': 3266, 'team': 4378, 'investigate': 2342, 'features': 1680, 'cameo': 657, 'mob': 2879, 'support': 4303, 'star': 4150, 'wayne': 4821, 'lees': 2560, 'officer': 3092, 'charge': 761, 'revealing': 3672, 'himself': 2111, 'disturbed': 1299, 'individual': 2277, 'cop': 991, 'nonetheless': 3029, 'gradually': 1952, 'learn': 2550, 'inner': 2292, 'conflict': 939, 'police': 3322, 'corruption': 1002, 'background': 380, 'demons': 1178, 'pursuit': 3476, 'ensues': 1493, 'minor': 2857, 'body': 527, 'count': 1010, 'taking': 4352, 'prisoners': 3403, 'theres': 4440, 'store': 4204, 'gore': 1941, 'per': 3223, 'places': 3284, 'adult': 125, 'language': 2516, 'appearance': 274, 'leading': 2547, 'handed': 2016, 'days': 1130, 'relatively': 3600, 'theatrical': 4430, 'fighting': 1709, 'career': 686, 'murderer': 2941, 'romance': 3732, 'mr': 2929, 'beautifully': 429, 'meets': 2795, 'strangely': 4212, 'madness': 2698, 'escape': 1517, 'agrees': 157, 'run': 3755, 'hearts': 2066, 'tragic': 4552, 'endless': 1473, 'suffering': 4277, 'protagonist': 3441, 'amazingly': 210, 'arent': 288, 'guys': 2001, 'finale': 1723, 'includes': 2263, 'recent': 3566, 'suspense': 4330, 'home': 2142, 'chan': 746, 'numbers': 3061, 'likely': 2601, 'dogs': 1311, 'sinister': 3998, 'manages': 2725, 'throughout': 4478, 'considering': 952, 'play': 3296, 'stands': 4147, 'critical': 1062, 'standards': 4145, 'johnny': 2410, 'epic': 1506, 'mission': 2870, 'wit': 4908, 'chest': 784, 'returns': 3668, 'performers': 3232, 'lies': 2591, 'eye': 1611, 'visual': 4757, 'tradition': 4549, 'stories': 4205, 'ego': 1435, 'solid': 4057, 'masterpiece': 2759, 'rating': 3529, 'likes': 2602, 'shows': 3960, 'kinds': 2478, 'liberal': 2588, 'matter': 2769, 'incredibly': 2270, 'predictable': 3367, 'badly': 383, 'written': 4972, 'stale': 4141, 'writing': 4971, 'guess': 1989, 'happen': 2026, 'die': 1243, 'soon': 4074, 'id': 2212, 'curious': 1083, 'writes': 4970, 'hip': 2114, 'bet': 470, '1960s': 15, 'taken': 4350, 'thank': 4421, 'goodness': 1938, 'lame': 2510, 'rick': 3689, 'supposed': 4306, 'dollars': 1315, 'im': 2232, 'fox': 1814, 'wonderfully': 4929, 'enjoyed': 1486, 'shown': 3959, 'lily': 2605, 'room': 3735, 'try': 4600, 'reading': 3544, 'others': 3136, 'comments': 901, 'confused': 941, 'spoiler': 4123, 'mother': 2911, 'son': 4070, 'telling': 4396, 'painting': 3175, 'someone': 4064, 'slow': 4031, 'might': 2835, 'difficult': 1249, 'sit': 4003, 'worth': 4953, 'clear': 839, 'deals': 1137, 'survivors': 4325, 'endure': 1475, 'seeking': 3859, 'answer': 251, 'fantastic': 1651, 'ladies': 2506, 'ignore': 2224, 'affected': 137, 'harsh': 2040, 'suits': 4287, 'loose': 2650, 'major': 2711, 'issues': 2365, 'dealt': 1138, 'statement': 4162, 'adults': 126, 'recommended': 3572, 'right': 3696, 'thru': 4483, 'disagree': 1269, 'negative': 2991, 'problems': 3409, 'lone': 2642, 'wolf': 4920, 'necessarily': 2983, 'feet': 1688, 'wet': 4855, 'respect': 3652, 'created': 1037, 'tension': 4404, 'pulled': 3462, 'knew': 2486, 'train': 4556, 'tracks': 4545, 'degree': 1164, 'clip': 851, 'dirty': 1268, 'shirt': 3937, 'turn': 4605, 'near': 2979, 'rain': 3506, 'australia': 356, 'behind': 447, 'kid': 2464, 'gods': 1928, 'sake': 3775, 'mentioned': 2811, 'hardly': 2036, 'mentioning': 2812, 'frame': 1815, 'camera': 659, 'displayed': 1292, 'splatter': 4118, 'beginning': 443, 'shots': 3950, 'wouldnt': 4958, 'experience': 1580, 'taught': 4370, 'post': 3352, 'ryan': 3765, 'card': 681, 'office': 3091, 'worlds': 4947, 'circumstances': 822, 'within': 4912, 'safe': 3771, 'words': 4938, 'gone': 1935, 'introduces': 2338, 'inside': 2297, 'fascinating': 1658, 'fantasy': 1652, 'reality': 3551, 'combined': 885, 'inspired': 2301, 'books': 536, 'material': 2766, 'graphic': 1958, 'pages': 3168, 'giving': 1915, 'interesting': 2325, 'weird': 4841, 'music': 2946, 'proper': 3436, 'atmosphere': 333, 'unfortunately': 4654, 'animated': 241, 'lived': 2626, 'favorites': 1672, 'recently': 3567, 'opinion': 3118, 'honesty': 2148, 'feeling': 1685, 'threw': 4470, 'trash': 4565, 'scientists': 3819, 'stuck': 4237, 'tried': 4584, 'tim': 4494, 'robbins': 3712, 'smart': 4035, 'brought': 600, 'sunday': 4293, 'morning': 2906, 'review': 3676, 'generally': 1881, 'available': 361, 'fury': 1855, 'footage': 1782, 'contained': 963, 'eight': 1436, 'nine': 3017, 'crucial': 1068, 'missing': 2869, 'known': 2492, 'whatsoever': 4861, 'utter': 4701, 'nonsense': 3030, 'incomprehensible': 2267, 'paul': 3214, 'seemingly': 3863, 'apparently': 270, 'normal': 3033, 'guy': 2000, 'trip': 4588, 'attacked': 338, 'somehow': 4063, 'werewolf': 4850, 'doctor': 1304, 'scientist': 3818, 'appears': 278, 'college': 875, 'vague': 4705, 'word': 4937, 'bunch': 623, 'attached': 336, 'victims': 4730, 'head': 2057, 'change': 749, 'brain': 562, 'naturally': 2974, 'rule': 3753, 'provided': 3449, 'trouble': 4592, 'hidden': 2096, 'trapped': 4564, 'states': 4163, 'day': 1129, 'wandering': 4785, 'zombie': 4997, 'filmmakers': 1720, 'decide': 1148, 'bloody': 513, 'terror': 4412, 'ask': 316, 'makeup': 2717, 'changes': 751, 'animal': 239, 'engage': 1479, 'intellectual': 2312, 'level': 2584, 'ahead': 159, 'whatever': 4859, 'halloween': 2010, 'party': 3200, 'attention': 345, 'completely': 922, 'repeat': 3630, 'consistent': 953, 'paris': 3189, 'texas': 4418, 'land': 2511, 'plenty': 3307, 'average': 362, 'mediocre': 2791, 'went': 4847, 'werent': 4849, 'middle': 2833, 'america': 212, 'outcome': 3142, 'wholly': 4874, 'rock': 3720, 'song': 4071, 'annoying': 249, 'certain': 737, 'honestly': 2147, 'clumsy': 866, 'speaks': 4096, '15': 7, 'mess': 2818, 'cover': 1022, 'drawing': 1350, 'warning': 4800, 'quality': 3484, 'animals': 240, 'wow': 4962, 'last': 2521, 'decades': 1145, 'front': 1841, 'scream': 3826, 'occasionally': 3075, 'teeth': 4393, 'tiger': 4491, 'amateur': 206, 'wait': 4770, 'reaction': 3541, 'weak': 4824, 'alert': 178, 'ex': 1549, 'public': 3460, 'teacher': 4375, 'fall': 1637, 'york': 4985, 'setting': 3900, 'trite': 4589, 'personalities': 3241, 'protagonists': 3442, 'hey': 2095, 'sell': 3871, 'sappy': 3784, 'wins': 4899, 'five': 1743, 'surprised': 4313, 'subjects': 4254, 'gentle': 1890, 'loves': 2674, 'fed': 1682, 'jerk': 2395, 'wonderful': 4928, 'culture': 1079, 'differences': 1247, 'running': 3756, 'theme': 4433, 'whats': 4860, 'under': 4639, 'appreciated': 280, 'keaton': 2448, 'wonder': 4926, 'serious': 3891, 'bits': 490, 'easy': 1410, 'festival': 1697, 'shower': 3957, 'sons': 4073, 'traditional': 4550, 'somewhere': 4069, 'chinese': 796, 'village': 4743, 'local': 2634, 'aged': 149, 'retarded': 3663, 'modern': 2882, 'strange': 4211, 'sound': 4081, 'cheesy': 781, 'cliche': 843, 'touching': 4536, 'chance': 747, 'reviews': 3679, 'doubt': 1332, 'majority': 2712, 'complicated': 925, 'follow': 1772, 'whilst': 4869, 'ties': 4490, 'kicking': 2462, 'youve': 4995, 'missed': 2867, 'stock': 4193, 'spends': 4107, 'argument': 291, 'similar': 3978, 'specifically': 4100, 'lead': 2545, 'ray': 3533, 'less': 2575, 'afterwards': 145, 'start': 4156, 'symbolism': 4341, 'hints': 2113, 'laid': 2508, 'jean': 2389, 'exactly': 1551, 'confusing': 942, 'erotic': 1515, 'lesbian': 2573, 'vampires': 4712, 'nude': 3058, 'particularly': 3195, 'bare': 398, 'wants': 4791, 'secret': 3849, 'hold': 2129, 'key': 2458, 'suicide': 4283, 'cult': 1077, 'sees': 3866, 'mysterious': 2955, 'happens': 2029, 'importance': 2246, 'investigation': 2343, 'discovers': 1281, 'lady': 2507, 'deeper': 1155, 'killed': 2469, 'bullets': 621, 'case': 707, 'fails': 1628, 'executed': 1565, 'possible': 3350, 'plots': 3310, 'messed': 2821, 'climax': 849, 'basically': 407, 'explain': 1586, 'thrown': 4481, 'attempt': 340, 'ham': 2011, 'rather': 3528, 'logical': 2639, 'fairly': 1631, 'neat': 2982, 'locations': 2636, 'girls': 1911, 'board': 522, 'complete': 921, 'lacks': 2505, 'logic': 2638, 'explains': 1589, 'waited': 4771, 'documentary': 1307, 'wanted': 4789, 'carefully': 689, 'write': 4967, 'kept': 2456, 'interested': 2324, 'explored': 1595, 'drag': 1342, 'finding': 1727, 'balls': 390, 'folks': 1771, 'competition': 918, 'angry': 238, 'judge': 2424, 'queen': 3485, 'mans': 2730, 'jealous': 2388, 'felt': 1692, 'talking': 4360, 'compared': 912, 'changed': 750, 'looked': 2647, 'future': 1856, 'ready': 3546, 'ball': 388, 'whos': 4876, 'house': 2178, 'add': 115, 'called': 652, 'madonna': 2699, 'familiar': 1643, 'faces': 1618, 'individuals': 2278, 'credit': 1049, 'due': 1382, 'theyll': 4444, 'theyre': 4445, 'powers': 3361, 'higher': 2101, '1933': 12, 'sexual': 3908, 'era': 1513, 'code': 869, 'stanwyck': 4149, 'sexy': 3911, 'include': 2261, 'donald': 1321, 'cook': 988, 'ned': 2986, 'stevens': 4183, 'henry': 2084, 'margaret': 2735, 'ann': 244, 'carter': 703, 'harris': 2038, 'jimmy': 2403, 'brave': 567, 'topic': 4526, 'historically': 2120, 'significant': 3972, 'force': 1786, 'laughter': 2535, 'summary': 4290, 'hate': 2046, 'qualities': 3483, 'remarkable': 3613, 'contemporary': 965, 'connection': 946, 'sight': 3969, 'deep': 1154, 'possibility': 3349, 'intense': 2316, 'bond': 532, 'ideas': 2215, 'expressed': 1601, 'tender': 4401, 'american': 213, 'boy': 557, 'personal': 3240, 'grandfather': 1954, 'plane': 3288, 'next': 3007, 'scenery': 3810, 'act': 97, 'conversations': 981, 'relationships': 3598, 'tell': 4395, 'essential': 1522, 'means': 2783, 'religious': 3608, 'faith': 1633, 'soul': 4079, 'loved': 2670, 'responsible': 3656, 'cynical': 1093, 'concerns': 934, 'women': 4923, 'meanwhile': 2785, 'ethan': 1528, 'julie': 2428, '90s': 61, 'generation': 1883, 'central': 735, 'necessary': 2984, 'walking': 4779, 'streets': 4217, 'brief': 579, 'encounter': 1466, 'acceptable': 81, 'kiss': 2483, 'ho': 2127, 'pop': 3330, 'cinematic': 818, 'thing': 4450, 'suddenly': 4273, 'random': 3514, 'player': 3298, 'reactions': 3542, 'already': 197, 'splendid': 4119, 'ear': 1397, 'natural': 2973, 'moment': 2886, 'happiness': 2031, '24': 39, 'hours': 2177, 'married': 2744, 'calling': 653, 'repeatedly': 3632, 'phone': 3255, 'waters': 4817, 'date': 1118, 'obvious': 3071, 'surprises': 4314, 'pace': 3161, 'honest': 2146, 'junk': 2436, 'attorney': 348, 'damage': 1099, 'mental': 2808, 'health': 2060, 'entertainment': 1500, 'slap': 4018, 'planet': 3289, 'uninspired': 4657, 'talk': 4358, 'actions': 101, 'beatty': 427, 'slight': 4027, 'ok': 3098, 'lion': 2614, 'cage': 645, 'tend': 4400, 'girlfriend': 1910, 'island': 2361, 'history': 2121, 'lesson': 2577, 'hang': 2022, 'tells': 4397, 'male': 2719, 'crappy': 1032, 'admit': 122, 'practically': 3362, 'grew': 1972, 'minute': 2858, 'genre': 1888, 'begin': 442, 'ring': 3698, 'buying': 641, 'ticket': 4487, 'beach': 419, 'south': 4087, 'australian': 357, 'location': 2635, 'slightly': 4029, 'hilarious': 2106, 'nor': 3032, 'hearted': 2065, 'sadness': 3770, 'entirely': 1503, 'runs': 3757, 'length': 2569, 'viewer': 4738, 'quickly': 3491, 'accept': 80, 'amount': 219, 'flesh': 1753, 'michael': 2829, 'arrive': 300, 'side': 3965, 'park': 3190, 'voice': 4761, 'talks': 4361, 'confusion': 943, 'exploration': 1593, 'separate': 3883, 'introduced': 2337, 'lawrence': 2539, 'jenny': 2393, 'jennifer': 2392, 'chances': 748, 'attractive': 351, 'ice': 2210, 'gary': 1873, 'main': 2707, 'element': 1442, 'unless': 4669, 'redeeming': 3577, 'feature': 1678, 'subject': 4253, 'suspect': 4327, 'continuity': 972, 'positive': 3346, 'appealing': 272, 'downright': 1337, 'attitude': 346, 'matters': 2770, 'factor': 1622, 'aspect': 321, 'meaning': 2780, 'private': 3404, 'ease': 1404, 'space': 4090, 'task': 4368, 'filming': 1718, 'neither': 2996, 'skin': 4015, 'flick': 1754, 'anywhere': 263, 'apart': 264, 'accent': 78, 'country': 1014, 'pointless': 3318, 'medium': 2792, 'national': 2970, 'cinemas': 817, 'quest': 3486, 'identity': 2217, 'flop': 1760, 'popular': 3333, 'unlikely': 4671, 'sounding': 4083, 'position': 3345, 'everyday': 1541, 'view': 4736, 'wish': 4904, 'europe': 1529, 'particular': 3194, 'rarely': 3524, 'direct': 1258, 'wave': 4818, 'faster': 1662, 'track': 4544, 'multi': 2935, 'gender': 1878, 'current': 1084, 'ground': 1979, 'among': 217, 'list': 2617, 'behavior': 446, 'brand': 565, 'quirky': 3493, 'fresh': 1833, 'false': 1641, 'base': 402, 'woody': 4936, 'recognize': 3569, 'myself': 2953, 'snake': 4042, 'eating': 1413, 'amateurish': 207, 'student': 4238, 'victim': 4729, 'caught': 722, 'worthwhile': 4955, 'value': 4709, 'towards': 4540, 'rings': 3699, 'hollow': 2135, 'pretentious': 3383, 'piece': 3272, 'bergman': 466, 'ie': 2221, 'despite': 1211, 'flaws': 1752, 'jackson': 2375, 'video': 4733, 'mirror': 2861, 'montage': 2894, 'segment': 3867, 'acts': 107, 'demon': 1177, 'adventures': 131, 'motion': 2913, 'dancing': 1107, 'against': 147, 'rabbit': 3498, 'costume': 1005, 'alone': 194, 'straight': 4210, 'laughable': 2530, 'building': 615, 'thousands': 4466, 'troops': 4591, 'flashback': 1746, 'showing': 3958, 'children': 792, 'underground': 4640, 'joe': 2407, 'villain': 4744, 'plan': 3287, 'child': 789, 'hooked': 2153, 'drugs': 1374, 'early': 1400, 'chased': 770, 'cool': 989, 'sequences': 3888, 'robot': 3717, 'amazing': 209, 'smooth': 4041, 'criminal': 1057, 'greatest': 1966, 'hits': 2125, 'pick': 3265, 'itll': 2369, '20': 29, 'released': 3603, 'lately': 2524, 'realistic': 3550, 'east': 1407, 'german': 1896, 'contrast': 975, 'absolute': 71, 'cliché': 844, 'steven': 4182, 'spielberg': 4110, 'directed': 1259, 'emotionally': 1460, 'african': 142, 'debut': 1143, 'goldberg': 1933, 'begins': 444, '14': 6, 'younger': 4990, 'whom': 4875, 'constant': 957, 'inferior': 2285, 'rights': 3697, 'zero': 4996, 'survival': 4320, 'color': 877, 'purple': 3473, 'notion': 3050, 'glover': 1923, 'surprisingly': 4316, 'nasty': 2968, 'evil': 1548, 'icon': 2211, 'connect': 944, 'close': 853, 'andy': 230, 'helen': 2075, 'ultimate': 4627, '1950s': 14, 'teenagers': 4391, 'battle': 414, 'creatures': 1046, 'described': 1195, 'rebel': 3561, 'cause': 723, 'god': 1926, 'knows': 2493, 'outer': 3143, 'shortly': 3947, 'sounded': 4082, 'enough': 1491, 'understanding': 4645, 'aforementioned': 139, 'teenage': 4389, 'hot': 2174, 'grown': 1984, 'ups': 4686, 'third': 4455, 'sentence': 3881, 'pleasure': 3306, 'imagined': 2239, 'surprising': 4315, 'blob': 507, 'catchy': 717, 'measure': 2786, '40': 48, 'plus': 3311, 'crowd': 1067, 'included': 2262, 'nostalgia': 3038, 'prevent': 3385, 'choice': 797, 'sophisticated': 4075, 'taylor': 4372, 'aka': 168, 'reviewer': 3677, 'installment': 2303, 'asks': 319, 'narrative': 2966, 'odd': 3080, 'audiences': 353, 'unusual': 4681, 'question': 3487, 'frequently': 1832, 'hopes': 2159, 'continue': 969, 'presented': 3376, 'juvenile': 2441, 'attack': 337, 'industry': 2280, 'worked': 4941, 'performs': 3234, 'create': 1036, 'images': 2235, 'similarly': 3980, 'drawn': 1351, 'western': 4853, 'endearing': 1469, 'ways': 4822, 'initially': 2291, 'striking': 4226, 'aspects': 322, 'sort': 4077, 'reaching': 3539, 'television': 4394, 'exploitation': 1592, 'uncomfortable': 4637, 'underlying': 4641, 'hatred': 2049, 'presents': 3377, 'viewers': 4739, 'uses': 4697, 'sheer': 3925, 'screams': 3828, 'elements': 1443, 'francis': 1818, 'infamous': 2284, 'figure': 1711, 'inevitably': 2283, 'cringe': 1059, 'humble': 2191, 'polished': 3323, 'realized': 3553, 'largely': 2518, 'impressive': 2253, 'proves': 3447, 'wake': 4774, 'expectations': 1576, 'catching': 716, 'theatre': 4429, 'forget': 1793, 'ill': 2228, 'dies': 1245, 'bring': 585, 'fully': 1847, 'references': 3583, 'tales': 4357, 'cute': 1090, 'packed': 3166, 'surface': 4310, 'screen': 3829, 'blank': 501, 'easily': 1406, 'pathetic': 3210, 'twelve': 4611, 'assistant': 326, 'mansion': 2731, 'mere': 2814, 'grand': 1953, 'bargain': 400, 'basement': 405, 'price': 3389, 'please': 3304, 'intelligence': 2313, 'won': 4925, 'cup': 1080, 'biggest': 480, 'football': 1783, 'everybody': 1540, 'genius': 1887, 'convincingly': 986, 'spain': 4091, 'disaster': 1276, 'chain': 741, 'occasion': 3073, 'signed': 3971, 'june': 2433, 'million': 2847, 'later': 2525, 'camp': 662, 'beat': 423, 'twice': 4613, 'match': 2762, 'site': 4005, 'crude': 1069, 'foul': 1810, '1984': 23, 'join': 2412, 'boys': 559, 'millions': 2848, 'transfer': 4559, 'determined': 1221, 'mexico': 2827, 'hero': 2088, 'winning': 4898, 'hundreds': 2196, 'died': 1244, 'press': 3379, 'result': 3660, 'remembered': 3617, 'britain': 588, '1980': 20, 'tour': 4538, 'enemy': 1477, 'event': 1535, 'limited': 2606, 'english': 1483, '45': 50, 'bang': 393, 'forward': 1808, '50': 51, 'serves': 3895, 'jumped': 2430, 'claim': 828, 'rising': 3703, 'passed': 3202, 'al': 170, 'blow': 514, 'ran': 3513, 'circle': 821, 'foot': 1781, 'mars': 2746, 'image': 2233, 'gift': 1906, 'finest': 1730, 'goal': 1925, 'opportunity': 3121, 'normally': 3034, 'aimed': 162, 'boot': 538, 'red': 3576, 'cares': 690, 'decided': 1149, 'arms': 294, 'box': 555, 'alongside': 196, 'offering': 3089, 'panic': 3181, 'twisted': 4618, 'prepared': 3371, 'score': 3822, 'extra': 1606, 'magical': 2704, 'mexican': 2826, 'players': 3299, 'mystery': 2956, 'science': 3816, 'theater': 4427, 'whoever': 4872, 'wrote': 4974, 'mean': 2779, 'devil': 1228, 'vs': 4767, 'santa': 3783, 'creepy': 1052, 'laughing': 2533, 'wind': 4893, 'racial': 3501, 'stereotypes': 4179, 'aint': 163, 'mst3k': 2932, 'fashioned': 1660, 'presumably': 3380, 'castle': 712, 'heaven': 2068, 'sends': 3876, 'letters': 2582, 'anybody': 257, 'taste': 4369, 'fine': 1729, 'students': 4239, 'fetched': 1698, 'timing': 4498, 'holding': 2130, 'controversial': 978, 'developing': 1224, 'entire': 1502, 'satire': 3788, 'roll': 3728, 'hundred': 2195, 'usa': 4691, 'society': 4050, 'named': 2961, '2000': 30, 'print': 3399, 'italy': 2368, 'held': 2074, 'intended': 2315, 'aware': 368, 'fitting': 1742, 'university': 4667, 'landscape': 2513, 'colors': 879, 'movements': 2924, 'artist': 307, 'became': 431, 'artists': 309, 'activities': 102, 'sixties': 4011, 'provides': 3450, 'bound': 553, 'conventional': 979, 'flow': 1762, 'imagination': 2236, 'massive': 2756, 'directors': 1266, 'smaller': 4034, 'lesser': 2576, 'justice': 2438, 'breathtaking': 574, 'format': 1799, 'sudden': 4272, 'impact': 2244, 'harry': 2039, 'violent': 4748, 'clint': 850, 'creative': 1041, 'frank': 1821, 'daily': 1097, 'live': 2625, 'values': 4710, 'dig': 1250, 'hitchcock': 2123, 'essentially': 1523, 'dull': 1384, 'working': 4944, 'carrying': 701, 'overrated': 3156, 'quote': 3496, 'tom': 4514, 'cruise': 1071, 'unable': 4631, 'bathroom': 412, 'appreciate': 279, 'open': 3112, 'complaint': 920, 'gets': 1900, 'points': 3319, 'keeping': 2450, 'views': 4742, 'aside': 315, 'khan': 2459, 'gandhi': 1866, 'cleverly': 842, 'fight': 1707, 'larger': 2519, 'importantly': 2248, 'draws': 1352, 'nation': 2969, 'struggles': 4235, 'strictly': 4223, 'order': 3126, 'heart': 2064, 'finger': 1731, 'couldve': 1009, 'dvd': 1391, 'gripping': 1976, 'treat': 4572, 'potential': 3355, 'wondering': 4930, '75': 57, 'thief': 4448, 'fictional': 1703, 'account': 89, 'weeks': 4839, 'thoroughly': 4459, 'independent': 2272, 'string': 4227, 'ya': 4976, 'standard': 4144, 'fare': 1655, 'costumes': 1006, 'build': 614, 'satisfying': 3791, 'questions': 3489, 'technical': 4381, 'lighting': 2596, 'sloppy': 4030, 'maker': 2714, 'danger': 1109, 'truth': 4599, 'threat': 4467, 'government': 1948, 'example': 1553, 'develops': 1226, 'sacrifice': 3766, 'achieved': 93, 'subplot': 4255, 'cure': 1081, 'shed': 3924, 'cross': 1066, 'filmmaker': 1719, 'various': 4715, 'christ': 807, 'produced': 3414, 'christians': 809, 'contains': 964, 'convey': 982, 'absurd': 73, 'commercial': 902, 'sport': 4129, 'wear': 4830, 'makers': 2715, 'memory': 2804, 'thirty': 4456, 'enjoyable': 1485, 'provoking': 3452, 'teen': 4388, 'warming': 4795, 'jones': 2418, 'temple': 4398, 'doom': 1326, 'howard': 2182, 'testament': 4417, 'talent': 4354, 'oscar': 3133, 'nomination': 3026, 'careers': 687, 'sadly': 3769, 'involves': 2348, 'travels': 4569, 'search': 3841, 'disjointed': 1287, 'non': 3027, 'daughter': 1121, 'research': 3644, 'legend': 2564, 'mad': 2696, 'jr': 2423, 'dead': 1132, 'eaten': 1412, 'blind': 506, 'removed': 3624, 'shop': 3945, 'murderous': 2942, 'charm': 767, 'whereas': 4865, 'lynch': 2691, 'creator': 1043, 'unintentional': 4658, 'wrap': 4963, 'double': 1331, 'narration': 2965, 'drug': 1373, 'reads': 3545, 'loosely': 2651, '100': 1, 'curse': 1086, 'stranger': 4213, 'woods': 4935, 'mass': 2753, 'criticism': 1063, 'dawn': 1127, 'food': 1778, 'remain': 3609, 'nicely': 3009, 'careful': 688, 'picks': 3268, 'satisfied': 3789, 'general': 1880, 'tiresome': 4502, 'nowhere': 3056, 'editing': 1421, 'capture': 676, 'empty': 1465, 'trashy': 4566, 'sleazy': 4023, 'breaking': 570, 'kim': 2475, 'harvey': 2042, 'russian': 3762, 'spoken': 4126, 'petty': 3249, 'fool': 1779, 'speak': 4094, 'miss': 2866, 'hat': 2045, 'chaplin': 756, 'somebody': 4062, 'noted': 3045, 'dignity': 1252, 'heat': 2067, 'paid': 3169, 'blowing': 515, 'prior': 3400, 'nobody': 3022, 'blatant': 502, 'rip': 3700, 'born': 544, 'yesterday': 4983, 'hired': 2117, 'dumb': 1385, 'blonde': 511, 'gangster': 1868, 'treatment': 4574, 'roots': 3738, 'backdrop': 379, 'afternoon': 144, 'chapter': 757, 'von': 4765, 'ones': 3108, 'favorite': 1671, 'final': 1722, 'minds': 2852, 'soft': 4051, 'saying': 3800, 'fond': 1776, 'bone': 533, 'vengeance': 4719, 'crimes': 1056, 'committed': 905, 'sword': 4340, 'rob': 3710, 'roy': 3745, 'knowledge': 2491, 'tad': 4347, 'breath': 573, 'soap': 4047, 'lets': 2580, 'according': 88, 'media': 2789, 'wives': 4918, 'club': 863, 'door': 1328, 'inevitable': 2282, 'lovable': 2668, 'terms': 4406, 'beauty': 430, 'outstanding': 3147, 'north': 3036, 'africa': 141, 'trees': 4577, 'desert': 1198, 'anymore': 258, 'fail': 1625, 'briefly': 580, 'souls': 4080, 'seventies': 3904, 'dated': 1119, 'punch': 3466, 'status': 4165, 'philosophical': 3253, 'cultural': 1078, 'shock': 3938, 'vehicle': 4718, 'legendary': 2565, 'considerable': 950, 'discussion': 1284, 'undoubtedly': 4648, 'overlooked': 3154, 'river': 3707, 'events': 1536, 'crisis': 1060, 'established': 1524, 'effectively': 1430, 'opening': 3114, 'credits': 1050, 'spent': 4108, 'frightening': 1839, 'author': 359, 'barely': 399, 'villains': 4745, 'reflect': 3584, 'latter': 2528, '20th': 38, 'century': 736, 'burt': 629, 'reynolds': 3684, 'lewis': 2586, 'glory': 1922, 'nights': 3016, 'trust': 4598, 'impressed': 2251, 'voight': 4764, 'usual': 4699, 'accomplished': 87, 'cox': 1026, 'sea': 3838, 'japanese': 2382, 'typically': 4624, 'bleak': 503, 'trademark': 4548, 'poetic': 3313, 'producing': 3417, 'eventually': 1537, 'gotten': 1947, 'green': 1971, 'efforts': 1433, 'impossible': 2249, 'dubbing': 1380, 'crying': 1074, 'mom': 2885, 'busy': 635, 'spend': 4105, 'spoiled': 4122, 'mummy': 2937, 'daddy': 1096, 'bland': 500, 'alexander': 180, 'entertain': 1497, 'dinner': 1254, 'tries': 4585, 'changing': 752, 'spending': 4106, 'communist': 907, 'newspaper': 3006, 'editor': 1423, 'insane': 2296, 'troubles': 4594, 'joan': 2404, 'subtlety': 4261, 'tear': 4379, 'fill': 1714, 'neo': 2998, 'themes': 4434, 'st': 4137, 'puts': 3481, '2007': 37, 'cg': 739, 'dinosaur': 1255, 'worse': 4951, 'aired': 165, 'channel': 753, 'skills': 4014, 'poster': 3353, 'surprise': 4312, 'bizarre': 492, 'nostalgic': 3039, 'elaborate': 1439, 'naive': 2958, 'germany': 1898, 'wwii': 4975, 'leo': 2571, 'nazi': 2977, 'pro': 3406, 'uncle': 4636, 'sleeping': 4025, 'increasingly': 2268, 'horrors': 2169, 'calm': 655, 'barbara': 397, 'meet': 2793, 'company': 910, 'deaths': 1142, 'germans': 1897, 'jobs': 2406, 'tremendous': 4579, 'shocking': 3940, 'guest': 1992, 'eddie': 1416, 'americans': 214, 'manner': 2729, 'shoots': 3944, 'photography': 3260, 'glass': 1917, 'prize': 3405, 'distinct': 1296, 'tone': 4517, 'legs': 2566, 'appeared': 276, 'state': 4160, 'deliberately': 1166, 'noir': 3023, 'forth': 1804, 'max': 2774, 'silly': 3976, 'clothing': 861, 'subtitles': 4259, 'slowly': 4032, 'moves': 2925, 'realise': 3548, 'vampire': 4711, 'heads': 2059, 'crafted': 1029, 'related': 3594, 'widow': 4883, 'hoping': 2160, 'rented': 3628, 'wasted': 4809, 'develop': 1222, 'hearing': 2063, 'pilot': 3276, 'bo': 521, 'luke': 2687, 'stays': 4169, 'source': 4086, 'sean': 3840, 'scott': 3824, 'boss': 546, 'sheriff': 3929, 'allow': 189, 'chases': 771, 'judy': 2426, 'neighborhood': 2993, 'brilliance': 582, 'meant': 2784, 'educational': 1425, 'wanting': 4790, 'latin': 2527, 'bitter': 491, 'kinda': 2477, 'drags': 1345, 'psycho': 3457, 'regret': 3591, 'fate': 1665, 'giant': 1905, 'community': 908, 'joined': 2413, 'helped': 2080, 'belongs': 460, 'figured': 1712, 'sequels': 3886, 'explanation': 1590, 'sky': 4017, 'glad': 1916, 'disappoint': 1272, 'contrary': 974, 'concern': 931, 'trade': 4547, 'versus': 4722, 'civilization': 827, 'machines': 2694, 'painted': 3174, 'alas': 172, 'noticed': 3049, 'dress': 1357, '30': 42, 'holmes': 2139, 'falls': 1640, 'countryside': 1015, 'intrigued': 2334, 'army': 295, 'gang': 1867, 'progresses': 3426, 'reminiscent': 3621, 'vice': 4727, 'interpretation': 2328, 'anna': 245, 'thick': 4447, 'seasons': 3844, '1st': 28, 'frustrated': 1842, 'explained': 1587, 'answers': 252, 'throw': 4479, 'happening': 2028, 'longer': 2645, 'loyal': 2679, 'agree': 155, 'abc': 63, 'greedy': 1969, 'stretch': 4221, 'lose': 2654, 'possibly': 3351, 'gain': 1863, 'movement': 2923, 'broadway': 592, 'genuinely': 1892, 'deeply': 1156, 'sex': 3907, 'revenge': 3675, 'morality': 2903, 'relevant': 3604, 'gay': 1876, 'marriage': 2743, 'social': 4049, 'pig': 3274, 'bigger': 479, 'stage': 4139, 'influenced': 2287, 'luckily': 2682, 'originally': 3131, 'conceived': 929, 'hair': 2005, 'studio': 4240, 'unsettling': 4679, 'glorious': 1921, 'imaginative': 2237, 'storytelling': 4209, 'move': 2921, 'computer': 927, 'techniques': 4384, 'profound': 3423, 'achieve': 92, 'structure': 4233, 'balance': 387, 'generated': 1882, 'uninteresting': 4660, 'unwatchable': 4682, 'context': 968, 'selling': 3873, 'reference': 3582, 'moral': 2902, 'depicting': 1184, 'religion': 3607, 'difference': 1246, 'large': 2517, 'learned': 2551, 'lessons': 2578, 'dropped': 1370, 'prison': 3401, 'examples': 1554, 'willing': 4889, 'mary': 2751, 'joy': 2422, 'humorous': 2193, 'represented': 3638, 'throat': 4476, 'revealed': 3671, 'creates': 1038, 'stronger': 4230, 'builds': 617, 'section': 3853, 'havent': 2053, 'lloyd': 2630, 'understated': 4646, 'outside': 3146, 'snow': 4045, 'device': 1227, 'exposure': 1599, 'center': 732, 'ability': 65, 'alternate': 200, 'gem': 1877, 'destiny': 1212, 'appreciation': 281, 'member': 2800, 'scale': 3802, 'rental': 3627, 'grey': 1973, 'fashion': 1659, 'stress': 4220, 'native': 2972, 'trap': 4563, '1930s': 11, 'tribute': 4581, 'lucy': 2684, 'heroes': 2089, 'carries': 699, 'blockbuster': 509, 'breaks': 571, 'league': 2549, 'oddly': 3081, 'flashbacks': 1747, 'seconds': 3848, 'personally': 3243, 'advice': 133, 'multiple': 2936, 'scared': 3805, 'stiff': 4187, 'thrillers': 4473, 'hitting': 2126, 'clichés': 846, 'scare': 3803, 'jump': 2429, 'chair': 742, 'grab': 1949, 'closest': 857, 'resist': 3648, '2004': 34, 'bothered': 549, 'zombies': 4998, 'neck': 2985, 'hands': 2020, 'etc': 1527, 'tooth': 4524, 'response': 3654, 'historical': 2119, 'west': 4852, 'journey': 2421, 'law': 2538, 'harder': 2035, 'disappointing': 1274, 'dreadful': 1353, 'mysteries': 2954, 'bbc': 417, 'christmas': 810, '1990s': 25, 'copy': 994, 'pictures': 3270, 'spare': 4093, 'kick': 2460, 'pieces': 3273, 'bill': 481, 'execution': 1566, 'thanks': 4423, 'ugly': 4625, 'italian': 2367, 'succeeds': 4264, 'imdb': 2240, 'definition': 1163, 'pack': 3165, 'amusing': 221, 'mrs': 2930, 'pitt': 3280, 'nick': 3012, 'chris': 806, 'handle': 2018, 'succeed': 4262, 'sitting': 4007, 'enjoying': 1487, 'ride': 3692, 'tongue': 4518, 'cheek': 779, 'minded': 2850, 'wall': 4781, 'substance': 4258, 'worthless': 4954, 'common': 906, 'extreme': 1609, 'prefer': 3368, 'stunts': 4246, 'artificial': 306, 'tight': 4492, 'burning': 627, 'drives': 1367, '11': 2, 'pacing': 3163, 'uneven': 4649, 'cars': 702, 'tedious': 4387, 'franchise': 1817, 'paint': 3173, 'dry': 1377, 'doctors': 1305, 'demand': 1174, 'edited': 1420, 'buy': 640, 'clue': 864, 'pile': 3275, 'painful': 3171, 'spike': 4111, 'rated': 3527, 'critics': 1064, 'supposedly': 4307, 'approach': 282, 'formula': 1802, 'eat': 1411, 'oliver': 3102, 'stone': 4197, 'raw': 3532, 'picking': 3267, 'broad': 590, 'stomach': 4196, 'accused': 91, 'integrity': 2311, 'lifetime': 2594, 'pass': 3201, 'basketball': 409, 'games': 1865, 'drivel': 1364, 'furthermore': 1854, 'shelley': 3928, 'winters': 4901, 'mothers': 2912, 'trial': 4580, 'dance': 1103, 'shirley': 3936, 'apparent': 269, 'mistake': 2871, 'menacing': 2807, 'calls': 654, 'blond': 510, 'wealthy': 4827, 'dennis': 1179, 'piano': 3264, 'thin': 4449, 'amounts': 220, 'sexuality': 3909, 'intimate': 2331, 'damn': 1100, 'candy': 668, 'display': 1291, 'occasional': 3074, 'grade': 1951, 'extras': 1608, 'trailers': 4555, 'samurai': 3779, 'prime': 3395, 'fighter': 1708, 'starting': 4158, 'painfully': 3172, 'unbelievable': 4634, 'theyd': 4443, 'adds': 119, 'irritating': 2359, 'melodrama': 2797, 'obnoxious': 3067, 'sympathy': 4343, 'david': 1124, 'sarah': 3785, 'tonight': 4519, 'concept': 930, 'fat': 1663, 'size': 4012, 'robert': 3713, 'heston': 2094, 'enters': 1496, 'campy': 664, 'gangsters': 1869, 'tony': 4521, 'scores': 3823, 'dickens': 1240, 'scrooge': 3837, 'businessman': 634, 'haunted': 2050, 'ghost': 1902, 'partner': 3198, 'spirits': 4115, 'evening': 1534, 'teach': 4374, 'valuable': 4708, 'involving': 2349, 'shines': 3932, 'carol': 693, 'required': 3641, 'holiday': 2134, 'flash': 1745, 'present': 3374, 'toward': 4539, 'ocean': 3079, 'edge': 1418, 'cliff': 847, 'closely': 855, 'translation': 4562, 'boyfriend': 558, 'rent': 3626, 'accident': 84, 'joke': 2414, 'waiting': 4772, 'facts': 1624, 'upset': 4687, 'unnecessary': 4672, 'gonna': 1936, 'fake': 1635, 'devils': 1229, 'ashamed': 312, 'fiction': 1702, 'onto': 3111, 'object': 3066, 'map': 2733, 'writers': 4969, 'fix': 1744, 'kurt': 2499, 'russell': 3761, 'elvis': 1451, 'dad': 1095, 'pat': 3208, 'delivers': 1172, 'parker': 3191, 'punishment': 3467, 'lord': 2652, 'suppose': 4305, 'thoughtful': 4463, 'grim': 1974, 'power': 3359, 'japan': 2381, 'ironically': 2356, 'system': 4345, 'ironic': 2355, 'irony': 2357, 'composed': 926, 'riveting': 3708, 'period': 3236, 'subtle': 4260, 'fame': 1642, 'humanity': 2189, 'attempts': 343, 'redemption': 3578, 'empathy': 1462, 'tortured': 4530, 'ruthless': 3764, 'buffs': 612, 'wing': 4896, 'kidnapped': 2466, 'portraying': 3343, 'rules': 3754, 'destruction': 1216, 'dean': 1139, 'drop': 1369, 'cell': 730, 'psychiatrist': 3455, 'bodies': 526, 'innocent': 2294, 'oh': 3096, 'filled': 1715, 'nervous': 2999, 'draw': 1349, 'fault': 1668, 'touches': 4535, 'torture': 4529, 'creep': 1051, 'darkness': 1117, 'terrifying': 4410, 'instantly': 2306, 'lights': 2597, 'blue': 518, 'theyve': 4446, 'producers': 3416, 'radio': 3504, 'disappear': 1270, 'comment': 898, 'understood': 4647, 'product': 3418, 'suggested': 4281, 'superficial': 4298, 'theaters': 4428, 'september': 3884, 'alike': 185, 'creating': 1039, 'props': 3439, 'success': 4265, '2003': 33, 'exceptional': 1558, 'chick': 786, 'davies': 1125, 'advance': 127, 'actresses': 106, 'patrick': 3213, 'challenging': 744, 'range': 3516, 'abilities': 64, 'regard': 3588, 'tracy': 4546, 'below': 462, 'worthy': 4956, 'murphy': 2944, 'funniest': 1851, 'concert': 935, 'lines': 2612, 'guilty': 1995, 'based': 404, 'forbidden': 1785, 'portrait': 3339, 'con': 928, 'patient': 3211, 'reasonably': 3559, 'built': 618, 'bullet': 620, 'okay': 3099, 'six': 4010, 'shoot': 3942, 'anti': 254, 'scripted': 3835, 'led': 2558, 'ratings': 3530, 'asian': 314, 'race': 3499, 'likable': 2598, 'eva': 1531, 'blame': 499, 'grows': 1985, 'motives': 2916, 'ludicrous': 2685, 'network': 3000, 'armed': 293, 'forces': 1788, 'routine': 3743, 'crew': 1053, 'pearl': 3220, 'reminds': 3620, 'unlike': 4670, 'wars': 4804, 'helicopter': 2076, '25': 40, 'planned': 3290, 'superior': 4300, 'hoped': 2156, 'falling': 1639, 'rape': 3521, 'songs': 4072, 'lyrics': 2692, 'singers': 3994, 'flaw': 1749, 'uk': 4626, 'documentaries': 1306, 'handful': 2017, 'distribution': 1298, 'fortunately': 1805, 'shakespeare': 3915, 'powerful': 3360, 'hank': 2024, 'performed': 3230, 'exposed': 1598, 'began': 441, 'chosen': 805, 'focus': 1766, 'revelation': 3674, 'exist': 1569, 'covered': 1023, 'dear': 1140, 'nail': 2957, 'concerned': 932, 'bus': 631, 'hunter': 2199, 'obsession': 3070, 'contract': 973, 'everyones': 1543, 'pain': 3170, 'cary': 706, 'steps': 4177, 'appearing': 277, 'grant': 1956, 'idiotic': 2219, 'alice': 182, 'cartoon': 704, 'depressing': 1188, 'territory': 4411, 'sum': 4289, 'spot': 4131, 'randomly': 3515, 'european': 1530, 'holy': 2140, 'acid': 95, 'finish': 1732, 'jewish': 2401, 'attempted': 341, 'wooden': 4934, 'seven': 3903, 'renting': 3629, 'push': 3477, 'flight': 1757, 'thousand': 4465, 'centered': 733, 'accents': 79, 'southern': 4088, 'racist': 3503, 'timeless': 4496, 'welcome': 4842, 'discovered': 1280, 'priceless': 3390, 'talents': 4356, 'speech': 4102, 'deserved': 1200, 'classical': 836, 'regarding': 3589, 'principal': 3398, 'perfection': 3225, 'dare': 1113, 'bucks': 606, 'warn': 4797, 'core': 995, 'progress': 3425, 'improve': 2254, 'walked': 4776, 'court': 1020, '60': 53, 'leader': 2546, 'reminded': 3619, 'guts': 1999, 'visually': 4758, 'humans': 2190, 'turning': 4608, 'design': 1202, 'sub': 4252, 'titles': 4506, 'homage': 2141, 'humour': 2194, 'visible': 4753, 'nowadays': 3055, 'indians': 2275, 'meaningful': 2781, 'haunting': 2051, 'describe': 1194, 'chose': 804, 'opened': 3113, 'france': 1816, 'previous': 3387, 'collection': 874, 'noise': 3024, 'voices': 4763, 'fair': 1630, 'muslim': 2949, 'loud': 2664, 'critic': 1061, 'expected': 1577, 'flat': 1748, 'smoke': 4039, 'window': 4894, 'explosions': 1597, 'dozens': 1339, 'psychological': 3458, 'dr': 1340, 'ford': 1789, 'charismatic': 763, 'mike': 2838, 'ruin': 3750, 'web': 4833, 'superbly': 4297, 'sympathetic': 4342, 'wondered': 4927, 'physically': 3263, 'cold': 872, 'motivation': 2914, 'solely': 4056, 'shallow': 3917, 'awesome': 371, 'vhs': 4725, 'buddies': 608, 'accepted': 82, 'buddy': 609, 'charles': 764, 'smith': 4038, 'mountain': 2917, 'leg': 2562, 'returned': 3666, 'weekend': 4838, 'absence': 70, 'suspicious': 4332, 'potentially': 3356, 'innovative': 2295, 'thrills': 4475, 'headed': 2058, 'tunes': 4603, 'implausible': 2245, 'admittedly': 123, 'tape': 4365, 'elizabeth': 1445, 'april': 284, 'four': 1812, 'strangers': 4214, 'correct': 1000, 'description': 1197, 'lovely': 2671, 'sun': 4292, 'forever': 1792, 'unhappy': 4656, 'lonely': 2643, 'promised': 3431, 'misery': 2865, 'pity': 3281, 'charming': 768, 'diamond': 1236, 'highest': 2102, 'jim': 2402, 'brian': 576, 'un': 4630, 'sequel': 3885, 'continues': 971, 'gabriel': 1859, 'adventure': 130, 'companion': 909, 'asked': 317, 'prince': 3396, 'attacks': 339, 'le': 2544, 'marketing': 2741, 'command': 897, 'beast': 422, 'murder': 2939, 'monster': 2892, 'interaction': 2322, 'interview': 2329, 'treasure': 4571, 'staying': 4168, 'hunters': 2200, 'putting': 3482, 'risk': 3704, 'chooses': 800, 'decision': 1151, 'purely': 3472, 'focused': 1767, 'replaced': 3634, 'catholic': 720, 'development': 1225, 'improved': 2255, 'expecting': 1578, 'underrated': 4642, 'golden': 1934, 'insult': 2309, 'lawyer': 2541, 'credibility': 1047, 'stunt': 4245, 'copies': 992, 'burn': 625, 'lacking': 2504, 'relies': 3606, 'beliefs': 452, 'dollar': 1314, 'forgotten': 1797, 'pants': 3182, 'sucks': 4271, 'incompetent': 2266, 'trailer': 4554, 'buildings': 616, 'pan': 3180, 'walks': 4780, 'technique': 4383, 'scarecrow': 3804, 'identify': 2216, 'meaningless': 2782, 'semi': 3874, 'artistic': 308, 'heck': 2071, 'conclusion': 936, 'lazy': 2543, 'porn': 3336, 'disgusting': 1286, 'cost': 1003, 'odds': 3082, 'singing': 3995, 'greek': 1970, 'chorus': 803, 'clown': 862, 'slaughter': 4021, 'promising': 3433, 'sucked': 4270, 'wanna': 4786, 'choose': 799, 'excited': 1561, 'managed': 2723, 'fish': 1738, 'reveals': 3673, 'tons': 4520, '13': 4, 'sign': 3970, 'sorts': 4078, 'mistakes': 2873, 'chilling': 794, 'nazis': 2978, 'types': 4622, 'nominated': 3025, 'oscars': 3134, 'guilt': 1994, 'thinks': 4454, 'suffer': 4275, 'hunt': 2198, 'suffered': 4276, 'stewart': 4184, 'cowboy': 1025, 'robbery': 3711, 'owner': 3159, 'mitchell': 2875, 'jay': 2386, 'miscast': 2862, 'obscure': 3068, 'curtis': 1087, 'hudson': 2184, 'paced': 3162, 'exciting': 1563, 'greatly': 1967, 'reveal': 3670, 'dancer': 1104, 'wasting': 4810, 'quit': 3494, 'cuba': 1075, 'revolution': 3680, 'property': 3438, 'relate': 3593, 'class': 833, 'hed': 2072, 'anderson': 227, 'embarrassing': 1454, 'dressing': 1359, 'yeah': 4977, 'robots': 3718, 'elvira': 1450, 'mistress': 2874, 'appeal': 271, 'delight': 1167, 'enormous': 1490, 'deceased': 1146, 'aunt': 355, 'encounters': 1467, 'nose': 3037, 'guarantee': 1987, 'gas': 1874, 'focuses': 1768, 'driven': 1365, 'decisions': 1152, 'cops': 993, 'bank': 394, 'stereotype': 4178, 'hurts': 2203, 'nurse': 3063, 'thomas': 4458, 'agent': 150, 'hello': 2078, 'angel': 231, 'rich': 3685, 'listening': 2620, 'kidding': 2465, 'clues': 865, 'ignored': 2225, 'willis': 4890, 'ms': 2931, 'ramones': 3512, 'vincent': 4746, 'realizing': 3555, 'kate': 2446, 'instant': 2305, 'midnight': 2834, '1980s': 21, 'jumping': 2431, 'saves': 3796, 'tune': 4602, 'pg': 3250, 'reviewers': 3678, 'photographed': 3258, 'convincing': 985, 'corpse': 999, 'square': 4136, 'detail': 1217, 'spanish': 4092, 'civil': 826, 'survived': 4322, 'incident': 2260, 'patients': 3212, 'motivations': 2915, 'incoherent': 2265, 'horrific': 2166, 'wouldve': 4959, 'pulp': 3465, 'unintentionally': 4659, 'suspenseful': 4331, 'peter': 3247, 'amy': 222, 'shall': 3916, 'aid': 160, 'dutch': 1389, 'costs': 1004, 'manhattan': 2726, 'fred': 1825, 'pair': 3176, 'anthony': 253, 'dorothy': 1330, 'johnson': 2411, 'maggie': 2702, 'rise': 3702, 'bottom': 551, 'ah': 158, 'caliber': 649, 'tired': 4501, 'alcohol': 176, 'columbo': 881, 'evidence': 1546, 'scripts': 3836, 'murdered': 2940, 'security': 3854, 'guard': 1988, 'minimal': 2855, 'provide': 3448, 'embarrassment': 1455, 'arguably': 289, 'afford': 138, 'admire': 121, 'liners': 2611, 'wife': 4884, 'jerry': 2396, 'stiller': 4189, 'favor': 1670, 'desperate': 1208, 'cave': 727, 'bedroom': 437, 'topless': 4527, 'interviews': 2330, 'depth': 1190, 'pushing': 3479, '80': 58, 'stinker': 4191, 'bugs': 613, 'clean': 838, 'hopper': 2161, 'kevin': 2457, 'hyde': 2206, 'messages': 2820, 'swedish': 4335, '2nd': 41, 'punk': 3468, 'slapstick': 4019, 'idiot': 2218, 'laughed': 2532, 'hole': 2132, 'proud': 3444, 'wide': 4880, 'executive': 1567, 'sensitive': 3879, 'san': 3780, 'francisco': 1819, 'considered': 951, 'godfather': 1927, 'vision': 4754, 'classics': 837, 'senseless': 3878, 'claimed': 829, 'massacre': 2754, 'synopsis': 4344, 'remote': 3622, 'cabin': 643, 'remaining': 3610, 'sick': 3963, 'dolls': 1316, 'bore': 540, 'fest': 1696, 'restaurant': 3658, 'affair': 135, 'opera': 3116, 'outfit': 3144, 'lying': 2690, 'horribly': 2164, 'sports': 4130, 'drunk': 1375, 'driver': 1366, 'jesse': 2397, 'joey': 2408, 'cartoons': 705, 'donna': 1323, 'michelle': 2830, 'twins': 4616, 'alex': 179, 'mel': 2796, 'starring': 4154, 'ellen': 1446, 'portrays': 3344, 'forgot': 1796, 'sisters': 4002, 'awkward': 374, 'levels': 2585, 'notes': 3046, 'enjoyment': 1488, 'moody': 2899, 'farm': 1656, 'lucky': 2683, 'accidentally': 85, 'safety': 3772, 'follows': 1775, 'passes': 3203, 'arnold': 296, 'funeral': 1849, 'skill': 4013, 'shell': 3927, 'familys': 1646, 'quick': 3490, 'distant': 1295, 'cases': 708, 'glenn': 1918, 'folk': 1770, 'horrid': 2165, 'co': 867, 'intentions': 2321, 'merits': 2817, 'loses': 2657, 'experiences': 1582, 'antics': 255, 'appearances': 275, 'kelly': 2452, 'visits': 4756, 'wilson': 4891, 'offer': 3087, 'kirk': 2482, 'fisher': 1739, 'earl': 1398, 'resources': 3651, 'sidekick': 3966, 'warmth': 4796, 'forgive': 1795, 'walker': 4778, 'thrilling': 4474, 'engaging': 1481, 'boredom': 542, 'devoid': 1230, 'pretending': 3382, 'growing': 1983, 'threatening': 4468, 'schools': 3814, 'angels': 234, 'baseball': 403, 'anyways': 262, 'via': 4726, 'christopher': 811, 'winner': 4897, 'comparing': 913, 'mentally': 2809, 'junior': 2435, '80s': 59, 'persons': 3244, 'exists': 1573, 'insight': 2298, 'discuss': 1283, 'billy': 482, 'detailed': 1218, 'hence': 2083, 'internet': 2327, 'buried': 624, 'heights': 2073, 'results': 3662, 'psychotic': 3459, 'cash': 709, 'laura': 2536, 'control': 977, 'former': 1800, 'louis': 2665, 'rage': 3505, 'maria': 2736, 'soldier': 4053, 'jail': 2376, 'stopped': 4202, 'loving': 2675, 'viewed': 4737, 'disappointed': 1273, 'claire': 831, 'pleased': 3305, 'lacked': 2503, 'extent': 1605, 'chicago': 785, 'walter': 4784, 'da': 1094, 'bears': 421, '2005': 35, 'struggling': 4236, 'urban': 4688, '1970s': 17, 'sitcom': 4004, 'vaguely': 4706, 'producer': 3415, 'ralph': 3510, 'florida': 1761, 'realizes': 3554, 'mainly': 2708, 'relief': 3605, 'desperately': 1209, 'medical': 2790, 'poverty': 3357, 'dire': 1257, 'solution': 4059, 'water': 4816, 'cruel': 1070, 'irish': 2353, 'ireland': 2352, 'desperation': 1210, 'walls': 4783, 'closing': 859, 'tree': 4576, 'united': 4664, 'earned': 1401, 'victor': 4731, 'fallen': 1638, 'impress': 2250, 'foster': 1809, 'westerns': 4854, 'shadows': 3913, 'recording': 3575, 'elsewhere': 1449, 'ages': 152, 'aliens': 184, 'teenager': 4390, 'charlie': 765, 'voiced': 4762, 'anne': 246, 'marie': 2737, 'williams': 4888, 'satisfy': 3790, 'corny': 997, 'needless': 2989, 'offered': 3088, 'rushed': 3760, 'suggest': 4280, 'gordon': 1940, 'leslie': 2574, 'miller': 2846, 'richard': 3686, 'warren': 4801, 'landing': 2512, 'descent': 1193, 'rocket': 3721, 'unseen': 4678, 'doomed': 1327, 'discover': 1279, 'veteran': 4724, 'ships': 3935, 'failing': 1627, 'causing': 726, 'nations': 2971, 'jungle': 2434, 'test': 4416, 'stanley': 4148, 'baker': 385, 'assigned': 325, 'cameos': 658, 'latest': 2526, 'seek': 3858, 'unfortunate': 4653, 'twenty': 4612, 'slasher': 4020, 'cats': 721, 'defined': 1160, 'myers': 2952, 'knife': 2487, 'fifteen': 1706, 'treated': 4573, 'escapes': 1519, 'annie': 247, 'der': 1191, 'sexually': 3910, 'watches': 4814, 'notch': 3043, 'jamie': 2379, 'highlights': 2104, 'carpenter': 694, 'effective': 1429, 'strikes': 4225, 'mask': 2752, 'friday': 1834, '13th': 5, 'broken': 594, 'illegal': 2229, 'eyed': 1612, 'jack': 2373, 'everywhere': 1545, 'sleep': 4024, 'flicks': 1755, 'fairy': 1632, 'murders': 2943, 'occurred': 3077, 'besides': 468, 'hardcore': 2034, 'lucas': 2680, 'lisa': 2616, 'eric': 1514, 'directly': 1263, 'ron': 3734, 'proved': 3446, 'vast': 4716, 'aids': 161, 'virus': 4752, 'weapon': 4828, 'worker': 4942, 'workers': 4943, 'drunken': 1376, 'factory': 1623, 'peoples': 3222, 'lol': 2640, 'bette': 471, 'davis': 1126, 'cagney': 646, 'crash': 1033, 'dramas': 1347, 'rocks': 3722, 'gene': 1879, 'simmons': 3981, 'record': 3573, 'monsters': 2893, 'possessed': 3347, 'mine': 2853, 'awards': 367, 'rex': 3683, 'brooks': 596, 'cinematographer': 819, 'hall': 2009, 'blake': 498, 'sold': 4052, 'capital': 673, 'criminals': 1058, 'backgrounds': 381, 'dimensional': 1253, 'row': 3744, 'feelings': 1686, 'mix': 2876, 'clichéd': 845, 'authentic': 358, 'partly': 3197, 'depiction': 1185, 'cooper': 990, 'inspiration': 2300, 'survivor': 4324, 'ass': 323, 'remarks': 3615, 'touched': 4534, 'tiny': 4500, 'met': 2822, 'scheme': 3812, 'spoilers': 4124, 'opens': 3115, 'comedic': 888, 'authority': 360, 'regular': 3592, 'assault': 324, 'twin': 4615, 'weight': 4840, 'advantage': 129, 'variety': 4714, 'ps': 3453, 'atrocious': 335, 'branagh': 564, 'excitement': 1562, 'dubbed': 1379, 'countries': 1013, 'sings': 3997, 'albert': 174, 'sing': 3992, 'accompanied': 86, 'cd': 728, '3rd': 47, 'corporate': 998, 'till': 4493, 'dick': 1239, 'yellow': 4981, 'pacino': 3164, 'hoffman': 2128, 'catherine': 719, 'closer': 856, 'hopeless': 2158, 'overacting': 3149, 'perform': 3227, 'mickey': 2831, 'edgar': 1417, 'walken': 4777, 'originality': 3130, 'cutting': 1092, 'repetitive': 3633, 'loser': 2655, 'lovers': 2673, 'technically': 4382, 'hide': 2097, 'cameras': 660, 'agreed': 156, 'ape': 266, 'asking': 318, 'existent': 1572, 'speaking': 4095, 'mildly': 2840, 'crack': 1027, 'youd': 4987, 'bin': 483, 'tea': 4373, 'photographer': 3259, 'divorce': 1301, 'freedom': 1828, 'plastic': 3294, 'pie': 3271, 'chicks': 787, 'rid': 3690, 'roberts': 3714, 'troubled': 4593, 'storm': 4206, 'send': 3875, 'argue': 290, 'questionable': 3488, 'standing': 4146, 'spots': 4132, 'arrives': 302, 'estate': 1525, 'drink': 1361, 'decides': 1150, 'cheating': 776, 'letting': 2583, 'graphics': 1959, 'ad': 110, 'inventive': 2341, 'combat': 882, 'addition': 118, 'definite': 1161, 'free': 1827, 'learning': 2552, 'ourselves': 3140, 'courage': 1018, 'fascinated': 1657, 'signs': 3973, 'afraid': 140, 'classes': 834, 'dances': 1106, 'craven': 1034, 'intent': 2318, 'cusack': 1088, 'currently': 1085, 'equipment': 1511, 'floor': 1759, 'foreign': 1790, 'analysis': 224, 'destroying': 1215, 'corrupt': 1001, 'shine': 3931, 'captivating': 675, 'promise': 3430, '2002': 32, 'program': 3424, 'showed': 3956, 'colonel': 876, 'riding': 3695, 'consists': 955, 'parties': 3196, 'swimming': 4338, 'jake': 2377, 'clark': 832, '30s': 44, 'mgm': 2828, 'facial': 1619, 'expressions': 1603, 'widely': 4881, 'throws': 4482, 'fits': 1741, 'montana': 2895, 'meeting': 2794, 'abraham': 69, 'adequate': 120, 'suffers': 4278, 'favourite': 1673, 'dolph': 1317, 'basis': 408, 'dreary': 1356, 'centers': 734, 'explore': 1594, 'childish': 791, 'witch': 4909, 'performing': 3233, 'experiments': 1584, 'heroine': 2091, 'cannibal': 669, 'faults': 1669, 'magic': 2703, 'angles': 237, 'lower': 2677, 'alan': 171, 'hbo': 2055, 'assume': 328, 'friendship': 1838, 'shining': 3933, 'personality': 3242, 'dub': 1378, 'comparison': 914, 'stupidity': 4248, 'witness': 4914, 'terribly': 4408, 'honor': 2150, 'thrill': 4471, 'eastwood': 1409, 'host': 2173, 'offensive': 3086, 'handled': 2019, 'featured': 1679, 'joseph': 2419, 'awe': 370, 'bumbling': 622, 'listed': 2618, '50s': 52, 'tap': 4364, 'singer': 3993, 'coherent': 871, 'plausible': 3295, 'dreams': 1355, 'celluloid': 731, 'chuck': 812, 'carry': 700, 'martial': 2747, 'combine': 884, 'dangerous': 1110, 'reporter': 3636, 'vacation': 4704, 'plague': 3285, 'official': 3094, 'reed': 3580, 'widmark': 4882, 'unknown': 4668, 'convinced': 984, 'claims': 830, 'raymond': 3534, 'tommy': 4516, 'brings': 587, 'chase': 769, 'domestic': 1318, 'leaving': 2557, 'directs': 1267, 'remarkably': 3614, 'studios': 4241, 'ghosts': 1903, 'existence': 1571, 'stellar': 4174, 'shouldnt': 3952, 'winter': 4900, 'flawless': 1751, 'selfish': 3870, 'delivery': 1173, 'regardless': 3590, 'spy': 4135, 'recall': 3562, 'passing': 3204, 'repeated': 3631, 'popcorn': 3331, 'online': 3109, 'andrew': 228, 'describes': 1196, 'relatives': 3601, 'ruth': 3763, 'doll': 1313, 'pops': 3332, 'andrews': 229, 'shoes': 3941, 'bridge': 578, 'travel': 4567, 'nearby': 2980, 'elephant': 1444, 'enter': 1494, 'surrounded': 4318, 'refuses': 3587, 'mentions': 2813, 'wicked': 4879, 'witches': 4910, 'orders': 3127, 'causes': 725, 'catches': 715, 'arm': 292, 'drops': 1372, 'moved': 2922, 'believes': 456, 'secretly': 3851, 'waves': 4819, 'ensemble': 1492, '1973': 19, 'term': 4405, 'virgin': 4749, 'slightest': 4028, 'searching': 3842, 'fired': 1735, 'kicked': 2461, 'winds': 4895, 'molly': 2884, 'months': 2897, 'felix': 1689, 'worried': 4949, 'channels': 754, 'ears': 1402, 'dialogs': 1233, 'blows': 517, 'brains': 563, 'marvelous': 2750, 'exotic': 1574, 'convoluted': 987, 'intriguing': 2335, 'godzilla': 1929, 'cared': 685, 'overly': 3155, 'colour': 880, 'unpredictable': 4675, 'conservative': 948, 'soccer': 4048, 'wedding': 4836, 'sides': 3967, 'issue': 2364, 'avoided': 364, 'disbelief': 1277, 'contest': 967, 'spoke': 4125, 'ship': 3934, 'fellow': 1691, 'titanic': 4503, 'cameron': 661, 'elegant': 1441, 'rose': 3739, 'stealing': 4171, 'expert': 1585, 'reasonable': 3558, 'contrived': 976, 'locked': 2637, 'jet': 2400, 'li': 2587, 'monk': 2889, 'cuts': 1091, 'arts': 310, 'forgettable': 1794, 'jaws': 2385, 'feed': 1683, 'explaining': 1588, 'leonard': 2572, 'jeremy': 2394, 'terrific': 4409, 'stood': 4199, 'porno': 3337, 'raped': 3522, 'ridiculously': 3694, 'expensive': 1579, 'disc': 1278, 'added': 116, 'ruined': 3751, 'disneys': 1290, 'moronic': 2907, 'market': 2740, 'failure': 1629, 'strike': 4224, 'colorful': 878, 'ordinary': 3128, 'modesty': 2883, 'showcase': 3954, 'dawson': 1128, 'trek': 4578, 'childrens': 793, 'kingdom': 2480, 'produce': 3413, 'theory': 4437, 'load': 2631, 'destroyed': 1214, 'settings': 3901, 'hitler': 2124, 'protect': 3443, 'gundam': 1997, 'conflicts': 940, 'anime': 243, 'environment': 1505, 'chasing': 772, 'fights': 1710, 'contain': 962, 'concerning': 933, 'emphasis': 1463, 'prisoner': 3402, 'blacks': 494, 'seagal': 3839, 'opposed': 3122, 'condition': 937, 'universal': 4665, 'rap': 3520, 'cardboard': 682, 'climactic': 848, 'tie': 4488, 'nancy': 2964, 'suitable': 4285, 'altogether': 202, 'talked': 4359, 'succeeded': 4263, 'don': 1320, 'tall': 4362, 'prom': 3429, 'population': 3335, 'borrowed': 545, 'matrix': 2767, 'todays': 4509, 'hollywoods': 2138, 'bruce': 602, 'notice': 3048, 'mouth': 2920, 'horses': 2171, 'diana': 1237, 'errors': 1516, 'sunshine': 4294, 'hysterical': 2208, 'shocked': 3939, 'hiding': 2099, 'brutal': 603, 'steel': 4173, 'kitchen': 2485, 'garden': 1872, 'valley': 4707, 'toys': 4543, 'delightful': 1168, 'sharp': 3922, 'karen': 2444, 'spooky': 4128, 'nicholson': 3011, 'isolated': 2363, 'overlook': 3153, 'mountains': 2918, 'nelson': 2997, 'wendy': 4846, 'psychic': 3456, 'kubrick': 2496, 'diane': 1238, 'convince': 983, 'rotten': 3740, 'lit': 2621, 'toilet': 4512, 'fancy': 1649, 'page': 3167, 'todd': 4510, 'demands': 1175, 'choices': 798, 'beating': 425, 'ward': 4793, 'hill': 2108, 'stayed': 4167, 'kicks': 2463, 'proceeds': 3411, 'endings': 1472, 'surfing': 4311, 'directions': 1262, 'wes': 4851, 'susan': 4326, 'useful': 4694, 'technology': 4385, 'politics': 3326, 'manage': 2722, 'methods': 2825, 'invasion': 2340, 'conspiracy': 956, 'successfully': 4267, 'mtv': 2933, 'belong': 459, 'reach': 3536, 'trilogy': 4586, 'fooled': 1780, 'yelling': 4980, 'domino': 1319, 'gold': 1932, 'tied': 4489, 'bomb': 531, 'mafia': 2700, 'unconvincing': 4638, 'legal': 2563, 'exact': 1550, 'serving': 3897, 'cable': 644, 'consistently': 954, 'derek': 1192, 'designs': 1204, 'rescue': 3643, 'craft': 1028, 'suspend': 4329, 'hood': 2151, 'viewings': 4741, 'overdone': 3152, 'jon': 2416, 'beloved': 461, 'bush': 632, 'pool': 3327, '1940s': 13, 'decade': 1144, 'attitudes': 347, 'laws': 2540, 'racism': 3502, 'brando': 566, 'stolen': 4195, 'marry': 2745, 'comedian': 887, 'coach': 868, 'distracting': 1297, 'failed': 1626, 'miserably': 2864, 'dedicated': 1153, 'split': 4120, 'station': 4164, 'em': 1452, 'jeff': 2390, 'downhill': 1336, 'ranks': 3519, 'model': 2880, 'allowed': 190, 'offers': 3090, 'holly': 2136, 'beer': 439, 'revolves': 3682, 'existed': 1570, 'recognized': 3570, 'purchase': 3469, 'rival': 3706, 'settle': 3902, 'lane': 2515, 'depicts': 1186, 'wishing': 4907, 'lips': 2615, 'wounded': 4961, 'cake': 648, 'garbage': 1870, 'mindless': 2851, 'explosion': 1596, 'sir': 4000, '35': 45, 'boat': 523, 'generic': 1885, 'silence': 3974, 'poignant': 3315, 'switch': 4339, 'buck': 605, 'vote': 4766, 'brazil': 568, 'pride': 3391, 'carl': 692, 'involvement': 2347, 'user': 4696, 'spin': 4112, 'dentist': 1180, 'reaches': 3538, 'rooms': 3736, 'fabulous': 1615, 'productions': 3420, 'choreographed': 801, 'believing': 457, 'hanks': 2025, 'depression': 1189, 'sullivan': 4288, 'witnesses': 4916, 'craig': 1030, 'deadly': 1133, 'slave': 4022, 'gritty': 1977, 'unrealistic': 4677, 'attempting': 342, 'tomatoes': 4515, 'urge': 4689, 'hamlet': 2013, 'suspects': 4328, 'robin': 3715, 'dragon': 1344, 'kung': 2498, 'fu': 1844, 'wishes': 4906, 'par': 3184, 'checking': 778, 'designed': 1203, 'brenda': 575, 'arrived': 301, 'caused': 724, 'groups': 1981, 'roger': 3724, 'models': 2881, 'contact': 961, 'escaped': 1518, 'charisma': 762, 'wished': 4905, 'bat': 410, 'swear': 4334, 'ed': 1415, 'relation': 3595, 'solve': 4060, '2001': 31, 'landscapes': 2514, 'richardson': 3688, 'evident': 1547, 'torn': 4528, 'alright': 198, 'sadistic': 3768, 'praise': 3364, 'mild': 2839, 'pleasant': 3302, 'refreshing': 3586, 'handsome': 2021, 'morgan': 2905, 'mail': 2706, 'bela': 450, 'lugosi': 2686, 'steal': 4170, '40s': 49, 'abysmal': 76, 'bath': 411, 'explicit': 1591, 'trained': 4557, 'fly': 1763, 'utterly': 4702, 'crush': 1072, 'enemies': 1476, 'stated': 4161, 'indie': 2276, 'falk': 1636, 'hook': 2152, 'slick': 4026, 'brady': 561, 'stinks': 4192, 'robinson': 3716, 'pleasantly': 3303, 'unaware': 4632, 'ambitious': 211, 'macy': 2695, 'moore': 2901, 'loaded': 2632, 'mann': 2728, 'extended': 1604, 'rendition': 3625, 'pushed': 3478, 'requires': 3642, 'darker': 1116, 'photo': 3257, 'frankenstein': 1822, 'sticks': 4186, 'stops': 4203, 'wizard': 4919, 'oz': 3160, 'hospital': 2172, 'floating': 1758, 'iron': 2354, 'mario': 2738, 'families': 1644, 'field': 1704, 'ginger': 1908, 'hanging': 2023, 'fx': 1858, 'suck': 4269, 'bottle': 550, 'commercials': 903, 'stereotypical': 4180, 'ha': 2002, 'improvement': 2256, '16': 8, 'americas': 215, 'titled': 4505, 'bob': 524, 'segments': 3868, 'videos': 4734, 'proof': 3434, '1999': 27, 'hamilton': 2012, 'julia': 2427, 'halfway': 2008, 'worn': 4948, 'blunt': 520, 'pet': 3246, 'suited': 4286, 'popularity': 3334, 'hart': 2041, 'brad': 560, 'magazine': 2701, 'loads': 2633, 'celebrity': 729, 'ruins': 3752, 'reduced': 3579, 'narrator': 2967, 'professor': 3422, 'finished': 1733, 'characterization': 759, 'understandable': 4644, 'jazz': 2387, 'twilight': 4614, 'zone': 4999, 'remotely': 3623, 'stylish': 4251, 'carrie': 697, 'bonus': 534, 'cia': 814, 'seeks': 3860, 'dynamic': 1394, 'choreography': 802, 'fatal': 1664, 'desire': 1205, 'de': 1131, 'dancers': 1105, 'parallel': 3185, 'gadget': 1860, 'entry': 1504, 'flawed': 1750, 'adam': 111, 'sandler': 3781, 'hunting': 2201, 'intensity': 2317, 'sandra': 3782, 'birthday': 487, 'transformation': 4560, 'los': 2653, 'angeles': 233, 'attend': 344, 'attraction': 350, 'vulnerable': 4768, 'delivering': 1171, 'countless': 1012, 'unpleasant': 4674, 'brutally': 604, 'savage': 3793, 'placed': 3283, 'inducing': 2279, 'pamela': 3179, 'chief': 788, 'sally': 3776, 'bell': 458, 'fields': 1705, 'miike': 2837, 'unit': 4663, 'intrigue': 2333, 'struck': 4232, 'breasts': 572, 'unbelievably': 4635, 'border': 539, 'comical': 894, 'intentionally': 2320, '1972': 18, 'caine': 647, 'sidney': 3968, 'primary': 3394, 'lumet': 2688, 'embarrassed': 1453, 'block': 508, 'covers': 1024, 'figures': 1713, 'staff': 4138, '70': 55, 'represent': 3637, 'hippie': 2115, 'root': 3737, 'president': 3378, 'generations': 1884, 'superman': 4301, 'comics': 895, 'global': 1920, 'creators': 1044, 'amanda': 205, 'peters': 3248, 'cole': 873, 'boom': 537, 'beats': 426, 'mechanical': 2788, 'bull': 619, 'skip': 4016, 'justin': 2440, 'drinking': 1362, 'witnessed': 4915, 'audio': 354, 'brown': 601, 'stick': 4185, 'daughters': 1122, 'hates': 2048, 'reunion': 3669, 'friendly': 1836, 'wears': 4832, 'doors': 1329, 'couples': 1017, 'lifestyle': 2593, 'bear': 420, 'destroy': 1213, 'practice': 3363, 'lengthy': 2570, 'blues': 519, 'liking': 2604, 'mixture': 2878, 'wannabe': 4787, 'spiritual': 4116, 'terrorist': 4413, 'rachel': 3500, 'adams': 112, 'portion': 3338, 'hop': 2154, 'officers': 3093, 'butt': 638, 'commented': 900, 'stretched': 4222, 'akshay': 169, 'clips': 852, 'eve': 1532, 'expression': 1602, 'dislike': 1288, 'captain': 674, 'defense': 1159, 'defend': 1158, 'seat': 3845, 'carrey': 696, 'presentation': 3375, 'screenwriter': 3833, 'poetry': 3314, 'literature': 2623, 'paper': 3183, 'education': 1424, 'teaching': 4377, 'enthusiasm': 1501, 'smiling': 4037, 'miracle': 2860, 'funnier': 1850, 'deserve': 1199, 'directorial': 1265, 'rat': 3525, 'rats': 3531, 'hype': 2207, 'possibilities': 3348, 'dude': 1381, 'behave': 445, 'unbearable': 4633, 'hammer': 2014, 'construction': 960, 'secondly': 3847, 'justify': 2439, 'idiots': 2220, 'boll': 529, 'paltrow': 3178, 'louise': 2666, 'matched': 2763, 'triumph': 4590, 'depressed': 1187, 'cards': 683, 'witty': 4917, 'richards': 3687, 'influence': 2286, 'abandoned': 62, 'distance': 1294, 'despair': 1207, 'trio': 4587, 'lake': 2509, 'vivid': 4760, '1996': 26, 'glimpse': 1919, 'method': 2824, 'pal': 3177, '3000': 43, 'express': 1600, 'judging': 2425, 'dust': 1388, 'douglas': 1334, 'polanski': 3321, 'eg': 1434, 'arrogant': 303, 'advanced': 128, 'exercise': 1568, 'mayor': 2777, 'connected': 945, 'dialogues': 1235, 'powell': 3358, 'ingredients': 2289, 'resolution': 3649, 'lowest': 2678, 'department': 1182, 'nevertheless': 3002, 'dinosaurs': 1256, 'training': 4558, 'enterprise': 1495, 'dvds': 1392, 'achievement': 94, 'access': 83, 'constructed': 959, 'scooby': 3820, 'doo': 1325, 'gag': 1861, 'stole': 4194, 'babe': 375, 'wrestling': 4966, 'nuclear': 3057, 'soviet': 4089, 'daring': 1114, 'truck': 4595, 'campbell': 663, 'curiosity': 1082, 'anger': 235, 'table': 4346, 'flynn': 1765, 'ballet': 389, 'prove': 3445, 'jaw': 2384, 'merit': 2816, 'website': 4834, 'terrorists': 4414, 'opinions': 3119, 'parent': 3187, 'banned': 395, 'houses': 2180, 'horse': 2170, 'swim': 4337, 'stilted': 4190, 'outrageous': 3145, 'thankfully': 4422, 'pulls': 3464, 'staring': 4152, 'secrets': 3852, 'knock': 2488, 'edward': 1426, 'citizen': 824, 'kane': 2442, 'freak': 1824, 'plans': 3292, 'ideal': 2214, 'bringing': 586, 'proceedings': 3410, 'relative': 3599, 'lasted': 2522, 'involve': 2345, 'displays': 1293, 'astaire': 330, 'rogers': 3725, 'solo': 4058, 'betty': 474, 'minimum': 2856, 'empire': 1464, 'paranoia': 3186, 'novels': 3053, 'sellers': 3872, 'terry': 4415, 'mildred': 2841, 'berlin': 467, 'navy': 2976, 'rolled': 3729, 'sinatra': 3989, 'greed': 1968, 'sentimental': 3882, 'welles': 4844, 'eager': 1396, 'airport': 167, 'philip': 3252, 'museum': 2945, 'oil': 3097, 'facing': 1620, 'discovery': 1282, 'lemmon': 2567, 'hills': 2109, 'vegas': 4717, 'heavily': 2069, 'supernatural': 4302, 'showdown': 3955, 'misses': 2868, 'consequences': 947, 'peace': 3219, 'korean': 2495, 'gifted': 1907, 'mistaken': 2872, 'lincoln': 2608, 'spring': 4134, 'defeat': 1157, 'journalist': 2420, 'cinderella': 815, 'dating': 1120, 'propaganda': 3435, 'revolutionary': 3681, 'firstly': 1737, 'hal': 2006, 'unfolds': 4651, 'warrior': 4802, 'sutherland': 4333, 'offended': 3085, 'jonathan': 2417, 'cried': 1054, 'lena': 2568, 'bobby': 525, 'pitch': 3279, 'drew': 1360, 'taxi': 4371, 'wacky': 4769, 'inappropriate': 2259, 'futuristic': 1857, 'priest': 3392, 'areas': 287, 'vietnam': 4735, 'pokemon': 3320, 'cgi': 740, 'forest': 1791, 'virginia': 4750, 'lively': 2627, 'goofy': 1939, 'library': 2589, 'awfully': 373, 'lou': 2663, 'fortune': 1806, 'button': 639, 'cheese': 780, 'shelf': 3926, 'georges': 1894, 'waitress': 4773, 'scottish': 3825, 'victoria': 4732, 'counter': 1011, 'emily': 1456, 'forms': 1801, 'beneath': 464, 'buff': 611, 'feminist': 1695, 'similarities': 3979, 'franco': 1820, 'preview': 3386, 'screening': 3830, 'uwe': 4703, 'kudos': 2497, 'wrapped': 4964, 'ignorant': 2223, 'ruby': 3749, 'sincere': 3991, 'specific': 4099, 'plight': 3308, 'virtually': 4751, 'commit': 904, 'cities': 823, 'lie': 2590, 'horrendous': 2162, 'rocky': 3723, 'turner': 4607, 'meat': 2787, 'relations': 3596, 'illogical': 2231, 'hire': 2116, 'insulting': 2310, 'guessing': 1991, 'traveling': 4568, 'freeman': 1829, 'staged': 4140, 'mill': 2845, 'brosnan': 597, 'masterful': 2758, 'creativity': 1042, 'desired': 1206, 'prostitute': 3440, 'pseudo': 3454, 'secretary': 3850, 'occur': 3076, 'blair': 497, 'chaos': 755, 'inept': 2281, 'del': 1165, 'intention': 2319, 'someones': 4065, 'nuts': 3064, 'masses': 2755, 'subsequent': 4257, 'belief': 451, 'wells': 4845, 'ought': 3138, 'primarily': 3393, 'rural': 3758, 'exaggerated': 1552, 'react': 3540, 'canadian': 667, 'guessed': 1990, 'neighbor': 2992, 'limits': 2607, 'promises': 3432, 'warner': 4799, 'spite': 4117, 'reached': 3537, 'deaf': 1134, 'bold': 528, 'operation': 3117, 'larry': 2520, 'roman': 3731, 'hint': 2112, 'shut': 3961, 'ripped': 3701, 'bacall': 377, 'deliver': 1169, 'streisand': 4218, 'burns': 628, 'served': 3894, 'ian': 2209, 'pink': 3277, 'denzel': 1181, 'washington': 4806, 'resembles': 3646, 'recognition': 3568, 'forty': 1807, 'crocodile': 1065, 'frequent': 1831, 'introduce': 2336, 'overwhelming': 3157, 'omen': 3104, 'sole': 4055, 'thumbs': 4485, 'wood': 4933, 'tag': 4348, 'ancient': 225, 'responsibility': 3655, 'battles': 415, 'thugs': 4484, 'stan': 4142, 'laurel': 2537, 'hardy': 2037, 'cousin': 1021, 'scenario': 3808, 'illness': 2230, 'apes': 267, 'purchased': 3470, 'musicals': 2948, 'raising': 3509, 'huh': 2187, 'mundane': 2938, 'receives': 3565, 'satan': 3787, 'newly': 3004, 'burton': 630, 'instance': 2304, 'march': 2734, 'heroic': 2090, 'equivalent': 1512, 'notorious': 3051, 'doubts': 1333, 'fbi': 1675, 'blah': 496, 'simplistic': 3985, 'weakest': 4825, 'bride': 577, 'persona': 3239, 'homeless': 2143, 'masters': 2761, 'shark': 3921, 'unoriginal': 4673, 'brooklyn': 595, 'nicholas': 3010, 'danes': 1108, 'arrested': 298, 'wreck': 4965, 'teachers': 4376, 'subplots': 4256, 'tends': 4402, 'amongst': 218, 'laughably': 2531, 'garbo': 1871, 'imitation': 2241, 'linda': 2609, 'carradine': 695, 'pulling': 3463, 'advertising': 132, 'fonda': 1777, 'aging': 153, 'et': 1526, 'tarzan': 4367, 'rambo': 3511, 'weapons': 4829, 'capturing': 679, 'blend': 504, 'restored': 3659, 'eighties': 1437, 'photos': 3261, 'extraordinary': 1607, 'resemblance': 3645, 'matthau': 2771, 'suggests': 4282, 'poem': 3312, 'scope': 3821, 'birds': 485, 'useless': 4695, 'paulie': 3215, 'lab': 2501, 'che': 773, 'focusing': 1769, 'womens': 4924, 'notably': 3042, 'fay': 1674, 'angela': 232, 'resident': 3647, 'spider': 4109, 'adapted': 114, 'cube': 1076, 'matches': 2764, 'pregnant': 3369, 'noble': 3021, 'hung': 2197, 'compelled': 915, 'receive': 3563, 'planning': 3291, 'treats': 4575, 'females': 1694, 'styles': 4250, 'inspector': 2299, 'philosophy': 3254, 'kenneth': 2455, 'losers': 2656, 'resulting': 3661, 'kay': 2447, 'resort': 3650, 'chess': 783, 'batman': 413, 'mate': 2765, 'niro': 3019, 'seed': 3856, 'innocence': 2293, 'eccentric': 1414, 'agents': 151, '17': 9, 'bible': 477, 'complexity': 924, 'orson': 3132, 'ted': 4386, 'silver': 3977, 'digital': 1251, 'affect': 136, 'whale': 4857, 'species': 4098, 'bakshi': 386, 'invisible': 2344, 'kings': 2481, 'appalling': 268, 'wealth': 4826, '1990': 24, 'confidence': 938, 'bud': 607, 'orange': 3125, 'emma': 1457, 'ritter': 3705, 'scientific': 3817, 'alfred': 181, 'closed': 854, 'edie': 1419, 'jackie': 2374, 'screens': 3832, 'china': 795, 'iran': 2350, 'severe': 3906, 'respected': 3653, 'financial': 1725, 'rubber': 3747, 'giallo': 1904, 'fulci': 1845, 'irrelevant': 2358, 'surviving': 4323, 'ridden': 3691, 'doc': 1303, 'melting': 2799, 'union': 4661, 'royal': 3746, 'letter': 2581, 'universe': 4666, 'generous': 1886, 'guide': 1993, 'maintain': 2710, 'abusive': 75, 'tame': 4363, 'jessica': 2398, 'advise': 134, 'monkeys': 2891, 'attracted': 349, 'performer': 3231, 'ninja': 3018, 'wisdom': 4902, 'reel': 3581, 'neil': 2995, 'wound': 4960, 'amitabh': 216, 'elderly': 1440, 'purposes': 3475, 'frustration': 1843, 'gotta': 1946, 'creation': 1040, 'sink': 3999, 'hideous': 2098, 'karloff': 2445, 'wallace': 4782, 'shape': 3919, 'ashley': 313, 'pays': 3218, 'mall': 2720, 'simpson': 3987, 'dracula': 1341, 'sue': 4274, 'edition': 1422, 'iraq': 2351, 'stones': 4198, 'homosexual': 2145, 'shy': 3962, 'surrounding': 4319, 'pointed': 3317, 'ultra': 4629, 'duke': 1383, 'shorts': 3948, 'instinct': 2308, 'recorded': 3574, 'melodramatic': 2798, 'sid': 3964, 'pretend': 3381, 'simplicity': 3984, 'manipulative': 2727, 'lust': 2689, 'grinch': 1975, 'masterpieces': 2760, 'broadcast': 591, 'horrifying': 2167, 'hugh': 2186, 'vicious': 4728, 'nyc': 3065, 'flies': 1756, 'neighbors': 2994, 'snl': 4044, 'homer': 2144, 'excessive': 1560, 'fears': 1677, 'demented': 1176, 'mighty': 2836, 'stooges': 4200, 'gray': 1963, 'olivier': 3103, 'eastern': 1408, 'nonsensical': 3031, 'album': 175, 'morris': 2908, 'retired': 3664, 'bourne': 554, 'rank': 3518, 'pit': 3278, 'damon': 1101, 'warriors': 4803, 'perry': 3237, 'monkey': 2890, 'prequel': 3372, 'championship': 745, 'dropping': 1371, 'formulaic': 1803, 'inane': 2258, 'assumed': 329, 'continued': 970, 'bands': 392, 'boxing': 556, 'stargate': 4151, 'atlantis': 332, 'exceptionally': 1559, 'phantom': 3251, 'sits': 4006, 'jeffrey': 2391, 'transition': 4561, 'ken': 2453, 'cheated': 775, 'superhero': 4299, 'streep': 4215, 'spread': 4133, 'marty': 2749, 'rangers': 3517, '3d': 46, 'bettie': 473}\n"
     ]
    }
   ],
   "source": [
    "print(str(vocabulary))"
   ]
  },
  {
   "cell_type": "markdown",
   "metadata": {},
   "source": [
    "Once you have added the endpoint name to the Lambda function, click on **Save**. Your Lambda function is now up and running. Next we need to create a way for our web app to execute the Lambda function."
   ]
  },
  {
   "cell_type": "markdown",
   "metadata": {},
   "source": [
    "### Setting up API Gateway\n",
    "\n",
    "Now that our Lambda function is set up, it is time to create a new API using API Gateway that will trigger the Lambda function we have just created.\n",
    "\n",
    "Using AWS Console, navigate to **Amazon API Gateway** and then click on **Get started**.\n",
    "\n",
    "On the next page, make sure that **New API** is selected and give the new api a name, for example, `sentiment_analysis_web_app`. Then, click on **Create API**.\n",
    "\n",
    "Now we have created an API, however it doesn't currently do anything. What we want it to do is to trigger the Lambda function that we created earlier.\n",
    "\n",
    "Select the **Actions** dropdown menu and click **Create Method**. A new blank method will be created, select its dropdown menu and select **POST**, then click on the check mark beside it.\n",
    "\n",
    "For the integration point, make sure that **Lambda Function** is selected and click on the **Use Lambda Proxy integration**. This option makes sure that the data that is sent to the API is then sent directly to the Lambda function with no processing. It also means that the return value must be a proper response object as it will also not be processed by API Gateway.\n",
    "\n",
    "Type the name of the Lambda function you created earlier into the **Lambda Function** text entry box and then click on **Save**. Click on **OK** in the pop-up box that then appears, giving permission to API Gateway to invoke the Lambda function you created.\n",
    "\n",
    "The last step in creating the API Gateway is to select the **Actions** dropdown and click on **Deploy API**. You will need to create a new Deployment stage and name it anything you like, for example `prod`.\n",
    "\n",
    "You have now successfully set up a public API to access your SageMaker model. Make sure to copy or write down the URL provided to invoke your newly created public API as this will be needed in the next step. This URL can be found at the top of the page, highlighted in blue next to the text **Invoke URL**."
   ]
  },
  {
   "cell_type": "markdown",
   "metadata": {},
   "source": [
    "## Step 7: Deploying our web app\n",
    "\n",
    "Now that we have a publicly available API, we can start using it in a web app. For our purposes, we have provided a simple static html file which can make use of the public api you created earlier.\n",
    "\n",
    "In the `website` folder there should be a file called `index.html`. Download the file to your computer and open that file up in a text editor of your choice. There should be a line which contains **\\*\\*REPLACE WITH PUBLIC API URL\\*\\***. Replace this string with the url that you wrote down in the last step and then save the file.\n",
    "\n",
    "Now, if you open `index.html` on your local computer, your browser will behave as a local web server and you can use the provided site to interact with your SageMaker model.\n",
    "\n",
    "If you'd like to go further, you can host this html file anywhere you'd like, for example using github or hosting a static site on Amazon's S3. Once you have done this you can share the link with anyone you'd like and have them play with it too!\n",
    "\n",
    "> **Important Note** In order for the web app to communicate with the SageMaker endpoint, the endpoint has to actually be deployed and running. This means that you are paying for it. Make sure that the endpoint is running when you want to use the web app but that you shut it down when you don't need it, otherwise you will end up with a surprisingly large AWS bill."
   ]
  },
  {
   "cell_type": "markdown",
   "metadata": {},
   "source": [
    "### Delete the endpoint\n",
    "\n",
    "Remember to always shut down your endpoint if you are no longer using it. You are charged for the length of time that the endpoint is running so if you forget and leave it on you could end up with an unexpectedly large bill."
   ]
  },
  {
   "cell_type": "code",
   "execution_count": 53,
   "metadata": {},
   "outputs": [],
   "source": [
    "xgb_predictor.delete_endpoint()"
   ]
  },
  {
   "cell_type": "markdown",
   "metadata": {},
   "source": [
    "## Optional: Clean up\n",
    "\n",
    "The default notebook instance on SageMaker doesn't have a lot of excess disk space available. As you continue to complete and execute notebooks you will eventually fill up this disk space, leading to errors which can be difficult to diagnose. Once you are completely finished using a notebook it is a good idea to remove the files that you created along the way. Of course, you can do this from the terminal or from the notebook hub if you would like. The cell below contains some commands to clean up the created files from within the notebook."
   ]
  },
  {
   "cell_type": "code",
   "execution_count": 54,
   "metadata": {},
   "outputs": [
    {
     "ename": "OSError",
     "evalue": "[Errno 12] Cannot allocate memory",
     "output_type": "error",
     "traceback": [
      "\u001b[0;31m---------------------------------------------------------------------------\u001b[0m",
      "\u001b[0;31mOSError\u001b[0m                                   Traceback (most recent call last)",
      "\u001b[0;32m<ipython-input-54-2c87d8eefdf2>\u001b[0m in \u001b[0;36m<module>\u001b[0;34m\u001b[0m\n\u001b[1;32m      1\u001b[0m \u001b[0;31m# First we will remove all of the files contained in the data_dir directory\u001b[0m\u001b[0;34m\u001b[0m\u001b[0;34m\u001b[0m\u001b[0;34m\u001b[0m\u001b[0m\n\u001b[0;32m----> 2\u001b[0;31m \u001b[0mget_ipython\u001b[0m\u001b[0;34m(\u001b[0m\u001b[0;34m)\u001b[0m\u001b[0;34m.\u001b[0m\u001b[0msystem\u001b[0m\u001b[0;34m(\u001b[0m\u001b[0;34m'rm $data_dir/*'\u001b[0m\u001b[0;34m)\u001b[0m\u001b[0;34m\u001b[0m\u001b[0;34m\u001b[0m\u001b[0m\n\u001b[0m\u001b[1;32m      3\u001b[0m \u001b[0;34m\u001b[0m\u001b[0m\n\u001b[1;32m      4\u001b[0m \u001b[0;31m# And then we delete the directory itself\u001b[0m\u001b[0;34m\u001b[0m\u001b[0;34m\u001b[0m\u001b[0;34m\u001b[0m\u001b[0m\n\u001b[1;32m      5\u001b[0m \u001b[0mget_ipython\u001b[0m\u001b[0;34m(\u001b[0m\u001b[0;34m)\u001b[0m\u001b[0;34m.\u001b[0m\u001b[0msystem\u001b[0m\u001b[0;34m(\u001b[0m\u001b[0;34m'rmdir $data_dir'\u001b[0m\u001b[0;34m)\u001b[0m\u001b[0;34m\u001b[0m\u001b[0;34m\u001b[0m\u001b[0m\n",
      "\u001b[0;32m~/anaconda3/envs/python3/lib/python3.6/site-packages/ipykernel/zmqshell.py\u001b[0m in \u001b[0;36msystem_piped\u001b[0;34m(self, cmd)\u001b[0m\n\u001b[1;32m    645\u001b[0m                 \u001b[0mself\u001b[0m\u001b[0;34m.\u001b[0m\u001b[0muser_ns\u001b[0m\u001b[0;34m[\u001b[0m\u001b[0;34m'_exit_code'\u001b[0m\u001b[0;34m]\u001b[0m \u001b[0;34m=\u001b[0m \u001b[0msystem\u001b[0m\u001b[0;34m(\u001b[0m\u001b[0mcmd\u001b[0m\u001b[0;34m)\u001b[0m\u001b[0;34m\u001b[0m\u001b[0;34m\u001b[0m\u001b[0m\n\u001b[1;32m    646\u001b[0m         \u001b[0;32melse\u001b[0m\u001b[0;34m:\u001b[0m\u001b[0;34m\u001b[0m\u001b[0;34m\u001b[0m\u001b[0m\n\u001b[0;32m--> 647\u001b[0;31m             \u001b[0mself\u001b[0m\u001b[0;34m.\u001b[0m\u001b[0muser_ns\u001b[0m\u001b[0;34m[\u001b[0m\u001b[0;34m'_exit_code'\u001b[0m\u001b[0;34m]\u001b[0m \u001b[0;34m=\u001b[0m \u001b[0msystem\u001b[0m\u001b[0;34m(\u001b[0m\u001b[0mself\u001b[0m\u001b[0;34m.\u001b[0m\u001b[0mvar_expand\u001b[0m\u001b[0;34m(\u001b[0m\u001b[0mcmd\u001b[0m\u001b[0;34m,\u001b[0m \u001b[0mdepth\u001b[0m\u001b[0;34m=\u001b[0m\u001b[0;36m1\u001b[0m\u001b[0;34m)\u001b[0m\u001b[0;34m)\u001b[0m\u001b[0;34m\u001b[0m\u001b[0;34m\u001b[0m\u001b[0m\n\u001b[0m\u001b[1;32m    648\u001b[0m \u001b[0;34m\u001b[0m\u001b[0m\n\u001b[1;32m    649\u001b[0m     \u001b[0;31m# Ensure new system_piped implementation is used\u001b[0m\u001b[0;34m\u001b[0m\u001b[0;34m\u001b[0m\u001b[0;34m\u001b[0m\u001b[0m\n",
      "\u001b[0;32m~/anaconda3/envs/python3/lib/python3.6/site-packages/IPython/utils/_process_posix.py\u001b[0m in \u001b[0;36msystem\u001b[0;34m(self, cmd)\u001b[0m\n\u001b[1;32m    155\u001b[0m                 \u001b[0mchild\u001b[0m \u001b[0;34m=\u001b[0m \u001b[0mpexpect\u001b[0m\u001b[0;34m.\u001b[0m\u001b[0mspawnb\u001b[0m\u001b[0;34m(\u001b[0m\u001b[0mself\u001b[0m\u001b[0;34m.\u001b[0m\u001b[0msh\u001b[0m\u001b[0;34m,\u001b[0m \u001b[0margs\u001b[0m\u001b[0;34m=\u001b[0m\u001b[0;34m[\u001b[0m\u001b[0;34m'-c'\u001b[0m\u001b[0;34m,\u001b[0m \u001b[0mcmd\u001b[0m\u001b[0;34m]\u001b[0m\u001b[0;34m)\u001b[0m \u001b[0;31m# Pexpect-U\u001b[0m\u001b[0;34m\u001b[0m\u001b[0;34m\u001b[0m\u001b[0m\n\u001b[1;32m    156\u001b[0m             \u001b[0;32melse\u001b[0m\u001b[0;34m:\u001b[0m\u001b[0;34m\u001b[0m\u001b[0;34m\u001b[0m\u001b[0m\n\u001b[0;32m--> 157\u001b[0;31m                 \u001b[0mchild\u001b[0m \u001b[0;34m=\u001b[0m \u001b[0mpexpect\u001b[0m\u001b[0;34m.\u001b[0m\u001b[0mspawn\u001b[0m\u001b[0;34m(\u001b[0m\u001b[0mself\u001b[0m\u001b[0;34m.\u001b[0m\u001b[0msh\u001b[0m\u001b[0;34m,\u001b[0m \u001b[0margs\u001b[0m\u001b[0;34m=\u001b[0m\u001b[0;34m[\u001b[0m\u001b[0;34m'-c'\u001b[0m\u001b[0;34m,\u001b[0m \u001b[0mcmd\u001b[0m\u001b[0;34m]\u001b[0m\u001b[0;34m)\u001b[0m  \u001b[0;31m# Vanilla Pexpect\u001b[0m\u001b[0;34m\u001b[0m\u001b[0;34m\u001b[0m\u001b[0m\n\u001b[0m\u001b[1;32m    158\u001b[0m             \u001b[0mflush\u001b[0m \u001b[0;34m=\u001b[0m \u001b[0msys\u001b[0m\u001b[0;34m.\u001b[0m\u001b[0mstdout\u001b[0m\u001b[0;34m.\u001b[0m\u001b[0mflush\u001b[0m\u001b[0;34m\u001b[0m\u001b[0;34m\u001b[0m\u001b[0m\n\u001b[1;32m    159\u001b[0m             \u001b[0;32mwhile\u001b[0m \u001b[0;32mTrue\u001b[0m\u001b[0;34m:\u001b[0m\u001b[0;34m\u001b[0m\u001b[0;34m\u001b[0m\u001b[0m\n",
      "\u001b[0;32m~/anaconda3/envs/python3/lib/python3.6/site-packages/pexpect/pty_spawn.py\u001b[0m in \u001b[0;36m__init__\u001b[0;34m(self, command, args, timeout, maxread, searchwindowsize, logfile, cwd, env, ignore_sighup, echo, preexec_fn, encoding, codec_errors, dimensions, use_poll)\u001b[0m\n\u001b[1;32m    203\u001b[0m             \u001b[0mself\u001b[0m\u001b[0;34m.\u001b[0m\u001b[0mname\u001b[0m \u001b[0;34m=\u001b[0m \u001b[0;34m'<pexpect factory incomplete>'\u001b[0m\u001b[0;34m\u001b[0m\u001b[0;34m\u001b[0m\u001b[0m\n\u001b[1;32m    204\u001b[0m         \u001b[0;32melse\u001b[0m\u001b[0;34m:\u001b[0m\u001b[0;34m\u001b[0m\u001b[0;34m\u001b[0m\u001b[0m\n\u001b[0;32m--> 205\u001b[0;31m             \u001b[0mself\u001b[0m\u001b[0;34m.\u001b[0m\u001b[0m_spawn\u001b[0m\u001b[0;34m(\u001b[0m\u001b[0mcommand\u001b[0m\u001b[0;34m,\u001b[0m \u001b[0margs\u001b[0m\u001b[0;34m,\u001b[0m \u001b[0mpreexec_fn\u001b[0m\u001b[0;34m,\u001b[0m \u001b[0mdimensions\u001b[0m\u001b[0;34m)\u001b[0m\u001b[0;34m\u001b[0m\u001b[0;34m\u001b[0m\u001b[0m\n\u001b[0m\u001b[1;32m    206\u001b[0m         \u001b[0mself\u001b[0m\u001b[0;34m.\u001b[0m\u001b[0muse_poll\u001b[0m \u001b[0;34m=\u001b[0m \u001b[0muse_poll\u001b[0m\u001b[0;34m\u001b[0m\u001b[0;34m\u001b[0m\u001b[0m\n\u001b[1;32m    207\u001b[0m \u001b[0;34m\u001b[0m\u001b[0m\n",
      "\u001b[0;32m~/anaconda3/envs/python3/lib/python3.6/site-packages/pexpect/pty_spawn.py\u001b[0m in \u001b[0;36m_spawn\u001b[0;34m(self, command, args, preexec_fn, dimensions)\u001b[0m\n\u001b[1;32m    302\u001b[0m \u001b[0;34m\u001b[0m\u001b[0m\n\u001b[1;32m    303\u001b[0m         self.ptyproc = self._spawnpty(self.args, env=self.env,\n\u001b[0;32m--> 304\u001b[0;31m                                      cwd=self.cwd, **kwargs)\n\u001b[0m\u001b[1;32m    305\u001b[0m \u001b[0;34m\u001b[0m\u001b[0m\n\u001b[1;32m    306\u001b[0m         \u001b[0mself\u001b[0m\u001b[0;34m.\u001b[0m\u001b[0mpid\u001b[0m \u001b[0;34m=\u001b[0m \u001b[0mself\u001b[0m\u001b[0;34m.\u001b[0m\u001b[0mptyproc\u001b[0m\u001b[0;34m.\u001b[0m\u001b[0mpid\u001b[0m\u001b[0;34m\u001b[0m\u001b[0;34m\u001b[0m\u001b[0m\n",
      "\u001b[0;32m~/anaconda3/envs/python3/lib/python3.6/site-packages/pexpect/pty_spawn.py\u001b[0m in \u001b[0;36m_spawnpty\u001b[0;34m(self, args, **kwargs)\u001b[0m\n\u001b[1;32m    313\u001b[0m     \u001b[0;32mdef\u001b[0m \u001b[0m_spawnpty\u001b[0m\u001b[0;34m(\u001b[0m\u001b[0mself\u001b[0m\u001b[0;34m,\u001b[0m \u001b[0margs\u001b[0m\u001b[0;34m,\u001b[0m \u001b[0;34m**\u001b[0m\u001b[0mkwargs\u001b[0m\u001b[0;34m)\u001b[0m\u001b[0;34m:\u001b[0m\u001b[0;34m\u001b[0m\u001b[0;34m\u001b[0m\u001b[0m\n\u001b[1;32m    314\u001b[0m         \u001b[0;34m'''Spawn a pty and return an instance of PtyProcess.'''\u001b[0m\u001b[0;34m\u001b[0m\u001b[0;34m\u001b[0m\u001b[0m\n\u001b[0;32m--> 315\u001b[0;31m         \u001b[0;32mreturn\u001b[0m \u001b[0mptyprocess\u001b[0m\u001b[0;34m.\u001b[0m\u001b[0mPtyProcess\u001b[0m\u001b[0;34m.\u001b[0m\u001b[0mspawn\u001b[0m\u001b[0;34m(\u001b[0m\u001b[0margs\u001b[0m\u001b[0;34m,\u001b[0m \u001b[0;34m**\u001b[0m\u001b[0mkwargs\u001b[0m\u001b[0;34m)\u001b[0m\u001b[0;34m\u001b[0m\u001b[0;34m\u001b[0m\u001b[0m\n\u001b[0m\u001b[1;32m    316\u001b[0m \u001b[0;34m\u001b[0m\u001b[0m\n\u001b[1;32m    317\u001b[0m     \u001b[0;32mdef\u001b[0m \u001b[0mclose\u001b[0m\u001b[0;34m(\u001b[0m\u001b[0mself\u001b[0m\u001b[0;34m,\u001b[0m \u001b[0mforce\u001b[0m\u001b[0;34m=\u001b[0m\u001b[0;32mTrue\u001b[0m\u001b[0;34m)\u001b[0m\u001b[0;34m:\u001b[0m\u001b[0;34m\u001b[0m\u001b[0;34m\u001b[0m\u001b[0m\n",
      "\u001b[0;32m~/anaconda3/envs/python3/lib/python3.6/site-packages/ptyprocess/ptyprocess.py\u001b[0m in \u001b[0;36mspawn\u001b[0;34m(cls, argv, cwd, env, echo, preexec_fn, dimensions, pass_fds)\u001b[0m\n\u001b[1;32m    228\u001b[0m \u001b[0;34m\u001b[0m\u001b[0m\n\u001b[1;32m    229\u001b[0m         \u001b[0;32mif\u001b[0m \u001b[0muse_native_pty_fork\u001b[0m\u001b[0;34m:\u001b[0m\u001b[0;34m\u001b[0m\u001b[0;34m\u001b[0m\u001b[0m\n\u001b[0;32m--> 230\u001b[0;31m             \u001b[0mpid\u001b[0m\u001b[0;34m,\u001b[0m \u001b[0mfd\u001b[0m \u001b[0;34m=\u001b[0m \u001b[0mpty\u001b[0m\u001b[0;34m.\u001b[0m\u001b[0mfork\u001b[0m\u001b[0;34m(\u001b[0m\u001b[0;34m)\u001b[0m\u001b[0;34m\u001b[0m\u001b[0;34m\u001b[0m\u001b[0m\n\u001b[0m\u001b[1;32m    231\u001b[0m         \u001b[0;32melse\u001b[0m\u001b[0;34m:\u001b[0m\u001b[0;34m\u001b[0m\u001b[0;34m\u001b[0m\u001b[0m\n\u001b[1;32m    232\u001b[0m             \u001b[0;31m# Use internal fork_pty, for Solaris\u001b[0m\u001b[0;34m\u001b[0m\u001b[0;34m\u001b[0m\u001b[0;34m\u001b[0m\u001b[0m\n",
      "\u001b[0;32m~/anaconda3/envs/python3/lib/python3.6/pty.py\u001b[0m in \u001b[0;36mfork\u001b[0;34m()\u001b[0m\n\u001b[1;32m     95\u001b[0m \u001b[0;34m\u001b[0m\u001b[0m\n\u001b[1;32m     96\u001b[0m     \u001b[0mmaster_fd\u001b[0m\u001b[0;34m,\u001b[0m \u001b[0mslave_fd\u001b[0m \u001b[0;34m=\u001b[0m \u001b[0mopenpty\u001b[0m\u001b[0;34m(\u001b[0m\u001b[0;34m)\u001b[0m\u001b[0;34m\u001b[0m\u001b[0;34m\u001b[0m\u001b[0m\n\u001b[0;32m---> 97\u001b[0;31m     \u001b[0mpid\u001b[0m \u001b[0;34m=\u001b[0m \u001b[0mos\u001b[0m\u001b[0;34m.\u001b[0m\u001b[0mfork\u001b[0m\u001b[0;34m(\u001b[0m\u001b[0;34m)\u001b[0m\u001b[0;34m\u001b[0m\u001b[0;34m\u001b[0m\u001b[0m\n\u001b[0m\u001b[1;32m     98\u001b[0m     \u001b[0;32mif\u001b[0m \u001b[0mpid\u001b[0m \u001b[0;34m==\u001b[0m \u001b[0mCHILD\u001b[0m\u001b[0;34m:\u001b[0m\u001b[0;34m\u001b[0m\u001b[0;34m\u001b[0m\u001b[0m\n\u001b[1;32m     99\u001b[0m         \u001b[0;31m# Establish a new session.\u001b[0m\u001b[0;34m\u001b[0m\u001b[0;34m\u001b[0m\u001b[0;34m\u001b[0m\u001b[0m\n",
      "\u001b[0;31mOSError\u001b[0m: [Errno 12] Cannot allocate memory"
     ]
    }
   ],
   "source": [
    "# First we will remove all of the files contained in the data_dir directory\n",
    "!rm $data_dir/*\n",
    "\n",
    "# And then we delete the directory itself\n",
    "!rmdir $data_dir\n",
    "\n",
    "# Similarly we remove the files in the cache_dir directory and the directory itself\n",
    "!rm $cache_dir/*\n",
    "!rmdir $cache_dir"
   ]
  },
  {
   "cell_type": "code",
   "execution_count": null,
   "metadata": {},
   "outputs": [],
   "source": []
  }
 ],
 "metadata": {
  "kernelspec": {
   "display_name": "conda_python3",
   "language": "python",
   "name": "conda_python3"
  },
  "language_info": {
   "codemirror_mode": {
    "name": "ipython",
    "version": 3
   },
   "file_extension": ".py",
   "mimetype": "text/x-python",
   "name": "python",
   "nbconvert_exporter": "python",
   "pygments_lexer": "ipython3",
   "version": "3.6.13"
  }
 },
 "nbformat": 4,
 "nbformat_minor": 2
}
